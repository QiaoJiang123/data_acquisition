{
 "cells": [
  {
   "cell_type": "code",
   "execution_count": 1,
   "metadata": {},
   "outputs": [],
   "source": [
    "import pandas as pd\n",
    "from math import sin, cos, sqrt, atan2, radians\n",
    "import time\n",
    "import multiprocessing\n",
    "import os\n",
    "from multiprocessing import Pool\n",
    "import multiprocessing.pool\n",
    "import bs4 as bs\n",
    "import urllib.request\n",
    "import numpy as np"
   ]
  },
  {
   "cell_type": "code",
   "execution_count": 2,
   "metadata": {},
   "outputs": [],
   "source": [
    "import fitz\n",
    "import glob\n",
    "import pandas as pd\n",
    "import re\n",
    "from operator import itemgetter\n",
    "from itertools import groupby"
   ]
  },
  {
   "cell_type": "code",
   "execution_count": 3,
   "metadata": {},
   "outputs": [],
   "source": [
    "broker_pdf_list = glob.glob('C:/Users/i26184/Desktop/Broker/Broker_PDF/*.pdf')"
   ]
  },
  {
   "cell_type": "code",
   "execution_count": 4,
   "metadata": {},
   "outputs": [
    {
     "data": {
      "text/plain": [
       "26184"
      ]
     },
     "execution_count": 4,
     "metadata": {},
     "output_type": "execute_result"
    }
   ],
   "source": [
    "max([int(re.findall(r'\\d+',x)[0]) for x in broker_pdf_list])"
   ]
  },
  {
   "cell_type": "code",
   "execution_count": 5,
   "metadata": {
    "scrolled": true
   },
   "outputs": [
    {
     "data": {
      "text/plain": [
       "['C:/Users/i26184/Desktop/Broker/Broker_PDF\\\\individual_2498722.pdf',\n",
       " 'C:/Users/i26184/Desktop/Broker/Broker_PDF\\\\individual_31169.pdf',\n",
       " 'C:/Users/i26184/Desktop/Broker/Broker_PDF\\\\individual_816404.pdf',\n",
       " 'C:/Users/i26184/Desktop/Broker/Broker_PDF\\\\individual_816436.pdf',\n",
       " 'C:/Users/i26184/Desktop/Broker/Broker_PDF\\\\individual_816439.pdf',\n",
       " 'C:/Users/i26184/Desktop/Broker/Broker_PDF\\\\individual_816452.pdf',\n",
       " 'C:/Users/i26184/Desktop/Broker/Broker_PDF\\\\individual_816461.pdf',\n",
       " 'C:/Users/i26184/Desktop/Broker/Broker_PDF\\\\individual_816467.pdf',\n",
       " 'C:/Users/i26184/Desktop/Broker/Broker_PDF\\\\individual_816472.pdf',\n",
       " 'C:/Users/i26184/Desktop/Broker/Broker_PDF\\\\individual_816473.pdf',\n",
       " 'C:/Users/i26184/Desktop/Broker/Broker_PDF\\\\individual_816494.pdf',\n",
       " 'C:/Users/i26184/Desktop/Broker/Broker_PDF\\\\individual_816500.pdf',\n",
       " 'C:/Users/i26184/Desktop/Broker/Broker_PDF\\\\individual_816501.pdf',\n",
       " 'C:/Users/i26184/Desktop/Broker/Broker_PDF\\\\individual_816506.pdf',\n",
       " 'C:/Users/i26184/Desktop/Broker/Broker_PDF\\\\individual_816507.pdf',\n",
       " 'C:/Users/i26184/Desktop/Broker/Broker_PDF\\\\individual_816510.pdf',\n",
       " 'C:/Users/i26184/Desktop/Broker/Broker_PDF\\\\individual_816511.pdf',\n",
       " 'C:/Users/i26184/Desktop/Broker/Broker_PDF\\\\individual_816514.pdf',\n",
       " 'C:/Users/i26184/Desktop/Broker/Broker_PDF\\\\individual_816515.pdf',\n",
       " 'C:/Users/i26184/Desktop/Broker/Broker_PDF\\\\individual_816516.pdf',\n",
       " 'C:/Users/i26184/Desktop/Broker/Broker_PDF\\\\individual_816517.pdf',\n",
       " 'C:/Users/i26184/Desktop/Broker/Broker_PDF\\\\individual_816523.pdf',\n",
       " 'C:/Users/i26184/Desktop/Broker/Broker_PDF\\\\individual_816524.pdf',\n",
       " 'C:/Users/i26184/Desktop/Broker/Broker_PDF\\\\individual_816526.pdf',\n",
       " 'C:/Users/i26184/Desktop/Broker/Broker_PDF\\\\individual_816529.pdf',\n",
       " 'C:/Users/i26184/Desktop/Broker/Broker_PDF\\\\individual_816536.pdf',\n",
       " 'C:/Users/i26184/Desktop/Broker/Broker_PDF\\\\individual_816538.pdf',\n",
       " 'C:/Users/i26184/Desktop/Broker/Broker_PDF\\\\individual_816542.pdf',\n",
       " 'C:/Users/i26184/Desktop/Broker/Broker_PDF\\\\individual_816546.pdf',\n",
       " 'C:/Users/i26184/Desktop/Broker/Broker_PDF\\\\individual_816557.pdf',\n",
       " 'C:/Users/i26184/Desktop/Broker/Broker_PDF\\\\individual_816558.pdf',\n",
       " 'C:/Users/i26184/Desktop/Broker/Broker_PDF\\\\individual_816559.pdf',\n",
       " 'C:/Users/i26184/Desktop/Broker/Broker_PDF\\\\individual_816561.pdf',\n",
       " 'C:/Users/i26184/Desktop/Broker/Broker_PDF\\\\individual_816568.pdf',\n",
       " 'C:/Users/i26184/Desktop/Broker/Broker_PDF\\\\individual_816572.pdf',\n",
       " 'C:/Users/i26184/Desktop/Broker/Broker_PDF\\\\individual_816574.pdf',\n",
       " 'C:/Users/i26184/Desktop/Broker/Broker_PDF\\\\individual_816578.pdf',\n",
       " 'C:/Users/i26184/Desktop/Broker/Broker_PDF\\\\individual_816579.pdf',\n",
       " 'C:/Users/i26184/Desktop/Broker/Broker_PDF\\\\individual_816588.pdf',\n",
       " 'C:/Users/i26184/Desktop/Broker/Broker_PDF\\\\individual_816597.pdf',\n",
       " 'C:/Users/i26184/Desktop/Broker/Broker_PDF\\\\individual_816602.pdf',\n",
       " 'C:/Users/i26184/Desktop/Broker/Broker_PDF\\\\individual_816606.pdf',\n",
       " 'C:/Users/i26184/Desktop/Broker/Broker_PDF\\\\individual_816612.pdf',\n",
       " 'C:/Users/i26184/Desktop/Broker/Broker_PDF\\\\individual_816631.pdf',\n",
       " 'C:/Users/i26184/Desktop/Broker/Broker_PDF\\\\individual_816632.pdf',\n",
       " 'C:/Users/i26184/Desktop/Broker/Broker_PDF\\\\individual_816643.pdf',\n",
       " 'C:/Users/i26184/Desktop/Broker/Broker_PDF\\\\individual_816644.pdf',\n",
       " 'C:/Users/i26184/Desktop/Broker/Broker_PDF\\\\individual_816645.pdf',\n",
       " 'C:/Users/i26184/Desktop/Broker/Broker_PDF\\\\individual_816649.pdf',\n",
       " 'C:/Users/i26184/Desktop/Broker/Broker_PDF\\\\individual_816659.pdf',\n",
       " 'C:/Users/i26184/Desktop/Broker/Broker_PDF\\\\individual_816664.pdf',\n",
       " 'C:/Users/i26184/Desktop/Broker/Broker_PDF\\\\individual_816665.pdf',\n",
       " 'C:/Users/i26184/Desktop/Broker/Broker_PDF\\\\individual_816666.pdf',\n",
       " 'C:/Users/i26184/Desktop/Broker/Broker_PDF\\\\individual_816676.pdf',\n",
       " 'C:/Users/i26184/Desktop/Broker/Broker_PDF\\\\individual_816681.pdf',\n",
       " 'C:/Users/i26184/Desktop/Broker/Broker_PDF\\\\individual_816684.pdf',\n",
       " 'C:/Users/i26184/Desktop/Broker/Broker_PDF\\\\individual_816688.pdf',\n",
       " 'C:/Users/i26184/Desktop/Broker/Broker_PDF\\\\individual_816690.pdf',\n",
       " 'C:/Users/i26184/Desktop/Broker/Broker_PDF\\\\individual_816691.pdf',\n",
       " 'C:/Users/i26184/Desktop/Broker/Broker_PDF\\\\individual_816693.pdf',\n",
       " 'C:/Users/i26184/Desktop/Broker/Broker_PDF\\\\individual_816695.pdf',\n",
       " 'C:/Users/i26184/Desktop/Broker/Broker_PDF\\\\individual_816696.pdf',\n",
       " 'C:/Users/i26184/Desktop/Broker/Broker_PDF\\\\individual_816697.pdf',\n",
       " 'C:/Users/i26184/Desktop/Broker/Broker_PDF\\\\individual_816698.pdf',\n",
       " 'C:/Users/i26184/Desktop/Broker/Broker_PDF\\\\individual_816699.pdf',\n",
       " 'C:/Users/i26184/Desktop/Broker/Broker_PDF\\\\individual_816700.pdf',\n",
       " 'C:/Users/i26184/Desktop/Broker/Broker_PDF\\\\individual_816704.pdf',\n",
       " 'C:/Users/i26184/Desktop/Broker/Broker_PDF\\\\individual_816705.pdf',\n",
       " 'C:/Users/i26184/Desktop/Broker/Broker_PDF\\\\individual_816707.pdf',\n",
       " 'C:/Users/i26184/Desktop/Broker/Broker_PDF\\\\individual_816716.pdf',\n",
       " 'C:/Users/i26184/Desktop/Broker/Broker_PDF\\\\individual_816718.pdf',\n",
       " 'C:/Users/i26184/Desktop/Broker/Broker_PDF\\\\individual_816720.pdf',\n",
       " 'C:/Users/i26184/Desktop/Broker/Broker_PDF\\\\individual_816725.pdf',\n",
       " 'C:/Users/i26184/Desktop/Broker/Broker_PDF\\\\individual_816727.pdf',\n",
       " 'C:/Users/i26184/Desktop/Broker/Broker_PDF\\\\individual_816731.pdf',\n",
       " 'C:/Users/i26184/Desktop/Broker/Broker_PDF\\\\individual_816732.pdf',\n",
       " 'C:/Users/i26184/Desktop/Broker/Broker_PDF\\\\individual_816733.pdf',\n",
       " 'C:/Users/i26184/Desktop/Broker/Broker_PDF\\\\individual_816736.pdf',\n",
       " 'C:/Users/i26184/Desktop/Broker/Broker_PDF\\\\individual_816737.pdf',\n",
       " 'C:/Users/i26184/Desktop/Broker/Broker_PDF\\\\individual_816738.pdf',\n",
       " 'C:/Users/i26184/Desktop/Broker/Broker_PDF\\\\individual_816739.pdf',\n",
       " 'C:/Users/i26184/Desktop/Broker/Broker_PDF\\\\individual_816740.pdf',\n",
       " 'C:/Users/i26184/Desktop/Broker/Broker_PDF\\\\individual_816744.pdf',\n",
       " 'C:/Users/i26184/Desktop/Broker/Broker_PDF\\\\individual_816745.pdf',\n",
       " 'C:/Users/i26184/Desktop/Broker/Broker_PDF\\\\individual_816751.pdf',\n",
       " 'C:/Users/i26184/Desktop/Broker/Broker_PDF\\\\individual_816752.pdf',\n",
       " 'C:/Users/i26184/Desktop/Broker/Broker_PDF\\\\individual_816753.pdf',\n",
       " 'C:/Users/i26184/Desktop/Broker/Broker_PDF\\\\individual_816756.pdf',\n",
       " 'C:/Users/i26184/Desktop/Broker/Broker_PDF\\\\individual_816759.pdf',\n",
       " 'C:/Users/i26184/Desktop/Broker/Broker_PDF\\\\individual_816762.pdf',\n",
       " 'C:/Users/i26184/Desktop/Broker/Broker_PDF\\\\individual_816764.pdf',\n",
       " 'C:/Users/i26184/Desktop/Broker/Broker_PDF\\\\individual_816765.pdf',\n",
       " 'C:/Users/i26184/Desktop/Broker/Broker_PDF\\\\individual_816767.pdf',\n",
       " 'C:/Users/i26184/Desktop/Broker/Broker_PDF\\\\individual_816769.pdf',\n",
       " 'C:/Users/i26184/Desktop/Broker/Broker_PDF\\\\individual_816770.pdf',\n",
       " 'C:/Users/i26184/Desktop/Broker/Broker_PDF\\\\individual_816772.pdf',\n",
       " 'C:/Users/i26184/Desktop/Broker/Broker_PDF\\\\individual_816775.pdf',\n",
       " 'C:/Users/i26184/Desktop/Broker/Broker_PDF\\\\individual_816777.pdf',\n",
       " 'C:/Users/i26184/Desktop/Broker/Broker_PDF\\\\individual_816779.pdf',\n",
       " 'C:/Users/i26184/Desktop/Broker/Broker_PDF\\\\individual_816781.pdf',\n",
       " 'C:/Users/i26184/Desktop/Broker/Broker_PDF\\\\individual_816782.pdf',\n",
       " 'C:/Users/i26184/Desktop/Broker/Broker_PDF\\\\individual_816787.pdf',\n",
       " 'C:/Users/i26184/Desktop/Broker/Broker_PDF\\\\individual_816791.pdf',\n",
       " 'C:/Users/i26184/Desktop/Broker/Broker_PDF\\\\individual_816793.pdf',\n",
       " 'C:/Users/i26184/Desktop/Broker/Broker_PDF\\\\individual_816796.pdf',\n",
       " 'C:/Users/i26184/Desktop/Broker/Broker_PDF\\\\individual_816797.pdf',\n",
       " 'C:/Users/i26184/Desktop/Broker/Broker_PDF\\\\individual_816799.pdf']"
      ]
     },
     "execution_count": 5,
     "metadata": {},
     "output_type": "execute_result"
    }
   ],
   "source": [
    "broker_pdf_list"
   ]
  },
  {
   "cell_type": "code",
   "execution_count": 6,
   "metadata": {},
   "outputs": [
    {
     "data": {
      "text/plain": [
       "107"
      ]
     },
     "execution_count": 6,
     "metadata": {},
     "output_type": "execute_result"
    }
   ],
   "source": [
    "len(broker_pdf_list)"
   ]
  },
  {
   "cell_type": "code",
   "execution_count": 7,
   "metadata": {},
   "outputs": [],
   "source": [
    "broker_pdf_list = [x.replace('\\\\','/') for x in broker_pdf_list]"
   ]
  },
  {
   "cell_type": "code",
   "execution_count": 8,
   "metadata": {},
   "outputs": [],
   "source": [
    "def get_broker_name_CRD(fitz_doc):\n",
    "    page1 = fitz_doc.loadPage(0)\n",
    "    page1_textblock = page1.getTextBlocks()\n",
    "    page1_textblock = [x[4] for x in page1_textblock]\n",
    "    broker_name_candiate = page1_textblock[0].split('\\n')\n",
    "    \n",
    "    if len(broker_name_candiate)==1:\n",
    "        broker_name = page1_textblock[1]\n",
    "    else:\n",
    "        broker_name = broker_name_candiate[1]\n",
    "        \n",
    "    section_start_index = [i for i in range(len(page1_textblock)) if page1_textblock[i]=='Section Title']\n",
    "    section_end_index = [i for i in range(len(page1_textblock)) if 'CRD# ' in page1_textblock[i]]\n",
    "    \n",
    "    if len(section_end_index) == 0:\n",
    "        CRD_number = 'NO CRD Number'\n",
    "    else:\n",
    "        CRD_number = page1_textblock[section_end_index[0]].split()[-1]\n",
    "        \n",
    "    return pd.DataFrame({'CRD Number':[CRD_number],\n",
    "                         'Broker Name':[broker_name]})"
   ]
  },
  {
   "cell_type": "code",
   "execution_count": 9,
   "metadata": {},
   "outputs": [],
   "source": [
    "def get_broker_name_CRD_Pool(file):\n",
    "    try:\n",
    "        fitz_doc = fitz.open(file)\n",
    "        page1 = fitz_doc.loadPage(0)\n",
    "        page1_textblock = page1.getTextBlocks()\n",
    "        page1_textblock = [x[4] for x in page1_textblock]\n",
    "        broker_name_candiate = page1_textblock[0].split('\\n')\n",
    "\n",
    "        if len(broker_name_candiate)==1:\n",
    "            broker_name = page1_textblock[1]\n",
    "        else:\n",
    "            broker_name = broker_name_candiate[1]\n",
    "\n",
    "        section_start_index = [i for i in range(len(page1_textblock)) if page1_textblock[i]=='Section Title']\n",
    "        section_end_index = [i for i in range(len(page1_textblock)) if 'CRD# ' in page1_textblock[i]]\n",
    "\n",
    "        if len(section_end_index) == 0:\n",
    "            CRD_number = 'NO CRD Number'\n",
    "        else:\n",
    "            CRD_number = page1_textblock[section_end_index[0]].split()[-1]\n",
    "\n",
    "        return (file,broker_name,CRD_number)\n",
    "    except:\n",
    "        print(file)\n",
    "        \n",
    "        return (file,'Error','Error')"
   ]
  },
  {
   "cell_type": "markdown",
   "metadata": {},
   "source": [
    "1. /home/ubuntu/Broker/individual_355047.pdf - Failed to load pdf\n",
    "2. "
   ]
  },
  {
   "cell_type": "code",
   "execution_count": 10,
   "metadata": {},
   "outputs": [],
   "source": [
    "def get_section_info(fitz_doc):\n",
    "    page1 = fitz_doc.loadPage(0)\n",
    "    page1_textblock = page1.getTextBlocks()\n",
    "    page1_textblock = [x[4] for x in page1_textblock]\n",
    "    \n",
    "    section_start_index = [i for i in range(len(page1_textblock)) if page1_textblock[i]=='Section Title']\n",
    "    section_end_index = [i for i in range(len(page1_textblock)) if 'CRD# ' in page1_textblock[i]]\n",
    "    \n",
    "    if len(section_end_index) == 0:\n",
    "        CRD_number = 'NO CRD Number'\n",
    "    else:\n",
    "        CRD_number = page1_textblock[section_end_index[0]].split()[-1]\n",
    "    \n",
    "    if len(section_start_index)==0:\n",
    "        return pd.DataFrame({'CRD Number':[CRD_number],\n",
    "                             'Section Titles':['No Section'],\n",
    "                             'Section Pages':['No Section']})\n",
    "    section_titles = page1_textblock[(section_start_index[0]+1):section_end_index[0]]\n",
    "    \n",
    "    section_pages = page1_textblock[(section_end_index[0]+1):(section_end_index[0]+len(section_titles)+1)]\n",
    "    \n",
    "    return pd.DataFrame({'CRD Number':[CRD_number]*len(section_titles),\n",
    "                         'Section Titles':section_titles,\n",
    "                         'Section Pages':section_pages})"
   ]
  },
  {
   "cell_type": "code",
   "execution_count": 11,
   "metadata": {},
   "outputs": [],
   "source": [
    "def get_section_info_Pool(file):\n",
    "    CRD_number = re.findall(r'\\d+',file)[0]\n",
    "    try:\n",
    "        fitz_doc = fitz.open(file)\n",
    "        page1 = fitz_doc.loadPage(0)\n",
    "        page1_textblock = page1.getTextBlocks()\n",
    "        page1_textblock = [x[4] for x in page1_textblock]\n",
    "\n",
    "        section_start_index = [i for i in range(len(page1_textblock)) if page1_textblock[i]=='Section Title']\n",
    "        section_end_index = [i for i in range(len(page1_textblock)) if 'CRD# ' in page1_textblock[i]]\n",
    "\n",
    "        if len(section_start_index)==0:\n",
    "            return pd.DataFrame({'CRD Number':[CRD_number],\n",
    "                                 'Section Titles':['No Section'],\n",
    "                                 'Section Pages':['No Section']})\n",
    "        section_titles = page1_textblock[(section_start_index[0]+1):section_end_index[0]]\n",
    "\n",
    "        section_pages = page1_textblock[(section_end_index[0]+1):(section_end_index[0]+len(section_titles)+1)]\n",
    "\n",
    "        return pd.DataFrame({'CRD Number':[CRD_number]*len(section_titles),\n",
    "                             'Section Titles':section_titles,\n",
    "                             'Section Pages':section_pages})\n",
    "    except:\n",
    "        print(file)\n",
    "        return pd.DataFrame({'CRD Number':[CRD_number],\n",
    "                             'Section Titles':['No Section'],\n",
    "                             'Section Pages':['No Section']})"
   ]
  },
  {
   "cell_type": "code",
   "execution_count": 12,
   "metadata": {},
   "outputs": [],
   "source": [
    "def get_branch_office(fitz_doc):\n",
    "    page1 = fitz_doc.loadPage(0)\n",
    "    page1_textblock = page1.getTextBlocks()\n",
    "    page1_textblock = [x[4] for x in page1_textblock]\n",
    "    \n",
    "    section_start_index = [i for i in range(len(page1_textblock)) if page1_textblock[i]=='Section Title']\n",
    "    section_end_index = [i for i in range(len(page1_textblock)) if 'CRD# ' in page1_textblock[i]]\n",
    "    \n",
    "    if len(section_end_index) == 0:\n",
    "        CRD_number = 'NO CRD Number'\n",
    "    else:\n",
    "        CRD_number = page1_textblock[section_end_index[0]].split()[-1]\n",
    "    \n",
    "    page_summary = fitz_doc.loadPage(2)\n",
    "    page_summary_textblock = page_summary.getTextBlocks()\n",
    "    page_summary_textblock = [x[4] for x in page_summary_textblock]\n",
    "    \n",
    "    if (any(['This broker is not currently registered' in x for x in page_summary_textblock]) or\n",
    "        any(['This broker is not currently registered with' in x and 'FINRA firm' in x for x in page_summary_textblock])):\n",
    "        Firm_CRD = 'NOT FOUND'\n",
    "        Start_Date = 'NOT FOUND'\n",
    "        Company_Info = 'NOT FOUND'\n",
    "    elif any(['Currently employed by and registered with' in x for x in page_summary_textblock]):\n",
    "        cutting_index = [i for i,x in enumerate(page_summary_textblock) if 'Currently employed by and registered with' in x][0]\n",
    "        Firm_CRD = re.findall(r'(\\d+)',[x for x in page_summary_textblock[cutting_index+1].split('\\n') if 'CRD' in x][0])[0]\n",
    "        Start_Date = re.findall(r'(\\d+/\\d+/\\d+)',page_summary_textblock[cutting_index+1].split('CRD#')[-1])\n",
    "        if len(Start_Date)==0:\n",
    "            Start_Date = 'NOT FOUND'\n",
    "        else:\n",
    "            Start_Date = Start_Date[0]\n",
    "        Company_Info = page_summary_textblock[cutting_index+1].split('CRD#')[0].replace('\\n',' ').strip()\n",
    "    return pd.DataFrame({'CRD Number':[CRD_number],\n",
    "                         'Company Info':[Company_Info],\n",
    "                         'Company CRD':[Firm_CRD],\n",
    "                         'Date Since':[Start_Date]})\n",
    "    print(page_summary_textblock)\n",
    "    "
   ]
  },
  {
   "cell_type": "code",
   "execution_count": null,
   "metadata": {
    "scrolled": true
   },
   "outputs": [],
   "source": [
    "section_info_df = pd.DataFrame()\n",
    "\n",
    "for file in broker_pdf_list:\n",
    "    print(file)\n",
    "    doc = fitz.open(file)\n",
    "    section_info_df = pd.concat([section_info_df,get_section_info(doc)])"
   ]
  },
  {
   "cell_type": "code",
   "execution_count": null,
   "metadata": {
    "scrolled": true
   },
   "outputs": [],
   "source": [
    "section_info_df.head(50)"
   ]
  },
  {
   "cell_type": "code",
   "execution_count": 13,
   "metadata": {},
   "outputs": [],
   "source": [
    "def separate_consecutive_numbers(num_list):\n",
    "    group_list = []\n",
    "    for k, g in groupby([(x, i-x) for i,x in enumerate(num_list)], lambda x:x[1]):\n",
    "        group_list.append(list(g))\n",
    "    group_list = [[(c[0],i) for c in x] for i,x in enumerate(group_list)]\n",
    "    return group_list"
   ]
  },
  {
   "cell_type": "code",
   "execution_count": null,
   "metadata": {},
   "outputs": [],
   "source": [
    "file = 'C:/Users/i26184/Desktop/Broker/Broker_PDF/individual_2498722.pdf'"
   ]
  },
  {
   "cell_type": "code",
   "execution_count": null,
   "metadata": {},
   "outputs": [],
   "source": [
    "doc = fitz.open(file)\n",
    "section_info_df_temp =  get_section_info(doc)\n",
    "CRD_number = re.findall(r'\\d+',file)[0]\n",
    "\n",
    "if section_info_df_temp['Section Titles'].iloc[0]!='No Section':\n",
    "    broker_qualification_page = section_info_df_temp[section_info_df_temp['Section Titles']=='Broker Qualifications']['Section Pages'].iloc[0]\n",
    "    pages = [int(x) for x in broker_qualification_page.split('-')]\n",
    "\n",
    "    broker_page_textblock = []\n",
    "    for page in range(min(pages),max(pages)+1):\n",
    "        broker_page_textblock.extend(doc.loadPage(page+1).getTextBlocks())\n",
    "else:\n",
    "    broker_page_textblock = []\n",
    "    for page in range(doc.pageCount):\n",
    "        if any(['Broker Qualifications' in c[4] for c in doc.loadPage(page).getTextBlocks()]):\n",
    "            broker_page_textblock.extend(doc.loadPage(page).getTextBlocks())"
   ]
  },
  {
   "cell_type": "code",
   "execution_count": null,
   "metadata": {},
   "outputs": [],
   "source": [
    "len(broker_page_textblock)"
   ]
  },
  {
   "cell_type": "code",
   "execution_count": null,
   "metadata": {},
   "outputs": [],
   "source": [
    "[x[4] for x in broker_page_textblock]"
   ]
  },
  {
   "cell_type": "code",
   "execution_count": 14,
   "metadata": {},
   "outputs": [],
   "source": [
    "def extract_state(x):\n",
    "    try:\n",
    "        state_value = ['ALABAMA','ALASKA','ARIZONA','ARKANSAS','CALIFORNIA','COLORADO','CONNECTICUT','DELAWARE',\n",
    "                   'FLORIDA','GEORGIA','HAWAII','IDAHO','ILLINOIS','INDIANA','IOWA','KANSAS','KENTUCKY','LOUISIANA',\n",
    "                   'MAINE','MARYLAND','MASSACHUSETTS','MICHIGAN','MINNESOTA','MISSISSIPPI','MISSOURI','MONTANA',\n",
    "                   'NEBRASKA','NEVADA','NEW HAMPSHIRE','NEW JERSEY','NEW MEXICO','NEW YORK','NORTH CAROLINA',\n",
    "                   'NORTH DAKOTA','OHIO','OKLAHOMA','OREGON','PENNSYLVANIA','RHODE ISLAND','SOUTH CAROLINA','SOUTH DAKOTA',\n",
    "                   'TENNESSEE','TEXAS','UTAH','VERMONT','VIRGINIA','WASHINGTON','WEST VIRGINIA','WISCONSIN','WYOMING',\n",
    "                   'GUAM','PUERTO RICO','VIRGIN ISLANDS','DISTRICT OF COLUMBIA']\n",
    "        state_condidates = [c for c in state_value if c.lower() in x.lower()]\n",
    "        state_condidates_length = [len(c) for c in state_condidates]\n",
    "        return ' '.join([y.capitalize() for y in [c for c in state_condidates if len(c)==max(state_condidates_length)][0].split()])\n",
    "    except:\n",
    "        return 'NOT FOUND'"
   ]
  },
  {
   "cell_type": "code",
   "execution_count": null,
   "metadata": {},
   "outputs": [],
   "source": []
  },
  {
   "cell_type": "code",
   "execution_count": null,
   "metadata": {},
   "outputs": [],
   "source": []
  },
  {
   "cell_type": "code",
   "execution_count": 75,
   "metadata": {
    "scrolled": true
   },
   "outputs": [],
   "source": [
    "def get_broker_qual_employ_from_pagetextblock(page_textblock):\n",
    "    page_textblock = [x[4] for x in page_textblock]\n",
    "    exam_section_start_index = [i for i,x in enumerate(page_textblock) if 'This individual has passed' in x or 'Industry Exams this Broker has Passed' in x][0]\n",
    "    page_textblock = page_textblock[:exam_section_start_index]\n",
    "    SRO_table_start_index = [i for i,x in enumerate(page_textblock) if all([c in x for c in ['SRO','Category','Date']])]\n",
    "    US_Territory_table_start_index = [i for i,x in enumerate(page_textblock) if 'U.S. State/\\nTerritory' in x]\n",
    "    #page_block_dated = [(i,x) for i,x in enumerate(page_textblock) if len(re.sub(r'(\\d+/\\d+/\\d+)','',x))!=len(x)]\n",
    "    broker_qual_employ = pd.DataFrame()\n",
    "    if len(SRO_table_start_index)!=0:\n",
    "        \n",
    "        if len(US_Territory_table_start_index)==0:\n",
    "            SRO_table_end_index = SRO_table_start_index[1:]+[len(page_textblock)]\n",
    "        else:\n",
    "            SRO_table_end_index = SRO_table_start_index[1:] + [US_Territory_table_start_index[0]]\n",
    "        SRO_grouped = []\n",
    "        for i in range(len(SRO_table_start_index)):\n",
    "            SRO_grouped.append(page_textblock[SRO_table_start_index[i]:SRO_table_end_index[i]])\n",
    "        \n",
    "        for SRO_grouped_each in SRO_grouped:\n",
    "            SRO_block_dated = [(i,x) for i,x in enumerate(SRO_grouped_each) if len(re.sub(r'(\\d+/\\d+/\\d+)','',x))!=len(x)]\n",
    "            for i,x in SRO_block_dated:\n",
    "                print(i,x)\n",
    "                if len(re.sub(r'(\\d+/\\d+/\\d+)','',SRO_grouped_each[i-1]))!=len(SRO_grouped_each[i-1]):\n",
    "                    #print(x)\n",
    "                    Date = re.findall(r'(\\d+/\\d+/\\d+)',x)[0]\n",
    "                    x = x.split(Date)[0]\n",
    "                    SRO_or_US_Territory = x.split('\\n')[0]\n",
    "                    x = x.split(SRO_or_US_Territory)[-1]\n",
    "                    #print(x)\n",
    "                    Category = ' '.join([c for c in x.split() if c.capitalize()==c])\n",
    "                    #print(Category)\n",
    "                    Status = ' '.join([c for c in x.split(Category)[-1].split() if c.upper()==c])\n",
    "                    broker_qual_employ_temp = pd.DataFrame({'Table':['SRO'],\n",
    "                                                       'SRO or US Territory':[SRO_or_US_Territory],\n",
    "                                                       'Category':[Category],\n",
    "                                                       'Status':[Status],\n",
    "                                                       'Date':[Date]})\n",
    "                    broker_qual_employ = pd.concat([broker_qual_employ,broker_qual_employ_temp])\n",
    "                else:\n",
    "                    if '\\n' in x:\n",
    "                        #print('check')\n",
    "                        Date = re.findall(r'(\\d+/\\d+/\\d+)',x)[0]\n",
    "                        x = x.split(Date)[0]\n",
    "                        if all([c in SRO_grouped_each[i-1] for c in ['SRO','Category','Date']]):\n",
    "                            SRO_or_US_Territory = x.split('\\n')[0]\n",
    "                        else:\n",
    "                            SRO_or_US_Territory = SRO_grouped_each[i-1].replace('\\n',' ')\n",
    "                        #x = x.split(SRO_or_US_Territory)[-1]\n",
    "                        #print(x)\n",
    "                        Category = ' '.join([c for c in x.split() if c.capitalize()==c])\n",
    "                        Status = ' '.join([c for c in x.split(Category)[-1].split() if c.upper()==c])\n",
    "                        broker_qual_employ_temp = pd.DataFrame({'Table':['SRO'],\n",
    "                                                           'SRO or US Territory':[SRO_or_US_Territory],\n",
    "                                                           'Category':[Category],\n",
    "                                                           'Status':[Status],\n",
    "                                                           'Date':[Date]})\n",
    "                        broker_qual_employ = pd.concat([broker_qual_employ,broker_qual_employ_temp])\n",
    "            \n",
    "    if len(US_Territory_table_start_index)!=0:        \n",
    "        US_Territory_table_end_index = US_Territory_table_start_index[1:]+[len(page_textblock)]\n",
    "\n",
    "\n",
    "    \n",
    "        US_Territory_grouped = []\n",
    "\n",
    "\n",
    "        for i in range(len(US_Territory_table_start_index)):\n",
    "            US_Territory_grouped.append(page_textblock[US_Territory_table_start_index[i]:US_Territory_table_end_index[i]])\n",
    "\n",
    "\n",
    "    \n",
    "    \n",
    "\n",
    "        for US_Territory_grouped_each in US_Territory_grouped:\n",
    "            US_Territory_block_dated = [(i,x) for i,x in enumerate(US_Territory_grouped_each) if len(re.sub(r'(\\d+/\\d+/\\d+)','',x))!=len(x)]\n",
    "\n",
    "            for i,x in US_Territory_block_dated:\n",
    "                #print(i,x)\n",
    "                if extract_state(x)!='NOT FOUND':\n",
    "                    #print(x)\n",
    "                    Date = re.findall(r'(\\d+/\\d+/\\d+)',x)[0]\n",
    "                    x = x.split(Date)[0]\n",
    "                    Status = x.split('\\n')[-1].strip()\n",
    "                    SRO_or_US_Territory = extract_state(x)\n",
    "                    Category = x.split('\\n')[0].split(SRO_or_US_Territory)[-1].strip()\n",
    "                    broker_qual_employ_temp = pd.DataFrame({'Table':['US Territory'],\n",
    "                                                            'SRO or US Territory':[SRO_or_US_Territory],\n",
    "                                                            'Category':[Category],\n",
    "                                                            'Status':[Status],\n",
    "                                                            'Date':[Date]})\n",
    "                    broker_qual_employ = pd.concat([broker_qual_employ,broker_qual_employ_temp])\n",
    "                else:\n",
    "                    #print(x)\n",
    "                    Date = re.findall(r'(\\d+/\\d+/\\d+)',x)[0]\n",
    "                    x = x.split(Date)[0]\n",
    "                    Status = x.split('\\n')[-1].strip()\n",
    "                    SRO_or_US_Territory = extract_state(US_Territory_grouped_each[i-1].replace('\\n',' '))\n",
    "\n",
    "                    if SRO_or_US_Territory == 'NOT FOUND':\n",
    "                        continue\n",
    "                    else:\n",
    "                        Category = x.split('\\n')[0].split(SRO_or_US_Territory)[-1].strip()\n",
    "                        broker_qual_employ_temp = pd.DataFrame({'Table':['US Territory'],\n",
    "                                                                'SRO or US Territory':[SRO_or_US_Territory],\n",
    "                                                                'Category':[Category],\n",
    "                                                                'Status':[Status],\n",
    "                                                                'Date':[Date]})\n",
    "                        broker_qual_employ = pd.concat([broker_qual_employ,broker_qual_employ_temp])\n",
    "    return broker_qual_employ"
   ]
  },
  {
   "cell_type": "code",
   "execution_count": 76,
   "metadata": {},
   "outputs": [],
   "source": [
    "def get_broker_qual_employ_from_pagetextblock_Pool(file):\n",
    "    try:\n",
    "        #print(file)\n",
    "        doc = fitz.open(file)\n",
    "        section_info_df_temp =  get_section_info(doc)\n",
    "        CRD_number = re.findall(r'\\d+',file.split('/')[-1])[0]\n",
    "        #print(CRD_number)\n",
    "        \n",
    "        if section_info_df_temp['Section Titles'].iloc[0]!='No Section':\n",
    "            broker_qualification_page = section_info_df_temp[section_info_df_temp['Section Titles']=='Broker Qualifications']['Section Pages'].iloc[0]\n",
    "            pages = [int(x) for x in broker_qualification_page.split('-')]\n",
    "\n",
    "            broker_page_textblock = []\n",
    "            for page in range(min(pages),max(pages)+1):\n",
    "                broker_page_textblock.extend(doc.loadPage(page+1).getTextBlocks())\n",
    "        else:\n",
    "            broker_page_textblock = []\n",
    "            for page in range(doc.pageCount):\n",
    "                if any(['Broker Qualifications' in c[4] for c in doc.loadPage(page).getTextBlocks()]):\n",
    "                    broker_page_textblock.extend(doc.loadPage(page).getTextBlocks())\n",
    "        #print('Check')\n",
    "        broker_qual_employ_temp =  get_broker_qual_employ_from_pagetextblock(broker_page_textblock)\n",
    "        broker_qual_employ_temp['CRD Number'] = [CRD_number]*broker_qual_employ_temp.shape[0]\n",
    "        #print(broker_qual_employ_temp)\n",
    "        return broker_qual_employ_temp\n",
    "    except:\n",
    "        print('Failed')"
   ]
  },
  {
   "cell_type": "code",
   "execution_count": 79,
   "metadata": {},
   "outputs": [],
   "source": [
    "file = 'C:/Users/i26184/Desktop/Broker/Broker_PDF\\\\individual_704717.pdf'"
   ]
  },
  {
   "cell_type": "code",
   "execution_count": 80,
   "metadata": {},
   "outputs": [
    {
     "data": {
      "text/html": [
       "<div>\n",
       "<style scoped>\n",
       "    .dataframe tbody tr th:only-of-type {\n",
       "        vertical-align: middle;\n",
       "    }\n",
       "\n",
       "    .dataframe tbody tr th {\n",
       "        vertical-align: top;\n",
       "    }\n",
       "\n",
       "    .dataframe thead th {\n",
       "        text-align: right;\n",
       "    }\n",
       "</style>\n",
       "<table border=\"1\" class=\"dataframe\">\n",
       "  <thead>\n",
       "    <tr style=\"text-align: right;\">\n",
       "      <th></th>\n",
       "      <th>CRD Number</th>\n",
       "    </tr>\n",
       "  </thead>\n",
       "  <tbody>\n",
       "  </tbody>\n",
       "</table>\n",
       "</div>"
      ],
      "text/plain": [
       "Empty DataFrame\n",
       "Columns: [CRD Number]\n",
       "Index: []"
      ]
     },
     "execution_count": 80,
     "metadata": {},
     "output_type": "execute_result"
    }
   ],
   "source": [
    "get_broker_qual_employ_from_pagetextblock_Pool(file)"
   ]
  },
  {
   "cell_type": "code",
   "execution_count": 81,
   "metadata": {},
   "outputs": [],
   "source": [
    "doc = fitz.open(file)\n",
    "section_info_df_temp =  get_section_info(doc)\n",
    "CRD_number = re.findall(r'\\d+',file.split('/')[-1])[0]\n",
    "#print(CRD_number)\n",
    "\n",
    "if section_info_df_temp['Section Titles'].iloc[0]!='No Section':\n",
    "    broker_qualification_page = section_info_df_temp[section_info_df_temp['Section Titles']=='Broker Qualifications']['Section Pages'].iloc[0]\n",
    "    pages = [int(x) for x in broker_qualification_page.split('-')]\n",
    "\n",
    "    broker_page_textblock = []\n",
    "    for page in range(min(pages),max(pages)+1):\n",
    "        broker_page_textblock.extend(doc.loadPage(page+1).getTextBlocks())\n",
    "else:\n",
    "    broker_page_textblock = []\n",
    "    for page in range(doc.pageCount):\n",
    "        if any(['Broker Qualifications' in c[4] for c in doc.loadPage(page).getTextBlocks()]):\n",
    "            broker_page_textblock.extend(doc.loadPage(page).getTextBlocks())\n",
    "#print('Check')"
   ]
  },
  {
   "cell_type": "code",
   "execution_count": 74,
   "metadata": {},
   "outputs": [
    {
     "data": {
      "text/plain": [
       "['www.finra.org/brokercheck\\nUser Guidance',\n",
       " 'Broker Qualifications',\n",
       " 'Registrations',\n",
       " 'This section provides the self-regulatory organizations (SROs) and U.S. states/territories the broker is currently\\nregistered and licensed with, the category of each license, and the date on which it became effective. This section also\\nprovides, for every brokerage firm with which the broker is currently employed, the address of each branch where the\\nbroker works.\\nThis individual is currently registered with 1 SRO and is licensed in 0 U.S. states and territories through his or\\nher employer.',\n",
       " 'Employment 1 of 1\\nFirm Name:',\n",
       " 'Main Office Address:',\n",
       " 'Firm CRD#:',\n",
       " 'NYLIFE SECURITIES LLC',\n",
       " '5167',\n",
       " '51 MADISON AVE.\\nROOM 713\\nNEW YORK, NY  10010',\n",
       " 'SRO Category Status Date',\n",
       " 'FINRA\\nInvest. Co and Variable Contracts APPROVED 07/20/1999',\n",
       " 'Branch Office Locations',\n",
       " 'NYLIFE SECURITIES LLC\\n51 MADISON AVENUE\\nNEW YORK, NY  10010',\n",
       " '2 ©2020 FINRA. All rights reserved. Report about YAN F. CHEN.',\n",
       " 'www.finra.org/brokercheck\\nUser Guidance',\n",
       " 'Broker Qualifications',\n",
       " 'Industry Exams this Broker has Passed',\n",
       " 'This individual has passed 0 principal/supervisory exams, 2 general industry/product exams, and 0 state\\nsecurities law exams.',\n",
       " 'This section includes all securities industry exams that the broker has passed. Under limited circumstances, a broker\\nmay attain a registration after receiving an exam waiver based on exams the broker has passed and/or qualifying work\\nexperience. Any exam waivers that the broker has received are not included below.',\n",
       " 'Exam Category Date',\n",
       " 'Principal/Supervisory Exams',\n",
       " 'No information reported.',\n",
       " 'Exam Category Date',\n",
       " 'General Industry/Product Exams',\n",
       " 'Securities Industry Essentials Examination 10/01/2018 SIE',\n",
       " 'Investment Company Products/Variable Contracts Representative Examination 07/19/1999 Series 6',\n",
       " 'Exam Category Date',\n",
       " 'State Securities Law Exams',\n",
       " 'No information reported.',\n",
       " 'Additional information about the above exams or other exams FINRA administers to brokers and other securities\\nprofessionals can be found at www.finra.org/brokerqualifications/registeredrep/.',\n",
       " '3 ©2020 FINRA. All rights reserved. Report about YAN F. CHEN.']"
      ]
     },
     "execution_count": 74,
     "metadata": {},
     "output_type": "execute_result"
    }
   ],
   "source": [
    "[x[4] for x in broker_page_textblock]"
   ]
  },
  {
   "cell_type": "code",
   "execution_count": 70,
   "metadata": {},
   "outputs": [
    {
     "ename": "IndexError",
     "evalue": "list index out of range",
     "output_type": "error",
     "traceback": [
      "\u001b[1;31m---------------------------------------------------------------------------\u001b[0m",
      "\u001b[1;31mIndexError\u001b[0m                                Traceback (most recent call last)",
      "\u001b[1;32m<ipython-input-70-7a32d8f88ae0>\u001b[0m in \u001b[0;36m<module>\u001b[1;34m\u001b[0m\n\u001b[1;32m----> 1\u001b[1;33m \u001b[0mget_broker_qual_employ_from_pagetextblock\u001b[0m\u001b[1;33m(\u001b[0m\u001b[0mbroker_page_textblock\u001b[0m\u001b[1;33m)\u001b[0m\u001b[1;33m\u001b[0m\u001b[1;33m\u001b[0m\u001b[0m\n\u001b[0m",
      "\u001b[1;32m<ipython-input-59-bcbd294a85c7>\u001b[0m in \u001b[0;36mget_broker_qual_employ_from_pagetextblock\u001b[1;34m(page_textblock)\u001b[0m\n\u001b[0;32m      1\u001b[0m \u001b[1;32mdef\u001b[0m \u001b[0mget_broker_qual_employ_from_pagetextblock\u001b[0m\u001b[1;33m(\u001b[0m\u001b[0mpage_textblock\u001b[0m\u001b[1;33m)\u001b[0m\u001b[1;33m:\u001b[0m\u001b[1;33m\u001b[0m\u001b[1;33m\u001b[0m\u001b[0m\n\u001b[0;32m      2\u001b[0m     \u001b[0mpage_textblock\u001b[0m \u001b[1;33m=\u001b[0m \u001b[1;33m[\u001b[0m\u001b[0mx\u001b[0m\u001b[1;33m[\u001b[0m\u001b[1;36m4\u001b[0m\u001b[1;33m]\u001b[0m \u001b[1;32mfor\u001b[0m \u001b[0mx\u001b[0m \u001b[1;32min\u001b[0m \u001b[0mpage_textblock\u001b[0m\u001b[1;33m]\u001b[0m\u001b[1;33m\u001b[0m\u001b[1;33m\u001b[0m\u001b[0m\n\u001b[1;32m----> 3\u001b[1;33m     \u001b[0mexam_section_start_index\u001b[0m \u001b[1;33m=\u001b[0m \u001b[1;33m[\u001b[0m\u001b[0mi\u001b[0m \u001b[1;32mfor\u001b[0m \u001b[0mi\u001b[0m\u001b[1;33m,\u001b[0m\u001b[0mx\u001b[0m \u001b[1;32min\u001b[0m \u001b[0menumerate\u001b[0m\u001b[1;33m(\u001b[0m\u001b[0mpage_textblock\u001b[0m\u001b[1;33m)\u001b[0m \u001b[1;32mif\u001b[0m \u001b[1;34m'This individual has passed'\u001b[0m \u001b[1;32min\u001b[0m \u001b[0mx\u001b[0m\u001b[1;33m]\u001b[0m\u001b[1;33m[\u001b[0m\u001b[1;36m0\u001b[0m\u001b[1;33m]\u001b[0m\u001b[1;33m\u001b[0m\u001b[1;33m\u001b[0m\u001b[0m\n\u001b[0m\u001b[0;32m      4\u001b[0m     \u001b[0mpage_textblock\u001b[0m \u001b[1;33m=\u001b[0m \u001b[0mpage_textblock\u001b[0m\u001b[1;33m[\u001b[0m\u001b[1;33m:\u001b[0m\u001b[0mexam_section_start_index\u001b[0m\u001b[1;33m]\u001b[0m\u001b[1;33m\u001b[0m\u001b[1;33m\u001b[0m\u001b[0m\n\u001b[0;32m      5\u001b[0m     \u001b[0mSRO_table_start_index\u001b[0m \u001b[1;33m=\u001b[0m \u001b[1;33m[\u001b[0m\u001b[0mi\u001b[0m \u001b[1;32mfor\u001b[0m \u001b[0mi\u001b[0m\u001b[1;33m,\u001b[0m\u001b[0mx\u001b[0m \u001b[1;32min\u001b[0m \u001b[0menumerate\u001b[0m\u001b[1;33m(\u001b[0m\u001b[0mpage_textblock\u001b[0m\u001b[1;33m)\u001b[0m \u001b[1;32mif\u001b[0m \u001b[0mall\u001b[0m\u001b[1;33m(\u001b[0m\u001b[1;33m[\u001b[0m\u001b[0mc\u001b[0m \u001b[1;32min\u001b[0m \u001b[0mx\u001b[0m \u001b[1;32mfor\u001b[0m \u001b[0mc\u001b[0m \u001b[1;32min\u001b[0m \u001b[1;33m[\u001b[0m\u001b[1;34m'SRO'\u001b[0m\u001b[1;33m,\u001b[0m\u001b[1;34m'Category'\u001b[0m\u001b[1;33m,\u001b[0m\u001b[1;34m'Date'\u001b[0m\u001b[1;33m]\u001b[0m\u001b[1;33m]\u001b[0m\u001b[1;33m)\u001b[0m\u001b[1;33m]\u001b[0m\u001b[1;33m\u001b[0m\u001b[1;33m\u001b[0m\u001b[0m\n",
      "\u001b[1;31mIndexError\u001b[0m: list index out of range"
     ]
    }
   ],
   "source": [
    "get_broker_qual_employ_from_pagetextblock(broker_page_textblock)"
   ]
  },
  {
   "cell_type": "code",
   "execution_count": null,
   "metadata": {},
   "outputs": [],
   "source": []
  },
  {
   "cell_type": "code",
   "execution_count": null,
   "metadata": {},
   "outputs": [],
   "source": [
    "start_time = time.time()\n",
    "p = Pool(8)\n",
    "result = p.map(get_broker_qual_employ_from_pagetextblock_Pool,broker_pdf_list)\n",
    "p.close()\n",
    "p.join()\n",
    "end_time = time.time()\n",
    "print(\"--- %s seconds ---\" % (end_time - start_time))\n",
    "\n",
    "len(result)"
   ]
  },
  {
   "cell_type": "code",
   "execution_count": null,
   "metadata": {},
   "outputs": [],
   "source": [
    "broker_qual_employ.shape"
   ]
  },
  {
   "cell_type": "code",
   "execution_count": null,
   "metadata": {},
   "outputs": [],
   "source": [
    "broker_qual_employ"
   ]
  },
  {
   "cell_type": "code",
   "execution_count": null,
   "metadata": {},
   "outputs": [],
   "source": [
    "broker_qual_employ['CRD Number'].unique()"
   ]
  },
  {
   "cell_type": "code",
   "execution_count": null,
   "metadata": {},
   "outputs": [],
   "source": []
  },
  {
   "cell_type": "code",
   "execution_count": null,
   "metadata": {},
   "outputs": [],
   "source": []
  },
  {
   "cell_type": "code",
   "execution_count": null,
   "metadata": {},
   "outputs": [],
   "source": [
    "def get_broker_qual_employ_from_pagetextblock(page_textblock):\n",
    "    page_textblock = [x[4] for x in page_textblock]\n",
    "    \n",
    "    page_block_dated = [(i,x) for i,x in enumerate(page_textblock) if len(re.sub(r'(\\d+/\\d+/\\d+)','',x))!=len(x)]\n",
    "    \n",
    "    grouped_index_block_dated = separate_consecutive_numbers([x[0] for x in page_block_dated])\n",
    "    \n",
    "    #print(grouped_index_block_dated)\n",
    "    broker_qual_employ = pd.DataFrame()\n",
    "    for group_index in grouped_index_block_dated:\n",
    "        index_temp = [x[0] for x in group_index]\n",
    "        table_title = ' '.join(page_textblock[(min(index_temp)-2):min(index_temp)])\n",
    "        #print(table_title)\n",
    "        if all([c in table_title for c in ['SRO','Category','Date']]):\n",
    "            #print('SRO')\n",
    "            page_textblock_temp = [page_textblock[i] for i in index_temp]\n",
    "            \n",
    "            SRO = [x.split('\\n')[0] for x in page_textblock_temp]\n",
    "            Date = [re.findall(r'(\\d+/\\d+/\\d+)',x)[0] for x in page_textblock_temp]\n",
    "            \n",
    "            page_textblock_temp = [re.sub(r'(\\d+/\\d+/\\d+)','',x).split('\\n')[1].strip() for x in page_textblock_temp]\n",
    "            \n",
    "            Status = [' '.join([c for c in x.split() if c.upper()==c]) for x in page_textblock_temp]\n",
    "            Category = [' '.join([c for c in x.split() if c.capitalize()==c]) for x in page_textblock_temp]\n",
    "            \n",
    "            broker_qual_employ_temp = pd.DataFrame({'Table':'SRO',\n",
    "                                               'SRO or US Territory':SRO,\n",
    "                                               'Category':Category,\n",
    "                                               'Status':Status,\n",
    "                                               'Date':Date})\n",
    "            \n",
    "        elif all([c in table_title for c in ['U.S. State','Territory','Category','Date']]):\n",
    "            #print('US')\n",
    "            page_textblock_temp = [page_textblock[i] for i in index_temp]\n",
    "            \n",
    "            US_Territory = [' '.join(x.split('\\n')[0].split()[:-1]) for x in page_textblock_temp]\n",
    "            Date = [re.findall(r'(\\d+/\\d+/\\d+)',x)[0] for x in page_textblock_temp]\n",
    "            Category = [x.split('\\n')[0].split()[-1] for x in page_textblock_temp]\n",
    "            page_textblock_temp = [re.sub(r'(\\d+/\\d+/\\d+)','',x).split('\\n')[1].strip() for x in page_textblock_temp]\n",
    "            \n",
    "            Status = [' '.join([c for c in x.split() if c.upper()==c]) for x in page_textblock_temp]\n",
    "            \n",
    "            \n",
    "            broker_qual_employ_temp = pd.DataFrame({'Table':'US Territory',\n",
    "                                               'SRO or US Territory':US_Territory,\n",
    "                                               'Category':Category,\n",
    "                                               'Status':Status,\n",
    "                                               'Date':Date})\n",
    "        else:\n",
    "            continue\n",
    "        \n",
    "        broker_qual_employ = pd.concat([broker_qual_employ,broker_qual_employ_temp])\n",
    "    \n",
    "    if broker_qual_employ.shape[0]==0:\n",
    "        broker_qual_employ = pd.DataFrame({'Table':['NOT FOUND'],\n",
    "                                            'SRO or US Territory':['NOT FOUND'],\n",
    "                                            'Category':['NOT FOUND'],\n",
    "                                            'Status':['NOT FOUND'],\n",
    "                                            'Date':['NOT FOUND']})\n",
    "    \n",
    "    return broker_qual_employ"
   ]
  },
  {
   "cell_type": "code",
   "execution_count": null,
   "metadata": {},
   "outputs": [],
   "source": []
  },
  {
   "cell_type": "code",
   "execution_count": null,
   "metadata": {},
   "outputs": [],
   "source": []
  },
  {
   "cell_type": "code",
   "execution_count": null,
   "metadata": {},
   "outputs": [],
   "source": []
  },
  {
   "cell_type": "code",
   "execution_count": null,
   "metadata": {},
   "outputs": [],
   "source": []
  },
  {
   "cell_type": "code",
   "execution_count": null,
   "metadata": {},
   "outputs": [],
   "source": []
  },
  {
   "cell_type": "code",
   "execution_count": null,
   "metadata": {},
   "outputs": [],
   "source": []
  },
  {
   "cell_type": "code",
   "execution_count": null,
   "metadata": {},
   "outputs": [],
   "source": [
    "def exam_class_identify_old(x):\n",
    "    if all([c in x.lower() for c in ['principal','supervisory','exam']]):\n",
    "        return 'Principal Supervisory Exam'\n",
    "    elif all([c in x.lower() for c in ['general','industry','product','exam']]):\n",
    "        return \"General Industry Product Exam\"\n",
    "    else:\n",
    "        return 'State Securities Law Exam'"
   ]
  },
  {
   "cell_type": "code",
   "execution_count": null,
   "metadata": {},
   "outputs": [],
   "source": [
    "def exam_class_identify_new(each_exam_group):\n",
    "    x = ' '.join(each_exam_group)\n",
    "    if all([c in x.lower() for c in ['principal','supervisory','exam']]):\n",
    "        return 'Principal Supervisory Exam'\n",
    "    elif all([c in x.lower() for c in ['general','industry','product','exam']]):\n",
    "        return \"General Industry Product Exam\"\n",
    "    else:\n",
    "        return 'State Securities Law Exam'"
   ]
  },
  {
   "cell_type": "code",
   "execution_count": null,
   "metadata": {},
   "outputs": [],
   "source": [
    "def exam_name_identify_new(each_exam_group,i):\n",
    "    if 'Examination' in each_exam_group[i]:\n",
    "        return each_exam_group[i].split('Examination')[0] + ' Examination'\n",
    "    else:\n",
    "        x = ' '.join([each_exam_group[i-1], each_exam_group[i]])\n",
    "        return x.split('Examination')[0] + ' Examination'"
   ]
  },
  {
   "cell_type": "code",
   "execution_count": null,
   "metadata": {},
   "outputs": [],
   "source": []
  },
  {
   "cell_type": "code",
   "execution_count": null,
   "metadata": {},
   "outputs": [],
   "source": [
    "def get_broker_qual_exam_from_pagetextblock(page_textblock):\n",
    "    page_textblock = [x[4] for x in page_textblock]\n",
    "    \n",
    "    exam_section_index = [i for i,x in enumerate(page_textblock) if all([c in x.lower() for c in ['this individual has passed']])]\n",
    "    \n",
    "    broker_qual_exam = pd.DataFrame()\n",
    "    \n",
    "    if len(exam_section_index)!=0:\n",
    "        exam_count = re.findall(r'[0-9]',page_textblock[exam_section_index[0]])\n",
    "        \n",
    "        principal_supervisory_exam = exam_count[0]\n",
    "        general_industry_product_exam = exam_count[1]\n",
    "        state_securities_law_exam = exam_count[2]\n",
    "        \n",
    "        page_textblock = page_textblock[exam_section_index[0]:]\n",
    "\n",
    "        exam_index = [i for i,x in enumerate(page_textblock) if all([c in x for c in ['Exam','Category','Date']])]\n",
    "\n",
    "        exam_group = []\n",
    "        \n",
    "        for i,j in zip(exam_index,exam_index[1:]+[len(page_textblock)]):\n",
    "            exam_group.append(page_textblock[i:j])\n",
    "        #print(exam_group)\n",
    "        \n",
    "        \n",
    "        \n",
    "        for each_exam_group in exam_group:\n",
    "            index_dated = [(i,x) for i,x in enumerate(each_exam_group) if len(re.sub(r'(\\d+/\\d+/\\d+)','',x))!=len(x)]\n",
    "            #ach_exam_group_dated = each_exam_group[index_dated]\n",
    "            if len(index_dated)==0:\n",
    "                \n",
    "                continue\n",
    "            elif any([True if all([c in x for c in ['Class','Exam','Category','Date']]) else False for x in each_exam_group]):\n",
    "                Date = [re.findall(r'(\\d+/\\d+/\\d+)',each_exam_group[i])[0] for i,text in index_dated]\n",
    "                Exam_Class = [exam_class_identify_old(each_exam_group[i]) for i,text in index_dated] \n",
    "                Exam_Name = [each_exam_group[i].split('Exams')[-1].split('Examination')[0]+' Examination' for i,text in index_dated]    \n",
    "                Category = [re.sub(r'(\\d+/\\d+/\\d+)','',each_exam_group[i].split('Examination')[-1].strip()).strip() for i,text in index_dated]\n",
    "            else:\n",
    "                Date = [re.findall(r'(\\d+/\\d+/\\d+)',each_exam_group[i])[0] for i,text in index_dated]\n",
    "                Exam_Class = [exam_class_identify_new(each_exam_group) for i,text in index_dated] \n",
    "                Exam_Name = [exam_name_identify_new(each_exam_group,i) for i,text in index_dated]    \n",
    "                Category = [re.sub(r'(\\d+/\\d+/\\d+)','CUTTING_POINT',each_exam_group[i]).split('CUTTING_POINT')[-1].strip() for i,text in index_dated]\n",
    "            \n",
    "            broker_qual_exam_temp = pd.DataFrame({'Exam Class':Exam_Class,\n",
    "                                                  'Exam Name':Exam_Name,\n",
    "                                                  'Category':Category,\n",
    "                                                  'Date':Date})\n",
    "            \n",
    "            broker_qual_exam = pd.concat([broker_qual_exam,broker_qual_exam_temp])\n",
    "        \n",
    "    else:\n",
    "        broker_qual_exam = pd.DataFrame()\n",
    "        \n",
    "    if broker_qual_exam.shape[0]==0:\n",
    "        Date = ['NOT FOUND']\n",
    "        Exam_Class = ['NOT FOUND']\n",
    "        Exam_Name = ['NOT FOUND']\n",
    "        Category = ['NOT FOUND']\n",
    "        broker_qual_exam = pd.DataFrame({'Exam Class':Exam_Class,\n",
    "                                                  'Exam Name':Exam_Name,\n",
    "                                                  'Category':Category,\n",
    "                                                  'Date':Date})\n",
    "    return broker_qual_exam"
   ]
  },
  {
   "cell_type": "code",
   "execution_count": null,
   "metadata": {},
   "outputs": [],
   "source": [
    "def get_regist_hist_from_pagetextblock(page_textblock):\n",
    "    page_textblock = [x[4] for x in page_textblock]\n",
    "    \n",
    "    regist_hist_section_index = [i for i,x in enumerate(page_textblock) if all([c in x.lower() for c in ['Registration History']])]\n",
    "    employ_hist_section_index = [i for i,x in enumerate(page_textblock) if all([c in x.lower() for c in ['Employment History']])]\n",
    "    \n",
    "    if len(regist_hist_section_index)!=0:\n",
    "        if len(employ_hist_section_index)==0:\n",
    "            employ_hist_section_index = [len(page_textblock)]\n",
    "    \n",
    "        page_textblock = page_textblock[regist_hist_section_index[0]:employ_hist_section_index[0]]\n",
    "        \n",
    "        index_dated = [(i,x) for i,x in enumerate(page_textblock) if len(re.sub(r'(\\d+/\\d+)','',x))!=len(x)]\n",
    "        \n",
    "        Start_Date = [re.findall(r'(\\d+/\\d+)',x)[0] for i,x in index_dated]\n",
    "        End_Date = [re.findall(r'(\\d+/\\d+)',x)[1] for i,x in index_dated]\n",
    "        \n",
    "    else:\n",
    "        registration_history = pd.DataFrame()\n",
    "        \n",
    "    return registration_history"
   ]
  },
  {
   "cell_type": "code",
   "execution_count": null,
   "metadata": {},
   "outputs": [],
   "source": [
    "# 816782"
   ]
  },
  {
   "cell_type": "code",
   "execution_count": null,
   "metadata": {},
   "outputs": [],
   "source": [
    "broker_name_df = pd.DataFrame()\n",
    "for file in broker_pdf_list:\n",
    "    #print(file)\n",
    "    doc = fitz.open(file)\n",
    "    broker_name_df = pd.concat([broker_name_df,get_broker_name_CRD(doc)])"
   ]
  },
  {
   "cell_type": "code",
   "execution_count": null,
   "metadata": {
    "scrolled": true
   },
   "outputs": [],
   "source": [
    "broker_name_df.tail(50)"
   ]
  },
  {
   "cell_type": "code",
   "execution_count": null,
   "metadata": {},
   "outputs": [],
   "source": [
    "def get_broker_qual_exam_from_pagetextblock_Pool(file):\n",
    "    try:\n",
    "        #print(file)\n",
    "        doc = fitz.open(file)\n",
    "        section_info_df_temp =  get_section_info(doc)\n",
    "        CRD_number = re.findall(r'\\d+',file)[0]\n",
    "        \n",
    "        if section_info_df_temp['Section Titles'].iloc[0]!='No Section':\n",
    "            broker_qualification_page = section_info_df_temp[section_info_df_temp['Section Titles']=='Broker Qualifications']['Section Pages'].iloc[0]\n",
    "            pages = [int(x) for x in broker_qualification_page.split('-')]\n",
    "\n",
    "            broker_page_textblock = []\n",
    "            for page in range(min(pages),max(pages)+1):\n",
    "                broker_page_textblock.extend(doc.loadPage(page+1).getTextBlocks())\n",
    "        else:\n",
    "            broker_page_textblock = []\n",
    "            for page in range(doc.pageCount):\n",
    "                if any(['Broker Qualifications' in c[4] for c in doc.loadPage(page).getTextBlocks()]):\n",
    "                    broker_page_textblock.extend(doc.loadPage(page).getTextBlocks())\n",
    "        #print('Check')\n",
    "        broker_qual_exam_temp =  get_broker_qual_exam_from_pagetextblock(broker_page_textblock)\n",
    "        broker_qual_exam_temp['CRD Number'] = [CRD_number]*broker_qual_exam_temp.shape[0]\n",
    "        #print(broker_qual_employ_temp)\n",
    "        return broker_qual_exam_temp\n",
    "    except:\n",
    "        print(file)\n"
   ]
  },
  {
   "cell_type": "code",
   "execution_count": null,
   "metadata": {},
   "outputs": [],
   "source": [
    "start_time = time.time()\n",
    "p = Pool(8)\n",
    "result = p.map(get_broker_qual_exam_from_pagetextblock_Pool,broker_pdf_list)\n",
    "p.close()\n",
    "p.join()\n",
    "end_time = time.time()\n",
    "print(\"--- %s seconds ---\" % (end_time - start_time))\n",
    "\n",
    "len(result)"
   ]
  },
  {
   "cell_type": "code",
   "execution_count": null,
   "metadata": {},
   "outputs": [],
   "source": [
    "result_df = pd.concat(result)"
   ]
  },
  {
   "cell_type": "code",
   "execution_count": null,
   "metadata": {},
   "outputs": [],
   "source": [
    "result_df.shape"
   ]
  },
  {
   "cell_type": "code",
   "execution_count": null,
   "metadata": {},
   "outputs": [],
   "source": [
    "result_df"
   ]
  },
  {
   "cell_type": "code",
   "execution_count": null,
   "metadata": {},
   "outputs": [],
   "source": [
    "result_df.to_csv('broker_exam.csv',index = False)"
   ]
  },
  {
   "cell_type": "code",
   "execution_count": null,
   "metadata": {},
   "outputs": [],
   "source": []
  },
  {
   "cell_type": "code",
   "execution_count": null,
   "metadata": {},
   "outputs": [],
   "source": [
    "def get_broker_qual_employ_from_pagetextblock_Pool(file):\n",
    "    try:\n",
    "        #print(file)\n",
    "        doc = fitz.open(file)\n",
    "        section_info_df_temp =  get_section_info(doc)\n",
    "        CRD_number = re.findall(r'\\d+',file)[0]\n",
    "        \n",
    "        if section_info_df_temp['Section Titles'].iloc[0]!='No Section':\n",
    "            broker_qualification_page = section_info_df_temp[section_info_df_temp['Section Titles']=='Broker Qualifications']['Section Pages'].iloc[0]\n",
    "            pages = [int(x) for x in broker_qualification_page.split('-')]\n",
    "\n",
    "            broker_page_textblock = []\n",
    "            for page in range(min(pages),max(pages)+1):\n",
    "                broker_page_textblock.extend(doc.loadPage(page+1).getTextBlocks())\n",
    "        else:\n",
    "            broker_page_textblock = []\n",
    "            for page in range(doc.pageCount):\n",
    "                if any(['Broker Qualifications' in c[4] for c in doc.loadPage(page).getTextBlocks()]):\n",
    "                    broker_page_textblock.extend(doc.loadPage(page).getTextBlocks())\n",
    "        #print('Check')\n",
    "        broker_qual_employ_temp =  get_broker_qual_employ_from_pagetextblock(broker_page_textblock)\n",
    "        broker_qual_employ_temp['CRD Number'] = [CRD_number]*broker_qual_employ_temp.shape[0]\n",
    "        #print(broker_qual_employ_temp)\n",
    "        return broker_qual_employ_temp\n",
    "    except:\n",
    "        print(file)\n"
   ]
  },
  {
   "cell_type": "code",
   "execution_count": null,
   "metadata": {},
   "outputs": [],
   "source": [
    "get_broker_qual_employ_from_pagetextblock_Pool('/home/ubuntu/Broker/individual_2498722.pdf')"
   ]
  },
  {
   "cell_type": "code",
   "execution_count": null,
   "metadata": {},
   "outputs": [],
   "source": [
    "file = '/home/ubuntu/Broker/individual_2498722.pdf'"
   ]
  },
  {
   "cell_type": "code",
   "execution_count": null,
   "metadata": {},
   "outputs": [],
   "source": [
    "doc = fitz.open(file)\n",
    "section_info_df_temp =  get_section_info(doc)\n",
    "CRD_number = re.findall(r'\\d+',file)[0]"
   ]
  },
  {
   "cell_type": "code",
   "execution_count": null,
   "metadata": {},
   "outputs": [],
   "source": [
    "if section_info_df_temp['Section Titles'].iloc[0]!='No Section':\n",
    "    broker_qualification_page = section_info_df_temp[section_info_df_temp['Section Titles']=='Broker Qualifications']['Section Pages'].iloc[0]\n",
    "    pages = [int(x) for x in broker_qualification_page.split('-')]\n",
    "\n",
    "    broker_page_textblock = []\n",
    "    for page in range(min(pages),max(pages)+1):\n",
    "        broker_page_textblock.extend(doc.loadPage(page+1).getTextBlocks())\n",
    "else:\n",
    "    broker_page_textblock = []\n",
    "    for page in range(doc.pageCount):\n",
    "        if any(['Broker Qualifications' in c[4] for c in doc.loadPage(page).getTextBlocks()]):\n",
    "            broker_page_textblock.extend(doc.loadPage(page).getTextBlocks())"
   ]
  },
  {
   "cell_type": "code",
   "execution_count": null,
   "metadata": {},
   "outputs": [],
   "source": [
    "broker_page_textblock"
   ]
  },
  {
   "cell_type": "code",
   "execution_count": null,
   "metadata": {},
   "outputs": [],
   "source": [
    "get_broker_qual_employ_from_pagetextblock(broker_page_textblock)"
   ]
  },
  {
   "cell_type": "code",
   "execution_count": null,
   "metadata": {},
   "outputs": [],
   "source": [
    "page_textblock = broker_page_textblock"
   ]
  },
  {
   "cell_type": "code",
   "execution_count": null,
   "metadata": {},
   "outputs": [],
   "source": [
    "page_textblock = [x[4] for x in page_textblock]\n",
    "    \n",
    "page_block_dated = [(i,x) for i,x in enumerate(page_textblock) if len(re.sub(r'(\\d+/\\d+/\\d+)','',x))!=len(x)]\n",
    "\n",
    "grouped_index_block_dated = separate_consecutive_numbers([x[0] for x in page_block_dated])"
   ]
  },
  {
   "cell_type": "code",
   "execution_count": null,
   "metadata": {},
   "outputs": [],
   "source": [
    "grouped_index_block_dated[0]"
   ]
  },
  {
   "cell_type": "code",
   "execution_count": null,
   "metadata": {},
   "outputs": [],
   "source": [
    "broker_qual_employ = pd.DataFrame()\n",
    "for group_index in grouped_index_block_dated:\n",
    "    print(group_index)\n",
    "    index_temp = [x[0] for x in group_index]\n",
    "    table_title = ' '.join(page_textblock[(min(index_temp)-2):min(index_temp)])\n",
    "    print(table_title)\n",
    "    if all([c in table_title for c in ['SRO','Category','Date']]):\n",
    "        print('SRO')\n",
    "        page_textblock_temp = [page_textblock[i] for i in index_temp]\n",
    "\n",
    "        SRO = [x.split('\\n')[0] for x in page_textblock_temp]\n",
    "        Date = [re.findall(r'(\\d+/\\d+/\\d+)',x)[0] for x in page_textblock_temp]\n",
    "\n",
    "        page_textblock_temp = [re.sub(r'(\\d+/\\d+/\\d+)','',x).split('\\n')[1].strip() for x in page_textblock_temp]\n",
    "\n",
    "        Status = [' '.join([c for c in x.split() if c.upper()==c]) for x in page_textblock_temp]\n",
    "        Category = [' '.join([c for c in x.split() if c.capitalize()==c]) for x in page_textblock_temp]\n",
    "\n",
    "        broker_qual_employ_temp = pd.DataFrame({'Table':'SRO',\n",
    "                                           'SRO or US Territory':SRO,\n",
    "                                           'Category':Category,\n",
    "                                           'Status':Status,\n",
    "                                           'Date':Date})\n",
    "\n",
    "    elif all([c in table_title for c in ['U.S. State','Territory','Category','Date']]):\n",
    "        print('US')\n",
    "        page_textblock_temp = [page_textblock[i] for i in index_temp]\n",
    "\n",
    "        US_Territory = [' '.join(x.split('\\n')[0].split()[:-1]) for x in page_textblock_temp]\n",
    "        Date = [re.findall(r'(\\d+/\\d+/\\d+)',x)[0] for x in page_textblock_temp]\n",
    "        Category = [x.split('\\n')[0].split()[-1] for x in page_textblock_temp]\n",
    "        page_textblock_temp = [re.sub(r'(\\d+/\\d+/\\d+)','',x).split('\\n')[1].strip() for x in page_textblock_temp]\n",
    "\n",
    "        Status = [' '.join([c for c in x.split() if c.upper()==c]) for x in page_textblock_temp]\n",
    "\n",
    "\n",
    "        broker_qual_employ_temp = pd.DataFrame({'Table':'US Territory',\n",
    "                                           'SRO or US Territory':US_Territory,\n",
    "                                           'Category':Category,\n",
    "                                           'Status':Status,\n",
    "                                           'Date':Date})"
   ]
  },
  {
   "cell_type": "code",
   "execution_count": null,
   "metadata": {},
   "outputs": [],
   "source": []
  },
  {
   "cell_type": "code",
   "execution_count": null,
   "metadata": {},
   "outputs": [],
   "source": [
    "def get_broker_qual_employ_from_pagetextblock(page_textblock):\n",
    "    page_textblock = [x[4] for x in page_textblock]\n",
    "    \n",
    "    page_block_dated = [(i,x) for i,x in enumerate(page_textblock) if len(re.sub(r'(\\d+/\\d+/\\d+)','',x))!=len(x)]\n",
    "    \n",
    "    grouped_index_block_dated = separate_consecutive_numbers([x[0] for x in page_block_dated])\n",
    "    \n",
    "    #print(grouped_index_block_dated)\n",
    "    broker_qual_employ = pd.DataFrame()\n",
    "    for group_index in grouped_index_block_dated:\n",
    "        index_temp = [x[0] for x in group_index]\n",
    "        table_title = ' '.join(page_textblock[(min(index_temp)-2):min(index_temp)])\n",
    "        #print(table_title)\n",
    "        if all([c in table_title for c in ['SRO','Category','Date']]):\n",
    "            #print('SRO')\n",
    "            page_textblock_temp = [page_textblock[i] for i in index_temp]\n",
    "            \n",
    "            SRO = [x.split('\\n')[0] for x in page_textblock_temp]\n",
    "            Date = [re.findall(r'(\\d+/\\d+/\\d+)',x)[0] for x in page_textblock_temp]\n",
    "            \n",
    "            page_textblock_temp = [re.sub(r'(\\d+/\\d+/\\d+)','',x).split('\\n')[1].strip() for x in page_textblock_temp]\n",
    "            \n",
    "            Status = [' '.join([c for c in x.split() if c.upper()==c]) for x in page_textblock_temp]\n",
    "            Category = [' '.join([c for c in x.split() if c.capitalize()==c]) for x in page_textblock_temp]\n",
    "            \n",
    "            broker_qual_employ_temp = pd.DataFrame({'Table':'SRO',\n",
    "                                               'SRO or US Territory':SRO,\n",
    "                                               'Category':Category,\n",
    "                                               'Status':Status,\n",
    "                                               'Date':Date})\n",
    "            \n",
    "        elif all([c in table_title for c in ['U.S. State','Territory','Category','Date']]):\n",
    "            #print('US')\n",
    "            page_textblock_temp = [page_textblock[i] for i in index_temp]\n",
    "            \n",
    "            US_Territory = [' '.join(x.split('\\n')[0].split()[:-1]) for x in page_textblock_temp]\n",
    "            Date = [re.findall(r'(\\d+/\\d+/\\d+)',x)[0] for x in page_textblock_temp]\n",
    "            Category = [x.split('\\n')[0].split()[-1] for x in page_textblock_temp]\n",
    "            page_textblock_temp = [re.sub(r'(\\d+/\\d+/\\d+)','',x).split('\\n')[1].strip() for x in page_textblock_temp]\n",
    "            \n",
    "            Status = [' '.join([c for c in x.split() if c.upper()==c]) for x in page_textblock_temp]\n",
    "            \n",
    "            \n",
    "            broker_qual_employ_temp = pd.DataFrame({'Table':'US Territory',\n",
    "                                               'SRO or US Territory':US_Territory,\n",
    "                                               'Category':Category,\n",
    "                                               'Status':Status,\n",
    "                                               'Date':Date})\n",
    "        else:\n",
    "            continue\n",
    "        \n",
    "        broker_qual_employ = pd.concat([broker_qual_employ,broker_qual_employ_temp])\n",
    "    \n",
    "    if broker_qual_employ.shape[0]==0:\n",
    "        broker_qual_employ = pd.DataFrame({'Table':['NOT FOUND'],\n",
    "                                            'SRO or US Territory':['NOT FOUND'],\n",
    "                                            'Category':['NOT FOUND'],\n",
    "                                            'Status':['NOT FOUND'],\n",
    "                                            'Date':['NOT FOUND']})\n",
    "    \n",
    "    return broker_qual_employ"
   ]
  },
  {
   "cell_type": "code",
   "execution_count": null,
   "metadata": {},
   "outputs": [],
   "source": []
  },
  {
   "cell_type": "code",
   "execution_count": null,
   "metadata": {},
   "outputs": [],
   "source": [
    "#print(file)\n",
    "        doc = fitz.open(file)\n",
    "        section_info_df_temp =  get_section_info(doc)\n",
    "        CRD_number = re.findall(r'\\d+',file)[0]\n",
    "        \n",
    "        if section_info_df_temp['Section Titles'].iloc[0]!='No Section':\n",
    "            broker_qualification_page = section_info_df_temp[section_info_df_temp['Section Titles']=='Broker Qualifications']['Section Pages'].iloc[0]\n",
    "            pages = [int(x) for x in broker_qualification_page.split('-')]\n",
    "\n",
    "            broker_page_textblock = []\n",
    "            for page in range(min(pages),max(pages)+1):\n",
    "                broker_page_textblock.extend(doc.loadPage(page+1).getTextBlocks())\n",
    "        else:\n",
    "            broker_page_textblock = []\n",
    "            for page in range(doc.pageCount):\n",
    "                if any(['Broker Qualifications' in c[4] for c in doc.loadPage(page).getTextBlocks()]):\n",
    "                    broker_page_textblock.extend(doc.loadPage(page).getTextBlocks())\n",
    "        #print('Check')\n",
    "        broker_qual_employ_temp =  get_broker_qual_employ_from_pagetextblock(broker_page_textblock)"
   ]
  },
  {
   "cell_type": "code",
   "execution_count": null,
   "metadata": {},
   "outputs": [],
   "source": []
  },
  {
   "cell_type": "code",
   "execution_count": null,
   "metadata": {
    "scrolled": true
   },
   "outputs": [],
   "source": [
    "start_time = time.time()\n",
    "p = Pool(8)\n",
    "result = p.map(get_broker_qual_employ_from_pagetextblock_Pool,broker_pdf_list)\n",
    "p.close()\n",
    "p.join()\n",
    "end_time = time.time()\n",
    "print(\"--- %s seconds ---\" % (end_time - start_time))\n",
    "\n",
    "len(result)"
   ]
  },
  {
   "cell_type": "code",
   "execution_count": null,
   "metadata": {},
   "outputs": [],
   "source": [
    "result_df = pd.concat(result)"
   ]
  },
  {
   "cell_type": "code",
   "execution_count": null,
   "metadata": {},
   "outputs": [],
   "source": [
    "result_df.shape"
   ]
  },
  {
   "cell_type": "code",
   "execution_count": null,
   "metadata": {},
   "outputs": [],
   "source": [
    "result_df"
   ]
  },
  {
   "cell_type": "code",
   "execution_count": null,
   "metadata": {},
   "outputs": [],
   "source": [
    "result_df.to_csv('broker_registration.csv',index = False)"
   ]
  },
  {
   "cell_type": "code",
   "execution_count": null,
   "metadata": {},
   "outputs": [],
   "source": []
  },
  {
   "cell_type": "code",
   "execution_count": null,
   "metadata": {},
   "outputs": [],
   "source": []
  },
  {
   "cell_type": "code",
   "execution_count": null,
   "metadata": {},
   "outputs": [],
   "source": []
  },
  {
   "cell_type": "code",
   "execution_count": null,
   "metadata": {
    "scrolled": true
   },
   "outputs": [],
   "source": [
    "broker_qual_employ = pd.DataFrame()\n",
    "broker_qual_exam = pd.DataFrame()\n",
    "broker_name_CRD = pd.DataFrame()\n",
    "broker_branch_office = pd.DataFrame()\n",
    "for file in broker_pdf_list:\n",
    "    print(file)\n",
    "    doc = fitz.open(file)\n",
    "    section_info_df_temp =  get_section_info(doc)\n",
    "    #print(section_info_df_temp)\n",
    "    CRD_number = section_info_df_temp.loc[0,'CRD Number']\n",
    "        \n",
    "    if section_info_df_temp['Section Titles'].iloc[0]!='No Section':\n",
    "        broker_qualification_page = section_info_df_temp[section_info_df_temp['Section Titles']=='Broker Qualifications']['Section Pages'].iloc[0]\n",
    "        pages = [int(x) for x in broker_qualification_page.split('-')]\n",
    "\n",
    "        borker_page_textblock = []\n",
    "        for page in range(min(pages),max(pages)+1):\n",
    "            borker_page_textblock.extend(doc.loadPage(page+1).getTextBlocks())\n",
    "    else:\n",
    "        borker_page_textblock = []\n",
    "        for page in range(doc.pageCount):\n",
    "            if any(['Broker Qualifications' in c[4] for c in doc.loadPage(page).getTextBlocks()]):\n",
    "                borker_page_textblock.extend(doc.loadPage(page).getTextBlocks())\n",
    "            \n",
    "    broker_qual_employ_temp =  get_broker_qual_employ_from_pagetextblock(borker_page_textblock)\n",
    "    broker_qual_exam_temp =  get_broker_qual_exam_from_pagetextblock(borker_page_textblock)\n",
    "    broker_qual_employ_temp['CRD Number'] = [CRD_number]*broker_qual_employ_temp.shape[0]\n",
    "    broker_qual_exam_temp['CRD_Number'] = [CRD_number]*broker_qual_exam_temp.shape[0]\n",
    "    \n",
    "    broker_qual_employ = pd.concat([broker_qual_employ,broker_qual_employ_temp])\n",
    "    broker_qual_exam = pd.concat([broker_qual_exam,broker_qual_exam_temp])\n",
    "    broker_name_CRD = pd.concat([broker_name_CRD,get_broker_name_CRD(doc)])\n",
    "    broker_branch_office = pd.concat([broker_branch_office,get_branch_office(doc)])"
   ]
  },
  {
   "cell_type": "code",
   "execution_count": null,
   "metadata": {},
   "outputs": [],
   "source": [
    "broker_qual_exam.to_csv('C:\\\\Users\\\\i26184\\\\Desktop\\\\Broker\\\\broker_qual_exam.csv',index= False)"
   ]
  },
  {
   "cell_type": "code",
   "execution_count": null,
   "metadata": {},
   "outputs": [],
   "source": [
    "broker_qual_employ.to_csv('C:\\\\Users\\\\i26184\\\\Desktop\\\\Broker\\\\broker_qual_employ.csv',index= False)"
   ]
  },
  {
   "cell_type": "code",
   "execution_count": null,
   "metadata": {},
   "outputs": [],
   "source": [
    "broker_name_CRD.to_csv('C:\\\\Users\\\\i26184\\\\Desktop\\\\Broker\\\\broker_name_CRD.csv',index= False)"
   ]
  },
  {
   "cell_type": "code",
   "execution_count": null,
   "metadata": {},
   "outputs": [],
   "source": [
    "broker_branch_office.to_csv('C:\\\\Users\\\\i26184\\\\Desktop\\\\Broker\\\\broker_branch_office.csv',index= False)"
   ]
  },
  {
   "cell_type": "code",
   "execution_count": null,
   "metadata": {},
   "outputs": [],
   "source": [
    "broker_branch_office[broker_branch_office['Company Info']!='NOT FOUND'].shape"
   ]
  },
  {
   "cell_type": "code",
   "execution_count": null,
   "metadata": {
    "scrolled": true
   },
   "outputs": [],
   "source": [
    "broker_qual_employ['Category'].unique()"
   ]
  },
  {
   "cell_type": "code",
   "execution_count": null,
   "metadata": {},
   "outputs": [],
   "source": [
    "doc = fitz.open('/home/ubuntu/Broker/individual_816727.pdf')"
   ]
  },
  {
   "cell_type": "code",
   "execution_count": null,
   "metadata": {},
   "outputs": [],
   "source": [
    "page1 = doc.loadPage(6).getTextBlocks()"
   ]
  },
  {
   "cell_type": "code",
   "execution_count": null,
   "metadata": {},
   "outputs": [],
   "source": [
    "page1 = [x[4] for x in page1]"
   ]
  },
  {
   "cell_type": "code",
   "execution_count": null,
   "metadata": {},
   "outputs": [],
   "source": [
    "page1"
   ]
  },
  {
   "cell_type": "code",
   "execution_count": null,
   "metadata": {},
   "outputs": [],
   "source": [
    "get_SRO_registration_from_pagetextblock(doc.loadPage(3).getTextBlocks())"
   ]
  },
  {
   "cell_type": "code",
   "execution_count": null,
   "metadata": {},
   "outputs": [],
   "source": []
  },
  {
   "cell_type": "code",
   "execution_count": null,
   "metadata": {},
   "outputs": [],
   "source": [
    "page1_textblock = page1.getTextBlocks()"
   ]
  },
  {
   "cell_type": "code",
   "execution_count": null,
   "metadata": {},
   "outputs": [],
   "source": [
    "page1_textblock"
   ]
  },
  {
   "cell_type": "code",
   "execution_count": null,
   "metadata": {},
   "outputs": [],
   "source": []
  }
 ],
 "metadata": {
  "kernelspec": {
   "display_name": "Python 3",
   "language": "python",
   "name": "python3"
  },
  "language_info": {
   "codemirror_mode": {
    "name": "ipython",
    "version": 3
   },
   "file_extension": ".py",
   "mimetype": "text/x-python",
   "name": "python",
   "nbconvert_exporter": "python",
   "pygments_lexer": "ipython3",
   "version": "3.7.4"
  }
 },
 "nbformat": 4,
 "nbformat_minor": 2
}
