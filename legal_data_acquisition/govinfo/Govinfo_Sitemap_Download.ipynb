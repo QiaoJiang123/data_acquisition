{
 "cells": [
  {
   "cell_type": "code",
   "execution_count": null,
   "id": "8ea0356c",
   "metadata": {},
   "outputs": [],
   "source": [
    "import requests\n",
    "import pandas as pd\n",
    "from bs4 import BeautifulSoup\n",
    "import os\n",
    "import glob\n",
    "import time"
   ]
  },
  {
   "cell_type": "markdown",
   "id": "8dfcfef3",
   "metadata": {},
   "source": [
    "## Get US court - year url",
    "# Created by Qiao Jiang"
   ]
  },
  {
   "cell_type": "code",
   "execution_count": null,
   "id": "8f5e5650",
   "metadata": {},
   "outputs": [],
   "source": [
    "sitemap_main_url = 'https://www.govinfo.gov/sitemap/USCOURTS_sitemap_index.xml'"
   ]
  },
  {
   "cell_type": "code",
   "execution_count": null,
   "id": "24e13642",
   "metadata": {},
   "outputs": [],
   "source": [
    "response = requests.get(sitemap_main_url)"
   ]
  },
  {
   "cell_type": "code",
   "execution_count": null,
   "id": "02f547ff",
   "metadata": {},
   "outputs": [],
   "source": [
    "soup = BeautifulSoup(response.content)"
   ]
  },
  {
   "cell_type": "code",
   "execution_count": null,
   "id": "7c76d1e7",
   "metadata": {},
   "outputs": [],
   "source": [
    "US_court_year_sitemap = [x.text for x in soup.find_all('loc')]"
   ]
  },
  {
   "cell_type": "markdown",
   "id": "8a3e5279",
   "metadata": {},
   "source": [
    "## Get case url from US court - year url"
   ]
  },
  {
   "cell_type": "code",
   "execution_count": null,
   "id": "2966266e",
   "metadata": {},
   "outputs": [],
   "source": [
    "# need to run twice or set time.sleep(1)"
   ]
  },
  {
   "cell_type": "code",
   "execution_count": null,
   "id": "1fd1bf37",
   "metadata": {},
   "outputs": [],
   "source": [
    "# You can change the output folder\n",
    "Govinfo_sitemap_output_folders = './Govinfo_Sitemap/'"
   ]
  },
  {
   "cell_type": "code",
   "execution_count": null,
   "id": "6555a4b8",
   "metadata": {},
   "outputs": [],
   "source": [
    "if not os.path.exists(Govinfo_sitemap_output_folders):\n",
    "    os.makedirs(Govinfo_sitemap_output_folders)"
   ]
  },
  {
   "cell_type": "code",
   "execution_count": null,
   "id": "2dc13676",
   "metadata": {},
   "outputs": [],
   "source": [
    "existing_file = glob.glob(Govinfo_sitemap_output_folders+'*.csv')"
   ]
  },
  {
   "cell_type": "code",
   "execution_count": null,
   "id": "0cd496d9",
   "metadata": {},
   "outputs": [],
   "source": [
    "remaining_url = [x for x in US_court_year_sitemap if Govinfo_sitemap_output_folders+x.split('/')[-1].replace('.xml','.csv') not in existing_file]"
   ]
  },
  {
   "cell_type": "code",
   "execution_count": null,
   "id": "39958213",
   "metadata": {},
   "outputs": [],
   "source": [
    "print(len(US_court_year_sitemap))"
   ]
  },
  {
   "cell_type": "code",
   "execution_count": null,
   "id": "7949bc4e",
   "metadata": {},
   "outputs": [],
   "source": [
    "print(len(remaining_url))"
   ]
  },
  {
   "cell_type": "code",
   "execution_count": null,
   "id": "b4a94040",
   "metadata": {
    "scrolled": true
   },
   "outputs": [],
   "source": [
    "case_df_list = []\n",
    "for i, url in enumerate(remaining_url):\n",
    "    #time.sleep(1)\n",
    "    print(i)\n",
    "    response = requests.get(url)\n",
    "    soup = BeautifulSoup(response.content)\n",
    "    case_list = [x.text for x in soup.find_all('loc')]\n",
    "    temp = pd.DataFrame({'US_court_year_sitemap':[url]*len(case_list),\n",
    "                         'case_url':case_list})\n",
    "    temp.to_csv(Govinfo_sitemap_output_folders+url.split('/')[-1].replace('.xml','.csv'),index = False)\n",
    "    case_df_list.append(temp)"
   ]
  },
  {
   "cell_type": "code",
   "execution_count": null,
   "id": "50db7483",
   "metadata": {},
   "outputs": [],
   "source": [
    "case_df_file = glob.glob(Govinfo_sitemap_output_folders+'*.csv')"
   ]
  },
  {
   "cell_type": "code",
   "execution_count": null,
   "id": "a36bbde9",
   "metadata": {},
   "outputs": [],
   "source": [
    "case_df_list = []\n",
    "for file in case_df_file:\n",
    "    case_df_list.append(pd.read_csv(file))\n",
    "case_df = pd.concat(case_df_list)\n",
    "case_df.to_csv(Govinfo_sitemap_output_folders+'govinfo_sitemap_all_url.csv', index = False)"
   ]
  },
  {
   "cell_type": "code",
   "execution_count": null,
   "id": "e74bd720",
   "metadata": {},
   "outputs": [],
   "source": [
    "case_df.shape"
   ]
  }
 ],
 "metadata": {
  "kernelspec": {
   "display_name": "Python 3 (ipykernel)",
   "language": "python",
   "name": "python3"
  },
  "language_info": {
   "codemirror_mode": {
    "name": "ipython",
    "version": 3
   },
   "file_extension": ".py",
   "mimetype": "text/x-python",
   "name": "python",
   "nbconvert_exporter": "python",
   "pygments_lexer": "ipython3",
   "version": "3.9.7"
  }
 },
 "nbformat": 4,
 "nbformat_minor": 5
}
