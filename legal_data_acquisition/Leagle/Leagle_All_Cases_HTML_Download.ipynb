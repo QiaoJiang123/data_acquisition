{
 "cells": [
  {
   "cell_type": "code",
   "execution_count": 1,
   "metadata": {},
   "outputs": [],
   "source": [
    "from selenium import webdriver\n",
    "from selenium.webdriver.chrome.options import Options\n",
    "from time import sleep\n",
    "import pandas as pd\n",
    "import numpy as np\n",
    "from selenium.webdriver.support.ui import WebDriverWait\n",
    "from selenium.webdriver.common.by import By\n",
    "from selenium.webdriver.support import expected_conditions as EC\n",
    "from selenium.common.exceptions import TimeoutException\n",
    "import re\n",
    "import copy\n",
    "from bs4 import BeautifulSoup\n",
    "import pickle\n",
    "import glob\n",
    "from datetime import timedelta, date\n",
    "import urllib.request\n",
    "from multiprocessing import Pool\n",
    "import time\n",
    "from http_request_randomizer.requests.proxy.requestProxy import RequestProxy\n",
    "import random"
   ]
  },
  {
   "cell_type": "markdown",
   "metadata": {},
   "source": [
    "req_proxy = RequestProxy() #you may get different number of proxy when  you run this at each time\n",
    "proxies = req_proxy.get_proxy_list() #this will create proxy list"
   ]
  },
  {
   "cell_type": "markdown",
   "metadata": {},
   "source": [
    "## Step 1: Get html links for all cases"
   ]
  },
  {
   "cell_type": "code",
   "execution_count": 2,
   "metadata": {},
   "outputs": [],
   "source": [
    "# From 01/01/1900 to 09/10/2020: 8096951 cases\n",
    "# From 01/01/1850 to 09/10/2020: 8100894 cases\n",
    "# From 01/01/1800 to 09/10/2020: 8101326 cases\n",
    "# From 01/01/1700 to 09/10/2020: 8101326 cases"
   ]
  },
  {
   "cell_type": "code",
   "execution_count": 3,
   "metadata": {},
   "outputs": [],
   "source": [
    "total_page_number = int(8101326/20)+1"
   ]
  },
  {
   "cell_type": "code",
   "execution_count": 4,
   "metadata": {},
   "outputs": [
    {
     "data": {
      "text/plain": [
       "405067"
      ]
     },
     "execution_count": 4,
     "metadata": {},
     "output_type": "execute_result"
    }
   ],
   "source": [
    "total_page_number"
   ]
  },
  {
   "cell_type": "code",
   "execution_count": 5,
   "metadata": {},
   "outputs": [],
   "source": [
    "all_url_list = ['https://www.leagle.com/leaglesearch?page='+str(i+1)+'&tod=09/10/2020&frd=01/01/1700' for i in range(total_page_number)]"
   ]
  },
  {
   "cell_type": "code",
   "execution_count": 6,
   "metadata": {},
   "outputs": [],
   "source": [
    "all_url_list = ['https://www.leagle.com/leaglesearch?page='+str(i+1)+'&tod=09%2F10%2F2020&frd=01%2F01%2F1700' for i in range(total_page_number)]"
   ]
  },
  {
   "cell_type": "code",
   "execution_count": null,
   "metadata": {},
   "outputs": [],
   "source": [
    "PROXY = proxies[random.randint(0,(len(proxies)-1))].get_address()\n",
    "        webdriver.DesiredCapabilities.CHROME['proxy']={\n",
    "            \"httpProxy\":PROXY,\n",
    "            \"ftpProxy\":PROXY,\n",
    "            \"sslProxy\":PROXY,\n",
    "\n",
    "            \"proxyType\":\"MANUAL\",\n",
    "\n",
    "        }"
   ]
  },
  {
   "cell_type": "code",
   "execution_count": 9,
   "metadata": {},
   "outputs": [],
   "source": [
    "def get_html_page_source(url):\n",
    "    try:\n",
    "        \n",
    "        chrome_options=Options()\n",
    "        #chrome_options.add_argument('--headless')\n",
    "        #br = webdriver.Chrome(options=chrome_options,executable_path=r'C:\\Users\\i26184\\Desktop\\chromedriver.exe')\n",
    "        chrome_options.add_experimental_option(\"prefs\", {\n",
    "          \"download.prompt_for_download\": False,\n",
    "          \"download.directory_upgrade\": True,\n",
    "          \"safebrowsing.enabled\": False\n",
    "        })\n",
    "        br = webdriver.Chrome(options=chrome_options, executable_path='/home/ubuntu/chromedriver')\n",
    "        br.get(url)\n",
    "\n",
    "        element = WebDriverWait(br, 25).until(EC.presence_of_element_located((By.XPATH, \"//div[@class='search-result-1']\")))\n",
    "        #page_number = url.replace('https://www.leagle.com/leaglesearch?page=','').replace('&tod=09/10/2020&frd=01/01/1700','')\n",
    "        page_number = url.replace('https://www.leagle.com/leaglesearch?page=','').replace('&tod=09%2F10%2F2020&frd=01%2F01%2F1700','')\n",
    "        file_name = '/home/ubuntu/leagle_all_cases/page_'+page_number+'.html'\n",
    "\n",
    "        with open(file_name, \"w\") as file:\n",
    "            file.write(br.page_source)\n",
    "        br.close()\n",
    "        return None\n",
    "    \n",
    "    except:\n",
    "        br.close()\n",
    "        return None"
   ]
  },
  {
   "cell_type": "code",
   "execution_count": 10,
   "metadata": {},
   "outputs": [],
   "source": [
    "existing_page = glob.glob('/home/ubuntu/leagle_all_cases/*', recursive=True)"
   ]
  },
  {
   "cell_type": "code",
   "execution_count": 11,
   "metadata": {},
   "outputs": [],
   "source": [
    "existing_page = [x.split('/')[-1].replace('.html','') for x in existing_page]"
   ]
  },
  {
   "cell_type": "code",
   "execution_count": 12,
   "metadata": {},
   "outputs": [
    {
     "data": {
      "text/plain": [
       "['page_1']"
      ]
     },
     "execution_count": 12,
     "metadata": {},
     "output_type": "execute_result"
    }
   ],
   "source": [
    "existing_page"
   ]
  },
  {
   "cell_type": "code",
   "execution_count": 13,
   "metadata": {},
   "outputs": [],
   "source": [
    "all_url_page = [x.replace('https://www.leagle.com/leaglesearch?','').replace('&tod=09%2F10%2F2020&frd=01%2F01%2F1700','').replace('=','_') for x in all_url_list]"
   ]
  },
  {
   "cell_type": "code",
   "execution_count": 14,
   "metadata": {},
   "outputs": [],
   "source": [
    "all_url_dict = dict(zip(all_url_page,all_url_list))"
   ]
  },
  {
   "cell_type": "code",
   "execution_count": 15,
   "metadata": {},
   "outputs": [],
   "source": [
    "remain_page = set(all_url_page) - set(existing_page)"
   ]
  },
  {
   "cell_type": "code",
   "execution_count": 16,
   "metadata": {},
   "outputs": [],
   "source": [
    "remain_url = [all_url_dict[x] for x in remain_page]"
   ]
  },
  {
   "cell_type": "code",
   "execution_count": 17,
   "metadata": {},
   "outputs": [
    {
     "data": {
      "text/plain": [
       "405067"
      ]
     },
     "execution_count": 17,
     "metadata": {},
     "output_type": "execute_result"
    }
   ],
   "source": [
    "len(all_url_list)"
   ]
  },
  {
   "cell_type": "code",
   "execution_count": 18,
   "metadata": {
    "scrolled": true
   },
   "outputs": [
    {
     "data": {
      "text/plain": [
       "405066"
      ]
     },
     "execution_count": 18,
     "metadata": {},
     "output_type": "execute_result"
    }
   ],
   "source": [
    "len(remain_url)"
   ]
  },
  {
   "cell_type": "code",
   "execution_count": null,
   "metadata": {},
   "outputs": [],
   "source": [
    "get_html_page_source(remain_url[0])"
   ]
  },
  {
   "cell_type": "code",
   "execution_count": null,
   "metadata": {},
   "outputs": [],
   "source": [
    "remain_url[0]"
   ]
  },
  {
   "cell_type": "code",
   "execution_count": null,
   "metadata": {
    "scrolled": true
   },
   "outputs": [],
   "source": [
    "start_time = time.time()\n",
    "p = Pool(8)\n",
    "result = p.map(get_html_page_source,remain_url)\n",
    "p.close()\n",
    "p.join()\n",
    "end_time = time.time()\n",
    "print(\"--- %s seconds ---\" % (end_time - start_time)) # 784"
   ]
  }
 ],
 "metadata": {
  "kernelspec": {
   "display_name": "Python 3 (ipykernel)",
   "language": "python",
   "name": "python3"
  },
  "language_info": {
   "codemirror_mode": {
    "name": "ipython",
    "version": 3
   },
   "file_extension": ".py",
   "mimetype": "text/x-python",
   "name": "python",
   "nbconvert_exporter": "python",
   "pygments_lexer": "ipython3",
   "version": "3.11.3"
  }
 },
 "nbformat": 4,
 "nbformat_minor": 4
}
