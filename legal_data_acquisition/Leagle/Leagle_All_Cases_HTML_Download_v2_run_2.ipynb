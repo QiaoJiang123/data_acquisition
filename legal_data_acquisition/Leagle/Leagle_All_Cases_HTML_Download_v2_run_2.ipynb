{
 "cells": [
  {
   "cell_type": "code",
   "execution_count": 1,
   "metadata": {},
   "outputs": [],
   "source": [
    "from selenium import webdriver\n",
    "from selenium.webdriver.chrome.options import Options\n",
    "from time import sleep\n",
    "import pandas as pd\n",
    "import numpy as np\n",
    "from selenium.webdriver.support.ui import WebDriverWait\n",
    "from selenium.webdriver.common.by import By\n",
    "from selenium.webdriver.support import expected_conditions as EC\n",
    "from selenium.common.exceptions import TimeoutException\n",
    "import re\n",
    "import copy\n",
    "from bs4 import BeautifulSoup\n",
    "import pickle\n",
    "import glob\n",
    "from datetime import timedelta, date\n",
    "import urllib.request\n",
    "from multiprocessing import Pool\n",
    "import time"
   ]
  },
  {
   "cell_type": "markdown",
   "metadata": {},
   "source": [
    "req_proxy = RequestProxy() #you may get different number of proxy when  you run this at each time\n",
    "proxies = req_proxy.get_proxy_list() #this will create proxy list"
   ]
  },
  {
   "cell_type": "markdown",
   "metadata": {},
   "source": [
    "## Step 1: Get html links for all cases"
   ]
  },
  {
   "cell_type": "code",
   "execution_count": 2,
   "metadata": {},
   "outputs": [],
   "source": [
    "# From 01/01/2020 to 01/01/2021: 288004 cases\n",
    "# From 01/01/2019 to 01/01/2020: 416211 cases\n",
    "# From 01/01/2018 to 01/01/2019: 429257 cases\n",
    "# From 01/01/2017 to 01/01/2018: 439794 cases\n",
    "# From 01/01/2016 to 01/01/2017: 432717 cases\n",
    "# From 01/01/2014 to 01/01/2016: 833128 cases\n",
    "# From 01/01/2012 to 01/01/2014: 790850 cases\n",
    "# From 01/01/2010 to 01/01/2012: 723020 cases"
   ]
  },
  {
   "cell_type": "code",
   "execution_count": 41,
   "metadata": {
    "scrolled": true
   },
   "outputs": [],
   "source": [
    "start_date = '01_01_2010'\n",
    "end_date = '01_01_2012'"
   ]
  },
  {
   "cell_type": "code",
   "execution_count": 42,
   "metadata": {},
   "outputs": [],
   "source": [
    "url = 'https://www.leagle.com/leaglesearch?page=1&tod='+end_date.replace('_','/')+'&frd='+start_date.replace('_','/')"
   ]
  },
  {
   "cell_type": "code",
   "execution_count": 43,
   "metadata": {},
   "outputs": [
    {
     "data": {
      "text/plain": [
       "'https://www.leagle.com/leaglesearch?page=1&tod=01/01/2012&frd=01/01/2010'"
      ]
     },
     "execution_count": 43,
     "metadata": {},
     "output_type": "execute_result"
    }
   ],
   "source": [
    "url"
   ]
  },
  {
   "cell_type": "code",
   "execution_count": 44,
   "metadata": {},
   "outputs": [],
   "source": [
    "chrome_options=Options()\n",
    "#chrome_options.add_argument('--headless')\n",
    "#br = webdriver.Chrome(options=chrome_options,executable_path=r'C:\\Users\\i26184\\Desktop\\chromedriver.exe')\n",
    "chrome_options.add_experimental_option(\"prefs\", {\n",
    "  \"download.prompt_for_download\": False,\n",
    "  \"download.directory_upgrade\": True,\n",
    "  \"safebrowsing.enabled\": False\n",
    "})\n",
    "br = webdriver.Chrome(options=chrome_options, executable_path='/home/ubuntu/chromedriver')\n",
    "br.get(url)\n",
    "\n",
    "element = WebDriverWait(br, 25).until(EC.presence_of_element_located((By.XPATH, \"//div[@class='search-result-1']\")))\n",
    "#page_number = url.replace('https://www.leagle.com/leaglesearch?page=','').replace('&tod=09/10/2020&frd=01/01/1700','')"
   ]
  },
  {
   "cell_type": "code",
   "execution_count": 45,
   "metadata": {},
   "outputs": [],
   "source": [
    "page_number = url.replace('https://www.leagle.com/leaglesearch?page=','').split('&tod')[0].strip()\n",
    "file_name = '/home/ubuntu/leagle_all_cases/'+start_date+'_to_'+end_date+'_page_'+page_number+'.html'\n",
    "\n",
    "with open(file_name, \"w\") as file:\n",
    "        file.write(br.page_source)"
   ]
  },
  {
   "cell_type": "code",
   "execution_count": 46,
   "metadata": {},
   "outputs": [],
   "source": [
    "total_pages = int(723020/20)+1"
   ]
  },
  {
   "cell_type": "code",
   "execution_count": 47,
   "metadata": {},
   "outputs": [
    {
     "data": {
      "text/plain": [
       "36152"
      ]
     },
     "execution_count": 47,
     "metadata": {},
     "output_type": "execute_result"
    }
   ],
   "source": [
    "total_pages"
   ]
  },
  {
   "cell_type": "code",
   "execution_count": null,
   "metadata": {
    "scrolled": true
   },
   "outputs": [],
   "source": [
    "for i in range(total_pages):\n",
    "    print(i)\n",
    "    url_old = br.current_url\n",
    "    next_btn = br.find_element_by_class_name('next')\n",
    "    next_btn.click()\n",
    "    \n",
    "    time.sleep(1)\n",
    "    \n",
    "    url_new = br.current_url\n",
    "\n",
    "    page_number = url_new.replace('https://www.leagle.com/leaglesearch?page=','').split('&tod')[0].split('&frd')[0].strip()\n",
    "    file_name = '/home/ubuntu/leagle_all_cases/'+start_date+'_to_'+end_date+'_page_'+page_number+'.html'\n",
    "\n",
    "    with open(file_name, \"w\") as file:\n",
    "            file.write(br.page_source)"
   ]
  },
  {
   "cell_type": "code",
   "execution_count": null,
   "metadata": {},
   "outputs": [],
   "source": []
  }
 ],
 "metadata": {
  "kernelspec": {
   "display_name": "Python 3 (ipykernel)",
   "language": "python",
   "name": "python3"
  },
  "language_info": {
   "codemirror_mode": {
    "name": "ipython",
    "version": 3
   },
   "file_extension": ".py",
   "mimetype": "text/x-python",
   "name": "python",
   "nbconvert_exporter": "python",
   "pygments_lexer": "ipython3",
   "version": "3.11.3"
  }
 },
 "nbformat": 4,
 "nbformat_minor": 4
}
