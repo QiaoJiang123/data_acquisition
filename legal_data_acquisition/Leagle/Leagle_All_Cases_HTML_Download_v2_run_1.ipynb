{
 "cells": [
  {
   "cell_type": "code",
   "execution_count": 1,
   "metadata": {},
   "outputs": [],
   "source": [
    "from selenium import webdriver\n",
    "from selenium.webdriver.chrome.options import Options\n",
    "from time import sleep\n",
    "import pandas as pd\n",
    "import numpy as np\n",
    "from selenium.webdriver.support.ui import WebDriverWait\n",
    "from selenium.webdriver.common.by import By\n",
    "from selenium.webdriver.support import expected_conditions as EC\n",
    "from selenium.common.exceptions import TimeoutException\n",
    "import re\n",
    "import copy\n",
    "from bs4 import BeautifulSoup\n",
    "import pickle\n",
    "import glob\n",
    "from datetime import timedelta, date\n",
    "import urllib.request\n",
    "from multiprocessing import Pool\n",
    "import time\n",
    "from http_request_randomizer.requests.proxy.requestProxy import RequestProxy\n",
    "import random"
   ]
  },
  {
   "cell_type": "markdown",
   "metadata": {},
   "source": [
    "## Step 1: Get html links for all cases"
   ]
  },
  {
   "cell_type": "code",
   "execution_count": 2,
   "metadata": {},
   "outputs": [],
   "source": [
    "# No file from 01/01/1700 to 01/01/1800"
   ]
  },
  {
   "cell_type": "code",
   "execution_count": 11,
   "metadata": {},
   "outputs": [],
   "source": [
    "# From 01/01/1700 to 01/01/1800: 1 case\n",
    "# From 01/01/1800 to 01/01/1900: 4413 cases\n",
    "# From 01/01/1900 to 01/01/1910: 2058 cases\n",
    "# From 01/01/1910 to 01/01/1950: 108974 cases\n",
    "# From 01/01/1950 to 01/01/1960: 258092 cases\n",
    "# From 01/01/1960 to 01/01/1970: 336290 cases\n",
    "# From 01/01/1970 to 01/01/1980: 504879 cases\n",
    "# From 01/01/1980 to 01/01/1985: 325942 cases\n",
    "# From 01/01/1985 to 01/01/1990: 345619 cases\n",
    "# From 01/01/1990 to 01/01/1995: 351467 cases\n",
    "# From 01/01/1995 to 01/01/2000: 337910 cases\n",
    "# From 01/01/2000 to 01/01/2005: 381608 cases\n",
    "# From 01/01/2005 to 01/01/2010: 882785 cases"
   ]
  },
  {
   "cell_type": "code",
   "execution_count": 12,
   "metadata": {},
   "outputs": [],
   "source": [
    "total_page_number = int(8101326/20)+1"
   ]
  },
  {
   "cell_type": "code",
   "execution_count": 13,
   "metadata": {},
   "outputs": [
    {
     "data": {
      "text/plain": [
       "405067"
      ]
     },
     "execution_count": 13,
     "metadata": {},
     "output_type": "execute_result"
    }
   ],
   "source": [
    "total_page_number"
   ]
  },
  {
   "cell_type": "code",
   "execution_count": 28,
   "metadata": {},
   "outputs": [],
   "source": [
    "start_date = '01_01_2005'\n",
    "end_date = '01_01_2010'"
   ]
  },
  {
   "cell_type": "code",
   "execution_count": 29,
   "metadata": {},
   "outputs": [],
   "source": [
    "url = 'https://www.leagle.com/leaglesearch?page=1&tod='+end_date.replace('_','/')+'&frd='+start_date.replace('_','/')"
   ]
  },
  {
   "cell_type": "code",
   "execution_count": 30,
   "metadata": {},
   "outputs": [
    {
     "data": {
      "text/plain": [
       "'https://www.leagle.com/leaglesearch?page=1&tod=01/01/2010&frd=01/01/2005'"
      ]
     },
     "execution_count": 30,
     "metadata": {},
     "output_type": "execute_result"
    }
   ],
   "source": [
    "url"
   ]
  },
  {
   "cell_type": "code",
   "execution_count": 31,
   "metadata": {},
   "outputs": [],
   "source": [
    "chrome_options=Options()\n",
    "#chrome_options.add_argument('--headless')\n",
    "#br = webdriver.Chrome(options=chrome_options,executable_path=r'C:\\Users\\i26184\\Desktop\\chromedriver.exe')\n",
    "chrome_options.add_experimental_option(\"prefs\", {\n",
    "  \"download.prompt_for_download\": False,\n",
    "  \"download.directory_upgrade\": True,\n",
    "  \"safebrowsing.enabled\": False\n",
    "})\n",
    "br = webdriver.Chrome(options=chrome_options, executable_path='/home/ubuntu/chromedriver')\n",
    "br.get(url)\n",
    "\n",
    "element = WebDriverWait(br, 25).until(EC.presence_of_element_located((By.XPATH, \"//div[@class='search-result-1']\")))\n",
    "#page_number = url.replace('https://www.leagle.com/leaglesearch?page=','').replace('&tod=09/10/2020&frd=01/01/1700','')"
   ]
  },
  {
   "cell_type": "code",
   "execution_count": 32,
   "metadata": {},
   "outputs": [],
   "source": [
    "page_number = url.replace('https://www.leagle.com/leaglesearch?page=','').split('&tod')[0].strip()\n",
    "file_name = '/home/ubuntu/leagle_all_cases/'+start_date+'_to_'+end_date+'_page_'+page_number+'.html'\n",
    "\n",
    "with open(file_name, \"w\") as file:\n",
    "        file.write(br.page_source)"
   ]
  },
  {
   "cell_type": "code",
   "execution_count": 33,
   "metadata": {},
   "outputs": [],
   "source": [
    "total_pages = int(882785/20)+1"
   ]
  },
  {
   "cell_type": "code",
   "execution_count": 34,
   "metadata": {},
   "outputs": [
    {
     "data": {
      "text/plain": [
       "44140"
      ]
     },
     "execution_count": 34,
     "metadata": {},
     "output_type": "execute_result"
    }
   ],
   "source": [
    "total_pages"
   ]
  },
  {
   "cell_type": "code",
   "execution_count": null,
   "metadata": {
    "scrolled": true
   },
   "outputs": [],
   "source": [
    "for i in range(total_pages):\n",
    "    print(i)\n",
    "    url_old = br.current_url\n",
    "    next_btn = br.find_element_by_class_name('next')\n",
    "    next_btn.click()\n",
    "    \n",
    "    time.sleep(1)\n",
    "    \n",
    "    url_new = br.current_url\n",
    "\n",
    "    page_number = url_new.replace('https://www.leagle.com/leaglesearch?page=','').split('&tod')[0].split('&frd')[0].strip()\n",
    "    file_name = '/home/ubuntu/leagle_all_cases/'+start_date+'_to_'+end_date+'_page_'+page_number+'.html'\n",
    "\n",
    "    with open(file_name, \"w\") as file:\n",
    "            file.write(br.page_source)"
   ]
  },
  {
   "cell_type": "code",
   "execution_count": 36,
   "metadata": {},
   "outputs": [
    {
     "data": {
      "text/plain": [
       "111891"
      ]
     },
     "execution_count": 36,
     "metadata": {},
     "output_type": "execute_result"
    }
   ],
   "source": [
    "5449+325+12905+16815+25244 + 16298 + 17281 + 17574 + 16896 + 19081 + 44140"
   ]
  },
  {
   "cell_type": "code",
   "execution_count": null,
   "metadata": {},
   "outputs": [],
   "source": []
  }
 ],
 "metadata": {
  "kernelspec": {
   "display_name": "Python 3 (ipykernel)",
   "language": "python",
   "name": "python3"
  },
  "language_info": {
   "codemirror_mode": {
    "name": "ipython",
    "version": 3
   },
   "file_extension": ".py",
   "mimetype": "text/x-python",
   "name": "python",
   "nbconvert_exporter": "python",
   "pygments_lexer": "ipython3",
   "version": "3.11.3"
  }
 },
 "nbformat": 4,
 "nbformat_minor": 4
}
