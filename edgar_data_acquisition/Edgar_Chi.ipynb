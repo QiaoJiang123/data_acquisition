{
 "cells": [
  {
   "cell_type": "code",
   "execution_count": 1,
   "id": "4bba8f9c",
   "metadata": {},
   "outputs": [],
   "source": [
    "import datetime\n",
    "import pandas as pd\n",
    "import glob\n",
    "import time\n",
    "import re\n",
    "import os\n",
    "import requests\n",
    "import json\n",
    "from bs4 import BeautifulSoup\n",
    "from collections import Counter"
   ]
  },
  {
   "cell_type": "code",
   "execution_count": 2,
   "id": "9e4ded8d",
   "metadata": {},
   "outputs": [],
   "source": [
    "class EdgarMasterDownload():\n",
    "    \n",
    "    \"\"\"\n",
    "    \n",
    "    This class downloads the master files of Edgar filing for all companies to a specified folder\n",
    "    \n",
    "    The different between EdgarMasterDownload and EdgarMasterDownloadSelenium is that this class requires you\n",
    "    to provide your information in User-Agent. Otherwise SEC will block you.\n",
    "    \n",
    "    \"\"\"\n",
    "    def __init__(self,user_agent,start_year = 1993, end_year = 'now',output_folder = 'edgar_master'):\n",
    "        \n",
    "        \"\"\"\n",
    "        \n",
    "        Args:\n",
    "            start_year: must be an integer\n",
    "            end_year: must be an integer or the string 'now'\n",
    "            output_folder: must be provided. Make sure it is a new folder without any file\n",
    "            user_agent: this is a string that contains both your name and email address required by SEC.\n",
    "                        For example, Your Name Your Email Address\n",
    "        \n",
    "        \"\"\"\n",
    "        \n",
    "        \n",
    "        self.start_year = start_year\n",
    "        self.end_year = end_year\n",
    "        self.output_folder = output_folder\n",
    "        self.user_agent = user_agent\n",
    "        self.headers = {'User-Agent':user_agent,\n",
    "           'Accept-Encoding': 'gzip, deflate',\n",
    "           'Host':'www.sec.gov'}\n",
    "        \n",
    "        if not os.path.exists(self.output_folder):\n",
    "            os.makedirs(self.output_folder)\n",
    "        \n",
    "        if '/' not in self.output_folder:\n",
    "            self.output_folder = os.getcwd()+'/'+self.output_folder\n",
    "        \n",
    "        if re.findall('^./',self.output_folder)!=[]:\n",
    "            self.output_folder = re.sub('^./',os.getcwd()+'/',self.output_folder)\n",
    "        \n",
    "    def get_master_file_url(self):\n",
    "\n",
    "        \"\"\"\n",
    "        Find all urls of master files\n",
    "        \"\"\"\n",
    "\n",
    "        if self.end_year == 'now':\n",
    "            end_year_int = datetime.date.today().year\n",
    "            end_quarter_int = (datetime.date.today().month - 1) // 3 + 1\n",
    "        else:\n",
    "            end_year_int = int(self.end_year)\n",
    "            end_quarter_int = 4\n",
    "        years = list(range(self.start_year, end_year_int+(self.end_year != 'now')))\n",
    "        quarters = ['QTR1', 'QTR2', 'QTR3', 'QTR4']\n",
    "        history = [(y, q) for y in years for q in quarters]\n",
    "\n",
    "        if self.end_year == 'now':\n",
    "            for i in range(1, end_quarter_int + 1):\n",
    "                history.append((end_year_int, 'QTR%s' % i))\n",
    "        urls = ['https://www.sec.gov/Archives/edgar/full-index/%s/%s/master.idx' % (x[0], x[1]) for x in history]\n",
    "        urls.sort()\n",
    "        print('There are {} urls'.format(len(urls)))\n",
    "        return urls  \n",
    "    \n",
    "    def get_single_master_file(self,master_file_url):\n",
    "        lines= requests.get(master_file_url,headers = self.headers).text.splitlines()\n",
    "        col_name = re.sub('\\s+','',lines[9]).split('|')\n",
    "        master_file_df_temp = pd.DataFrame()\n",
    "        master_file_df_temp[col_name[0]] = [re.sub('\\s+','',x).split('|')[0] for x in lines[11:]]\n",
    "        master_file_df_temp[col_name[1]] = [re.sub('\\s+','',x).split('|')[1] for x in lines[11:]]\n",
    "        master_file_df_temp[col_name[2]] = [re.sub('\\s+','',x).split('|')[2] for x in lines[11:]]\n",
    "        master_file_df_temp[col_name[3]] = [re.sub('\\s+','',x).split('|')[3] for x in lines[11:]]\n",
    "        master_file_df_temp[col_name[4]] = [re.sub('\\s+','',x).split('|')[4] for x in lines[11:]]\n",
    "        return master_file_df_temp\n",
    "     \n",
    "    def get_master_file_combined(self,return_df = False):\n",
    "        urls = self.get_master_file_url()\n",
    "        master_file_df_list = []\n",
    "        for url in urls:\n",
    "            master_file_df_list.append(self.get_single_master_file(url))\n",
    "        master_file_df = pd.concat(master_file_df_list)\n",
    "        \n",
    "        master_file_df.to_csv(self.output_folder+'/master_file_df.csv', index= False)\n",
    "        \n",
    "        if return_df == True:\n",
    "            return master_file_df\n",
    "        else:\n",
    "            return None"
   ]
  },
  {
   "cell_type": "code",
   "execution_count": null,
   "id": "51930b1b",
   "metadata": {},
   "outputs": [],
   "source": [
    "edgar_master_download = EdgarMasterDownload('James Jiang qiaojiang0114@gmail.com',start_year = 1993, end_year = 'now',output_folder = 'edgar_master')"
   ]
  },
  {
   "cell_type": "code",
   "execution_count": null,
   "id": "66e1e789",
   "metadata": {},
   "outputs": [],
   "source": [
    "master_file_df = edgar_master_download.get_master_file_combined(return_df = True)"
   ]
  },
  {
   "cell_type": "code",
   "execution_count": 3,
   "id": "a8e2f035",
   "metadata": {},
   "outputs": [],
   "source": [
    "master_file_df = pd.read_csv('edgar_master/master_file_df.csv')"
   ]
  },
  {
   "cell_type": "code",
   "execution_count": 4,
   "id": "5c11eeb7",
   "metadata": {},
   "outputs": [
    {
     "data": {
      "text/plain": [
       "(22959799, 5)"
      ]
     },
     "execution_count": 4,
     "metadata": {},
     "output_type": "execute_result"
    }
   ],
   "source": [
    "master_file_df.shape"
   ]
  },
  {
   "cell_type": "code",
   "execution_count": 6,
   "id": "f87d9ef8",
   "metadata": {},
   "outputs": [
    {
     "data": {
      "text/plain": [
       "(1965, 5)"
      ]
     },
     "execution_count": 6,
     "metadata": {},
     "output_type": "execute_result"
    }
   ],
   "source": [
    "master_file_df[master_file_df['CIK']==320193].shape"
   ]
  },
  {
   "cell_type": "code",
   "execution_count": 8,
   "id": "c34738df",
   "metadata": {},
   "outputs": [
    {
     "data": {
      "text/html": [
       "<div>\n",
       "<style scoped>\n",
       "    .dataframe tbody tr th:only-of-type {\n",
       "        vertical-align: middle;\n",
       "    }\n",
       "\n",
       "    .dataframe tbody tr th {\n",
       "        vertical-align: top;\n",
       "    }\n",
       "\n",
       "    .dataframe thead th {\n",
       "        text-align: right;\n",
       "    }\n",
       "</style>\n",
       "<table border=\"1\" class=\"dataframe\">\n",
       "  <thead>\n",
       "    <tr style=\"text-align: right;\">\n",
       "      <th></th>\n",
       "      <th>CIK</th>\n",
       "      <th>CompanyName</th>\n",
       "      <th>FormType</th>\n",
       "      <th>DateFiled</th>\n",
       "      <th>Filename</th>\n",
       "    </tr>\n",
       "  </thead>\n",
       "  <tbody>\n",
       "    <tr>\n",
       "      <th>22888246</th>\n",
       "      <td>320193</td>\n",
       "      <td>AppleInc.</td>\n",
       "      <td>PX14A6G</td>\n",
       "      <td>2023-02-22</td>\n",
       "      <td>edgar/data/320193/0001214659-23-002862.txt</td>\n",
       "    </tr>\n",
       "    <tr>\n",
       "      <th>22888247</th>\n",
       "      <td>320193</td>\n",
       "      <td>AppleInc.</td>\n",
       "      <td>SC13G/A</td>\n",
       "      <td>2023-02-07</td>\n",
       "      <td>edgar/data/320193/0001306550-23-008266.txt</td>\n",
       "    </tr>\n",
       "    <tr>\n",
       "      <th>22888248</th>\n",
       "      <td>320193</td>\n",
       "      <td>AppleInc.</td>\n",
       "      <td>SC13G/A</td>\n",
       "      <td>2023-02-09</td>\n",
       "      <td>edgar/data/320193/0001104659-23-015055.txt</td>\n",
       "    </tr>\n",
       "    <tr>\n",
       "      <th>22888249</th>\n",
       "      <td>320193</td>\n",
       "      <td>AppleInc.</td>\n",
       "      <td>SC13G/A</td>\n",
       "      <td>2023-02-14</td>\n",
       "      <td>edgar/data/320193/0001193125-23-038262.txt</td>\n",
       "    </tr>\n",
       "    <tr>\n",
       "      <th>22888250</th>\n",
       "      <td>320193</td>\n",
       "      <td>AppleInc.</td>\n",
       "      <td>SD</td>\n",
       "      <td>2023-03-16</td>\n",
       "      <td>edgar/data/320193/0001140361-23-012065.txt</td>\n",
       "    </tr>\n",
       "  </tbody>\n",
       "</table>\n",
       "</div>"
      ],
      "text/plain": [
       "             CIK CompanyName FormType   DateFiled  \\\n",
       "22888246  320193   AppleInc.  PX14A6G  2023-02-22   \n",
       "22888247  320193   AppleInc.  SC13G/A  2023-02-07   \n",
       "22888248  320193   AppleInc.  SC13G/A  2023-02-09   \n",
       "22888249  320193   AppleInc.  SC13G/A  2023-02-14   \n",
       "22888250  320193   AppleInc.       SD  2023-03-16   \n",
       "\n",
       "                                            Filename  \n",
       "22888246  edgar/data/320193/0001214659-23-002862.txt  \n",
       "22888247  edgar/data/320193/0001306550-23-008266.txt  \n",
       "22888248  edgar/data/320193/0001104659-23-015055.txt  \n",
       "22888249  edgar/data/320193/0001193125-23-038262.txt  \n",
       "22888250  edgar/data/320193/0001140361-23-012065.txt  "
      ]
     },
     "execution_count": 8,
     "metadata": {},
     "output_type": "execute_result"
    }
   ],
   "source": [
    "master_file_df[master_file_df['CIK']==320193].tail()"
   ]
  },
  {
   "cell_type": "code",
   "execution_count": 10,
   "id": "c8782a5b",
   "metadata": {},
   "outputs": [],
   "source": [
    "x = 'edgar/data/320193/0001214659-23-002862.txt'"
   ]
  },
  {
   "cell_type": "code",
   "execution_count": 13,
   "id": "e3245486",
   "metadata": {},
   "outputs": [],
   "source": [
    "def convert_to_url(x):\n",
    "    x = 'https://www.sec.gov/Archives/'+x.replace('-','').replace('.txt','')\n",
    "    return x"
   ]
  },
  {
   "cell_type": "code",
   "execution_count": 16,
   "id": "38c9b6bb",
   "metadata": {},
   "outputs": [
    {
     "data": {
      "text/plain": [
       "'https://www.sec.gov/Archives/edgar/data/320193/000119312523038262'"
      ]
     },
     "execution_count": 16,
     "metadata": {},
     "output_type": "execute_result"
    }
   ],
   "source": [
    "convert_to_url('edgar/data/320193/0001193125-23-038262.txt')"
   ]
  },
  {
   "cell_type": "code",
   "execution_count": 5,
   "id": "f0ee303c",
   "metadata": {},
   "outputs": [
    {
     "data": {
      "text/html": [
       "<div>\n",
       "<style scoped>\n",
       "    .dataframe tbody tr th:only-of-type {\n",
       "        vertical-align: middle;\n",
       "    }\n",
       "\n",
       "    .dataframe tbody tr th {\n",
       "        vertical-align: top;\n",
       "    }\n",
       "\n",
       "    .dataframe thead th {\n",
       "        text-align: right;\n",
       "    }\n",
       "</style>\n",
       "<table border=\"1\" class=\"dataframe\">\n",
       "  <thead>\n",
       "    <tr style=\"text-align: right;\">\n",
       "      <th></th>\n",
       "      <th>CIK</th>\n",
       "      <th>CompanyName</th>\n",
       "      <th>FormType</th>\n",
       "      <th>DateFiled</th>\n",
       "      <th>Filename</th>\n",
       "    </tr>\n",
       "  </thead>\n",
       "  <tbody>\n",
       "    <tr>\n",
       "      <th>0</th>\n",
       "      <td>860585</td>\n",
       "      <td>RBSPARTNERSLP/CT</td>\n",
       "      <td>13FCONP</td>\n",
       "      <td>1993-02-11</td>\n",
       "      <td>edgar/data/860585/9999999997-04-035713.txt</td>\n",
       "    </tr>\n",
       "    <tr>\n",
       "      <th>1</th>\n",
       "      <td>880794</td>\n",
       "      <td>MERRILLLYNCHLIFEVARIABLEANNUITYSEPARATEACCOUNTB</td>\n",
       "      <td>NSAR-B</td>\n",
       "      <td>1993-02-26</td>\n",
       "      <td>edgar/data/880794/9999999997-05-050433.txt</td>\n",
       "    </tr>\n",
       "    <tr>\n",
       "      <th>2</th>\n",
       "      <td>926688</td>\n",
       "      <td>SMITHTHOMASW</td>\n",
       "      <td>13F-HR</td>\n",
       "      <td>1993-02-12</td>\n",
       "      <td>edgar/data/926688/9999999997-05-015654.txt</td>\n",
       "    </tr>\n",
       "    <tr>\n",
       "      <th>3</th>\n",
       "      <td>94673</td>\n",
       "      <td>STORAGETECHNOLOGYCORP</td>\n",
       "      <td>CERTNYS</td>\n",
       "      <td>1993-02-24</td>\n",
       "      <td>edgar/data/94673/9999999997-05-037760.txt</td>\n",
       "    </tr>\n",
       "    <tr>\n",
       "      <th>4</th>\n",
       "      <td>860585</td>\n",
       "      <td>RBSPARTNERSLP/CT</td>\n",
       "      <td>13FCONP</td>\n",
       "      <td>1993-05-12</td>\n",
       "      <td>edgar/data/860585/9999999997-04-042068.txt</td>\n",
       "    </tr>\n",
       "  </tbody>\n",
       "</table>\n",
       "</div>"
      ],
      "text/plain": [
       "      CIK                                      CompanyName FormType  \\\n",
       "0  860585                                 RBSPARTNERSLP/CT  13FCONP   \n",
       "1  880794  MERRILLLYNCHLIFEVARIABLEANNUITYSEPARATEACCOUNTB   NSAR-B   \n",
       "2  926688                                     SMITHTHOMASW   13F-HR   \n",
       "3   94673                            STORAGETECHNOLOGYCORP  CERTNYS   \n",
       "4  860585                                 RBSPARTNERSLP/CT  13FCONP   \n",
       "\n",
       "    DateFiled                                    Filename  \n",
       "0  1993-02-11  edgar/data/860585/9999999997-04-035713.txt  \n",
       "1  1993-02-26  edgar/data/880794/9999999997-05-050433.txt  \n",
       "2  1993-02-12  edgar/data/926688/9999999997-05-015654.txt  \n",
       "3  1993-02-24   edgar/data/94673/9999999997-05-037760.txt  \n",
       "4  1993-05-12  edgar/data/860585/9999999997-04-042068.txt  "
      ]
     },
     "execution_count": 5,
     "metadata": {},
     "output_type": "execute_result"
    }
   ],
   "source": [
    "master_file_df.head()"
   ]
  },
  {
   "cell_type": "code",
   "execution_count": 21,
   "id": "322db4c6",
   "metadata": {},
   "outputs": [],
   "source": [
    "company_wanted_df = pd.read_stata('Deals_with_Public_Target_Ticker&CIK.dta')\n",
    "cik_cusip_linking_table = pd.read_csv('edgar_master/cik-cusip-maps.csv')\n",
    "cik_ticker_linking_table = pd.read_csv('cik_ticker_linking_table.csv')\n",
    "\n",
    "cik_cusip_linking_table['cik'] = [str(int(float(x))) for x in cik_cusip_linking_table['cik']]\n",
    "company_wanted_df['acquirer_cik'] = [str(int(x)) for x in company_wanted_df['acquirer_cik']]\n",
    "cik_ticker_linking_table['cik'] = [str(int(x)) for x in cik_ticker_linking_table['cik']]"
   ]
  },
  {
   "cell_type": "code",
   "execution_count": 31,
   "id": "bd89e86a",
   "metadata": {},
   "outputs": [
    {
     "data": {
      "text/html": [
       "<div>\n",
       "<style scoped>\n",
       "    .dataframe tbody tr th:only-of-type {\n",
       "        vertical-align: middle;\n",
       "    }\n",
       "\n",
       "    .dataframe tbody tr th {\n",
       "        vertical-align: top;\n",
       "    }\n",
       "\n",
       "    .dataframe thead th {\n",
       "        text-align: right;\n",
       "    }\n",
       "</style>\n",
       "<table border=\"1\" class=\"dataframe\">\n",
       "  <thead>\n",
       "    <tr style=\"text-align: right;\">\n",
       "      <th></th>\n",
       "      <th>deal_number</th>\n",
       "      <th>date_announced</th>\n",
       "      <th>acquirer_cik</th>\n",
       "      <th>date_effective</th>\n",
       "      <th>acquirer_cusip</th>\n",
       "      <th>acquirer_ticker_symbol</th>\n",
       "      <th>target_cusip</th>\n",
       "      <th>target_ticker_symbol</th>\n",
       "      <th>target_public_status</th>\n",
       "      <th>acquirer_name</th>\n",
       "      <th>target_name</th>\n",
       "      <th>target_cik</th>\n",
       "      <th>target_ticker_crsp</th>\n",
       "    </tr>\n",
       "  </thead>\n",
       "  <tbody>\n",
       "  </tbody>\n",
       "</table>\n",
       "</div>"
      ],
      "text/plain": [
       "Empty DataFrame\n",
       "Columns: [deal_number, date_announced, acquirer_cik, date_effective, acquirer_cusip, acquirer_ticker_symbol, target_cusip, target_ticker_symbol, target_public_status, acquirer_name, target_name, target_cik, target_ticker_crsp]\n",
       "Index: []"
      ]
     },
     "execution_count": 31,
     "metadata": {},
     "output_type": "execute_result"
    }
   ],
   "source": [
    "company_wanted_df[company_wanted_df['acquirer_cik']=='']"
   ]
  },
  {
   "cell_type": "code",
   "execution_count": 7,
   "id": "234d3339",
   "metadata": {},
   "outputs": [],
   "source": [
    "master_file_cik = list(master_file_df['CIK'].unique())"
   ]
  },
  {
   "cell_type": "code",
   "execution_count": 23,
   "id": "e9031152",
   "metadata": {},
   "outputs": [],
   "source": [
    "master_file_cik = [str(int(x)) for x in master_file_cik]"
   ]
  },
  {
   "cell_type": "code",
   "execution_count": 24,
   "id": "21708327",
   "metadata": {},
   "outputs": [
    {
     "data": {
      "text/plain": [
       "835225"
      ]
     },
     "execution_count": 24,
     "metadata": {},
     "output_type": "execute_result"
    }
   ],
   "source": [
    "len(master_file_cik)"
   ]
  },
  {
   "cell_type": "code",
   "execution_count": 25,
   "id": "8cfa4155",
   "metadata": {},
   "outputs": [
    {
     "data": {
      "text/plain": [
       "440"
      ]
     },
     "execution_count": 25,
     "metadata": {},
     "output_type": "execute_result"
    }
   ],
   "source": [
    "company_wanted_df['acquirer_cik'].nunique()"
   ]
  },
  {
   "cell_type": "code",
   "execution_count": 26,
   "id": "d92504cc",
   "metadata": {},
   "outputs": [
    {
     "data": {
      "text/html": [
       "<div>\n",
       "<style scoped>\n",
       "    .dataframe tbody tr th:only-of-type {\n",
       "        vertical-align: middle;\n",
       "    }\n",
       "\n",
       "    .dataframe tbody tr th {\n",
       "        vertical-align: top;\n",
       "    }\n",
       "\n",
       "    .dataframe thead th {\n",
       "        text-align: right;\n",
       "    }\n",
       "</style>\n",
       "<table border=\"1\" class=\"dataframe\">\n",
       "  <thead>\n",
       "    <tr style=\"text-align: right;\">\n",
       "      <th></th>\n",
       "      <th>CIK</th>\n",
       "      <th>CompanyName</th>\n",
       "      <th>FormType</th>\n",
       "      <th>DateFiled</th>\n",
       "      <th>Filename</th>\n",
       "    </tr>\n",
       "  </thead>\n",
       "  <tbody>\n",
       "    <tr>\n",
       "      <th>0</th>\n",
       "      <td>860585</td>\n",
       "      <td>RBSPARTNERSLP/CT</td>\n",
       "      <td>13FCONP</td>\n",
       "      <td>1993-02-11</td>\n",
       "      <td>edgar/data/860585/9999999997-04-035713.txt</td>\n",
       "    </tr>\n",
       "    <tr>\n",
       "      <th>1</th>\n",
       "      <td>880794</td>\n",
       "      <td>MERRILLLYNCHLIFEVARIABLEANNUITYSEPARATEACCOUNTB</td>\n",
       "      <td>NSAR-B</td>\n",
       "      <td>1993-02-26</td>\n",
       "      <td>edgar/data/880794/9999999997-05-050433.txt</td>\n",
       "    </tr>\n",
       "  </tbody>\n",
       "</table>\n",
       "</div>"
      ],
      "text/plain": [
       "      CIK                                      CompanyName FormType  \\\n",
       "0  860585                                 RBSPARTNERSLP/CT  13FCONP   \n",
       "1  880794  MERRILLLYNCHLIFEVARIABLEANNUITYSEPARATEACCOUNTB   NSAR-B   \n",
       "\n",
       "    DateFiled                                    Filename  \n",
       "0  1993-02-11  edgar/data/860585/9999999997-04-035713.txt  \n",
       "1  1993-02-26  edgar/data/880794/9999999997-05-050433.txt  "
      ]
     },
     "execution_count": 26,
     "metadata": {},
     "output_type": "execute_result"
    }
   ],
   "source": [
    "master_file_df.head(2)"
   ]
  },
  {
   "cell_type": "code",
   "execution_count": null,
   "id": "8d083226",
   "metadata": {},
   "outputs": [],
   "source": []
  },
  {
   "cell_type": "code",
   "execution_count": 39,
   "id": "6ef981bc",
   "metadata": {},
   "outputs": [],
   "source": [
    "def find_cik(cik,cusip,ticker,master_file_cik):\n",
    "    cik_new = 'unknown'\n",
    "    source = 'unknown'\n",
    "    if (cik!='') and (cik in master_file_cik):\n",
    "        cik_new = cik\n",
    "        source = 'cik'\n",
    "    else:\n",
    "        cik_matched = cik_cusip_linking_table[cik_cusip_linking_table['cusip6']==cusip]['cik'].tolist()\n",
    "        if (len(cik_matched)!=0) and (cik_matched[0] in master_file_cik):\n",
    "            cik_new = cik_matched[0]\n",
    "            source = 'cusip'\n",
    "        else:\n",
    "            cik_matched = cik_ticker_linking_table[cik_ticker_linking_table['ticker']==ticker]['cik'].tolist()\n",
    "            if (len(cik_matched)!=0) and (cik_matched[0] in master_file_cik):\n",
    "                cik_new = cik_matched[0]\n",
    "                source = 'ticker'\n",
    "    return cik_new, source"
   ]
  },
  {
   "cell_type": "code",
   "execution_count": 40,
   "id": "5b6e1221",
   "metadata": {},
   "outputs": [],
   "source": [
    "master_file_df['CIK'] = [str(int(x)) for x in master_file_df['CIK']]"
   ]
  },
  {
   "cell_type": "code",
   "execution_count": 41,
   "id": "02ef98f4",
   "metadata": {},
   "outputs": [],
   "source": [
    "def download_use_cik_acquirer(cik,cusip,ticker,master_file_cik):\n",
    "    time_break = 0.5\n",
    "    headers = {'User-Agent':'Qiao Jiang qiaojiang0114@gmail.com',\n",
    "           'Accept-Encoding': 'gzip, deflate',\n",
    "           'Host':'www.sec.gov'}\n",
    "    acquirer_cik = cik\n",
    "    cik, source = find_cik(cik,cusip,ticker,master_file_cik)\n",
    "    if cik == 'unknown':\n",
    "        return None\n",
    "    temp = master_file_df[master_file_df['CIK']==cik]\n",
    "    temp.reset_index(inplace=True, drop = True)\n",
    "    print(f'Use CIK information. Download starts! There are {temp.shape[0]} files to download.')\n",
    "    for i in range(temp.shape[0]):\n",
    "        cik_temp = temp.loc[i,'CIK']\n",
    "        FormType_temp = temp.loc[i,'FormType']\n",
    "        FormType_temp = FormType_temp.replace('/','#')\n",
    "        DateFiled = temp.loc[i,'DateFiled']\n",
    "        Filename = temp.loc[i,'Filename']\n",
    "        \n",
    "        if not os.path.exists('edgar_master/acquirer_'+acquirer_cik):\n",
    "            os.makedirs('edgar_master/acquirer_'+acquirer_cik)\n",
    "        file_name = 'edgar_master/acquirer_'+acquirer_cik+'/'+'_'.join([cik_temp,FormType_temp,DateFiled,cik,cusip,ticker])+'.txt'\n",
    "        r = requests.get('https://www.sec.gov/Archives/'+Filename, allow_redirects=True, headers = headers)\n",
    "        if r.status_code == 200:\n",
    "            with open(file_name, \"wb\") as f:\n",
    "                f.write(r.content)\n",
    "                #print(\"File saved successfully!\")\n",
    "        else:\n",
    "            print(\"Failed to download file\")\n",
    "        time.sleep(time_break)\n",
    "    print('All files saved successfully!')\n",
    "    result = pd.DataFrame({'cik':[acquirer_cik],\n",
    "                           'cusip':[cusip],\n",
    "                           'status':['success'],\n",
    "                           'identifier':[source]})\n",
    "    result.to_csv('edgar_master/acquirer_'+acquirer_cik+'/'+'download_status.csv', index = False)"
   ]
  },
  {
   "cell_type": "code",
   "execution_count": 44,
   "id": "a559930f",
   "metadata": {
    "scrolled": true
   },
   "outputs": [
    {
     "name": "stdout",
     "output_type": "stream",
     "text": [
      "2\n",
      "3\n",
      "Use CIK information. Download starts! There are 3812 files to download.\n",
      "All files saved successfully!\n",
      "4\n",
      "Use CIK information. Download starts! There are 616 files to download.\n",
      "All files saved successfully!\n",
      "5\n",
      "Use CIK information. Download starts! There are 120 files to download.\n",
      "All files saved successfully!\n",
      "6\n",
      "Use CIK information. Download starts! There are 2327 files to download.\n",
      "All files saved successfully!\n",
      "7\n",
      "Use CIK information. Download starts! There are 4219 files to download.\n",
      "All files saved successfully!\n",
      "8\n",
      "Use CIK information. Download starts! There are 2430 files to download.\n",
      "All files saved successfully!\n",
      "10\n",
      "Use CIK information. Download starts! There are 3016 files to download.\n",
      "All files saved successfully!\n",
      "11\n",
      "Use CIK information. Download starts! There are 2221 files to download.\n",
      "All files saved successfully!\n",
      "12\n",
      "Use CIK information. Download starts! There are 2322 files to download.\n",
      "All files saved successfully!\n",
      "14\n",
      "Use CIK information. Download starts! There are 1326 files to download.\n",
      "All files saved successfully!\n",
      "18\n",
      "Use CIK information. Download starts! There are 102 files to download.\n",
      "All files saved successfully!\n",
      "20\n",
      "Use CIK information. Download starts! There are 2776 files to download.\n",
      "All files saved successfully!\n",
      "21\n",
      "Use CIK information. Download starts! There are 1185 files to download.\n",
      "All files saved successfully!\n",
      "23\n",
      "24\n",
      "Use CIK information. Download starts! There are 3566 files to download.\n",
      "All files saved successfully!\n",
      "25\n",
      "Use CIK information. Download starts! There are 642 files to download.\n",
      "All files saved successfully!\n",
      "26\n",
      "Use CIK information. Download starts! There are 133 files to download.\n",
      "All files saved successfully!\n",
      "27\n",
      "Use CIK information. Download starts! There are 931 files to download.\n",
      "All files saved successfully!\n",
      "28\n",
      "Use CIK information. Download starts! There are 167 files to download.\n",
      "All files saved successfully!\n",
      "29\n",
      "Use CIK information. Download starts! There are 2229 files to download.\n",
      "All files saved successfully!\n",
      "30\n",
      "Use CIK information. Download starts! There are 1730 files to download.\n",
      "All files saved successfully!\n",
      "31\n",
      "Use CIK information. Download starts! There are 4063 files to download.\n",
      "All files saved successfully!\n",
      "34\n",
      "Use CIK information. Download starts! There are 886 files to download.\n",
      "All files saved successfully!\n",
      "36\n",
      "Use CIK information. Download starts! There are 728 files to download.\n",
      "All files saved successfully!\n",
      "38\n",
      "Use CIK information. Download starts! There are 117 files to download.\n",
      "All files saved successfully!\n",
      "39\n",
      "Use CIK information. Download starts! There are 837 files to download.\n",
      "All files saved successfully!\n",
      "40\n",
      "Use CIK information. Download starts! There are 2363 files to download.\n",
      "All files saved successfully!\n",
      "42\n",
      "Use CIK information. Download starts! There are 2588 files to download.\n"
     ]
    },
    {
     "ename": "ConnectionError",
     "evalue": "HTTPSConnectionPool(host='www.sec.gov', port=443): Max retries exceeded with url: /Archives/edgar/data/106040/0001193125-16-438807.txt (Caused by NewConnectionError('<urllib3.connection.HTTPSConnection object at 0x7f8b2352e520>: Failed to establish a new connection: [Errno 8] nodename nor servname provided, or not known'))",
     "output_type": "error",
     "traceback": [
      "\u001b[0;31m---------------------------------------------------------------------------\u001b[0m",
      "\u001b[0;31mgaierror\u001b[0m                                  Traceback (most recent call last)",
      "\u001b[0;32m~/opt/anaconda3/lib/python3.9/site-packages/urllib3/connection.py\u001b[0m in \u001b[0;36m_new_conn\u001b[0;34m(self)\u001b[0m\n\u001b[1;32m    173\u001b[0m         \u001b[0;32mtry\u001b[0m\u001b[0;34m:\u001b[0m\u001b[0;34m\u001b[0m\u001b[0;34m\u001b[0m\u001b[0m\n\u001b[0;32m--> 174\u001b[0;31m             conn = connection.create_connection(\n\u001b[0m\u001b[1;32m    175\u001b[0m                 \u001b[0;34m(\u001b[0m\u001b[0mself\u001b[0m\u001b[0;34m.\u001b[0m\u001b[0m_dns_host\u001b[0m\u001b[0;34m,\u001b[0m \u001b[0mself\u001b[0m\u001b[0;34m.\u001b[0m\u001b[0mport\u001b[0m\u001b[0;34m)\u001b[0m\u001b[0;34m,\u001b[0m \u001b[0mself\u001b[0m\u001b[0;34m.\u001b[0m\u001b[0mtimeout\u001b[0m\u001b[0;34m,\u001b[0m \u001b[0;34m**\u001b[0m\u001b[0mextra_kw\u001b[0m\u001b[0;34m\u001b[0m\u001b[0;34m\u001b[0m\u001b[0m\n",
      "\u001b[0;32m~/opt/anaconda3/lib/python3.9/site-packages/urllib3/util/connection.py\u001b[0m in \u001b[0;36mcreate_connection\u001b[0;34m(address, timeout, source_address, socket_options)\u001b[0m\n\u001b[1;32m     72\u001b[0m \u001b[0;34m\u001b[0m\u001b[0m\n\u001b[0;32m---> 73\u001b[0;31m     \u001b[0;32mfor\u001b[0m \u001b[0mres\u001b[0m \u001b[0;32min\u001b[0m \u001b[0msocket\u001b[0m\u001b[0;34m.\u001b[0m\u001b[0mgetaddrinfo\u001b[0m\u001b[0;34m(\u001b[0m\u001b[0mhost\u001b[0m\u001b[0;34m,\u001b[0m \u001b[0mport\u001b[0m\u001b[0;34m,\u001b[0m \u001b[0mfamily\u001b[0m\u001b[0;34m,\u001b[0m \u001b[0msocket\u001b[0m\u001b[0;34m.\u001b[0m\u001b[0mSOCK_STREAM\u001b[0m\u001b[0;34m)\u001b[0m\u001b[0;34m:\u001b[0m\u001b[0;34m\u001b[0m\u001b[0;34m\u001b[0m\u001b[0m\n\u001b[0m\u001b[1;32m     74\u001b[0m         \u001b[0maf\u001b[0m\u001b[0;34m,\u001b[0m \u001b[0msocktype\u001b[0m\u001b[0;34m,\u001b[0m \u001b[0mproto\u001b[0m\u001b[0;34m,\u001b[0m \u001b[0mcanonname\u001b[0m\u001b[0;34m,\u001b[0m \u001b[0msa\u001b[0m \u001b[0;34m=\u001b[0m \u001b[0mres\u001b[0m\u001b[0;34m\u001b[0m\u001b[0;34m\u001b[0m\u001b[0m\n",
      "\u001b[0;32m~/opt/anaconda3/lib/python3.9/socket.py\u001b[0m in \u001b[0;36mgetaddrinfo\u001b[0;34m(host, port, family, type, proto, flags)\u001b[0m\n\u001b[1;32m    953\u001b[0m     \u001b[0maddrlist\u001b[0m \u001b[0;34m=\u001b[0m \u001b[0;34m[\u001b[0m\u001b[0;34m]\u001b[0m\u001b[0;34m\u001b[0m\u001b[0;34m\u001b[0m\u001b[0m\n\u001b[0;32m--> 954\u001b[0;31m     \u001b[0;32mfor\u001b[0m \u001b[0mres\u001b[0m \u001b[0;32min\u001b[0m \u001b[0m_socket\u001b[0m\u001b[0;34m.\u001b[0m\u001b[0mgetaddrinfo\u001b[0m\u001b[0;34m(\u001b[0m\u001b[0mhost\u001b[0m\u001b[0;34m,\u001b[0m \u001b[0mport\u001b[0m\u001b[0;34m,\u001b[0m \u001b[0mfamily\u001b[0m\u001b[0;34m,\u001b[0m \u001b[0mtype\u001b[0m\u001b[0;34m,\u001b[0m \u001b[0mproto\u001b[0m\u001b[0;34m,\u001b[0m \u001b[0mflags\u001b[0m\u001b[0;34m)\u001b[0m\u001b[0;34m:\u001b[0m\u001b[0;34m\u001b[0m\u001b[0;34m\u001b[0m\u001b[0m\n\u001b[0m\u001b[1;32m    955\u001b[0m         \u001b[0maf\u001b[0m\u001b[0;34m,\u001b[0m \u001b[0msocktype\u001b[0m\u001b[0;34m,\u001b[0m \u001b[0mproto\u001b[0m\u001b[0;34m,\u001b[0m \u001b[0mcanonname\u001b[0m\u001b[0;34m,\u001b[0m \u001b[0msa\u001b[0m \u001b[0;34m=\u001b[0m \u001b[0mres\u001b[0m\u001b[0;34m\u001b[0m\u001b[0;34m\u001b[0m\u001b[0m\n",
      "\u001b[0;31mgaierror\u001b[0m: [Errno 8] nodename nor servname provided, or not known",
      "\nDuring handling of the above exception, another exception occurred:\n",
      "\u001b[0;31mNewConnectionError\u001b[0m                        Traceback (most recent call last)",
      "\u001b[0;32m~/opt/anaconda3/lib/python3.9/site-packages/urllib3/connectionpool.py\u001b[0m in \u001b[0;36murlopen\u001b[0;34m(self, method, url, body, headers, retries, redirect, assert_same_host, timeout, pool_timeout, release_conn, chunked, body_pos, **response_kw)\u001b[0m\n\u001b[1;32m    698\u001b[0m             \u001b[0;31m# Make the request on the httplib connection object.\u001b[0m\u001b[0;34m\u001b[0m\u001b[0;34m\u001b[0m\u001b[0m\n\u001b[0;32m--> 699\u001b[0;31m             httplib_response = self._make_request(\n\u001b[0m\u001b[1;32m    700\u001b[0m                 \u001b[0mconn\u001b[0m\u001b[0;34m,\u001b[0m\u001b[0;34m\u001b[0m\u001b[0;34m\u001b[0m\u001b[0m\n",
      "\u001b[0;32m~/opt/anaconda3/lib/python3.9/site-packages/urllib3/connectionpool.py\u001b[0m in \u001b[0;36m_make_request\u001b[0;34m(self, conn, method, url, timeout, chunked, **httplib_request_kw)\u001b[0m\n\u001b[1;32m    381\u001b[0m         \u001b[0;32mtry\u001b[0m\u001b[0;34m:\u001b[0m\u001b[0;34m\u001b[0m\u001b[0;34m\u001b[0m\u001b[0m\n\u001b[0;32m--> 382\u001b[0;31m             \u001b[0mself\u001b[0m\u001b[0;34m.\u001b[0m\u001b[0m_validate_conn\u001b[0m\u001b[0;34m(\u001b[0m\u001b[0mconn\u001b[0m\u001b[0;34m)\u001b[0m\u001b[0;34m\u001b[0m\u001b[0;34m\u001b[0m\u001b[0m\n\u001b[0m\u001b[1;32m    383\u001b[0m         \u001b[0;32mexcept\u001b[0m \u001b[0;34m(\u001b[0m\u001b[0mSocketTimeout\u001b[0m\u001b[0;34m,\u001b[0m \u001b[0mBaseSSLError\u001b[0m\u001b[0;34m)\u001b[0m \u001b[0;32mas\u001b[0m \u001b[0me\u001b[0m\u001b[0;34m:\u001b[0m\u001b[0;34m\u001b[0m\u001b[0;34m\u001b[0m\u001b[0m\n",
      "\u001b[0;32m~/opt/anaconda3/lib/python3.9/site-packages/urllib3/connectionpool.py\u001b[0m in \u001b[0;36m_validate_conn\u001b[0;34m(self, conn)\u001b[0m\n\u001b[1;32m   1009\u001b[0m         \u001b[0;32mif\u001b[0m \u001b[0;32mnot\u001b[0m \u001b[0mgetattr\u001b[0m\u001b[0;34m(\u001b[0m\u001b[0mconn\u001b[0m\u001b[0;34m,\u001b[0m \u001b[0;34m\"sock\"\u001b[0m\u001b[0;34m,\u001b[0m \u001b[0;32mNone\u001b[0m\u001b[0;34m)\u001b[0m\u001b[0;34m:\u001b[0m  \u001b[0;31m# AppEngine might not have  `.sock`\u001b[0m\u001b[0;34m\u001b[0m\u001b[0;34m\u001b[0m\u001b[0m\n\u001b[0;32m-> 1010\u001b[0;31m             \u001b[0mconn\u001b[0m\u001b[0;34m.\u001b[0m\u001b[0mconnect\u001b[0m\u001b[0;34m(\u001b[0m\u001b[0;34m)\u001b[0m\u001b[0;34m\u001b[0m\u001b[0;34m\u001b[0m\u001b[0m\n\u001b[0m\u001b[1;32m   1011\u001b[0m \u001b[0;34m\u001b[0m\u001b[0m\n",
      "\u001b[0;32m~/opt/anaconda3/lib/python3.9/site-packages/urllib3/connection.py\u001b[0m in \u001b[0;36mconnect\u001b[0;34m(self)\u001b[0m\n\u001b[1;32m    357\u001b[0m         \u001b[0;31m# Add certificate verification\u001b[0m\u001b[0;34m\u001b[0m\u001b[0;34m\u001b[0m\u001b[0m\n\u001b[0;32m--> 358\u001b[0;31m         \u001b[0mconn\u001b[0m \u001b[0;34m=\u001b[0m \u001b[0mself\u001b[0m\u001b[0;34m.\u001b[0m\u001b[0m_new_conn\u001b[0m\u001b[0;34m(\u001b[0m\u001b[0;34m)\u001b[0m\u001b[0;34m\u001b[0m\u001b[0;34m\u001b[0m\u001b[0m\n\u001b[0m\u001b[1;32m    359\u001b[0m         \u001b[0mhostname\u001b[0m \u001b[0;34m=\u001b[0m \u001b[0mself\u001b[0m\u001b[0;34m.\u001b[0m\u001b[0mhost\u001b[0m\u001b[0;34m\u001b[0m\u001b[0;34m\u001b[0m\u001b[0m\n",
      "\u001b[0;32m~/opt/anaconda3/lib/python3.9/site-packages/urllib3/connection.py\u001b[0m in \u001b[0;36m_new_conn\u001b[0;34m(self)\u001b[0m\n\u001b[1;32m    185\u001b[0m         \u001b[0;32mexcept\u001b[0m \u001b[0mSocketError\u001b[0m \u001b[0;32mas\u001b[0m \u001b[0me\u001b[0m\u001b[0;34m:\u001b[0m\u001b[0;34m\u001b[0m\u001b[0;34m\u001b[0m\u001b[0m\n\u001b[0;32m--> 186\u001b[0;31m             raise NewConnectionError(\n\u001b[0m\u001b[1;32m    187\u001b[0m                 \u001b[0mself\u001b[0m\u001b[0;34m,\u001b[0m \u001b[0;34m\"Failed to establish a new connection: %s\"\u001b[0m \u001b[0;34m%\u001b[0m \u001b[0me\u001b[0m\u001b[0;34m\u001b[0m\u001b[0;34m\u001b[0m\u001b[0m\n",
      "\u001b[0;31mNewConnectionError\u001b[0m: <urllib3.connection.HTTPSConnection object at 0x7f8b2352e520>: Failed to establish a new connection: [Errno 8] nodename nor servname provided, or not known",
      "\nDuring handling of the above exception, another exception occurred:\n",
      "\u001b[0;31mMaxRetryError\u001b[0m                             Traceback (most recent call last)",
      "\u001b[0;32m~/opt/anaconda3/lib/python3.9/site-packages/requests/adapters.py\u001b[0m in \u001b[0;36msend\u001b[0;34m(self, request, stream, timeout, verify, cert, proxies)\u001b[0m\n\u001b[1;32m    438\u001b[0m             \u001b[0;32mif\u001b[0m \u001b[0;32mnot\u001b[0m \u001b[0mchunked\u001b[0m\u001b[0;34m:\u001b[0m\u001b[0;34m\u001b[0m\u001b[0;34m\u001b[0m\u001b[0m\n\u001b[0;32m--> 439\u001b[0;31m                 resp = conn.urlopen(\n\u001b[0m\u001b[1;32m    440\u001b[0m                     \u001b[0mmethod\u001b[0m\u001b[0;34m=\u001b[0m\u001b[0mrequest\u001b[0m\u001b[0;34m.\u001b[0m\u001b[0mmethod\u001b[0m\u001b[0;34m,\u001b[0m\u001b[0;34m\u001b[0m\u001b[0;34m\u001b[0m\u001b[0m\n",
      "\u001b[0;32m~/opt/anaconda3/lib/python3.9/site-packages/urllib3/connectionpool.py\u001b[0m in \u001b[0;36murlopen\u001b[0;34m(self, method, url, body, headers, retries, redirect, assert_same_host, timeout, pool_timeout, release_conn, chunked, body_pos, **response_kw)\u001b[0m\n\u001b[1;32m    754\u001b[0m \u001b[0;34m\u001b[0m\u001b[0m\n\u001b[0;32m--> 755\u001b[0;31m             retries = retries.increment(\n\u001b[0m\u001b[1;32m    756\u001b[0m                 \u001b[0mmethod\u001b[0m\u001b[0;34m,\u001b[0m \u001b[0murl\u001b[0m\u001b[0;34m,\u001b[0m \u001b[0merror\u001b[0m\u001b[0;34m=\u001b[0m\u001b[0me\u001b[0m\u001b[0;34m,\u001b[0m \u001b[0m_pool\u001b[0m\u001b[0;34m=\u001b[0m\u001b[0mself\u001b[0m\u001b[0;34m,\u001b[0m \u001b[0m_stacktrace\u001b[0m\u001b[0;34m=\u001b[0m\u001b[0msys\u001b[0m\u001b[0;34m.\u001b[0m\u001b[0mexc_info\u001b[0m\u001b[0;34m(\u001b[0m\u001b[0;34m)\u001b[0m\u001b[0;34m[\u001b[0m\u001b[0;36m2\u001b[0m\u001b[0;34m]\u001b[0m\u001b[0;34m\u001b[0m\u001b[0;34m\u001b[0m\u001b[0m\n",
      "\u001b[0;32m~/opt/anaconda3/lib/python3.9/site-packages/urllib3/util/retry.py\u001b[0m in \u001b[0;36mincrement\u001b[0;34m(self, method, url, response, error, _pool, _stacktrace)\u001b[0m\n\u001b[1;32m    573\u001b[0m         \u001b[0;32mif\u001b[0m \u001b[0mnew_retry\u001b[0m\u001b[0;34m.\u001b[0m\u001b[0mis_exhausted\u001b[0m\u001b[0;34m(\u001b[0m\u001b[0;34m)\u001b[0m\u001b[0;34m:\u001b[0m\u001b[0;34m\u001b[0m\u001b[0;34m\u001b[0m\u001b[0m\n\u001b[0;32m--> 574\u001b[0;31m             \u001b[0;32mraise\u001b[0m \u001b[0mMaxRetryError\u001b[0m\u001b[0;34m(\u001b[0m\u001b[0m_pool\u001b[0m\u001b[0;34m,\u001b[0m \u001b[0murl\u001b[0m\u001b[0;34m,\u001b[0m \u001b[0merror\u001b[0m \u001b[0;32mor\u001b[0m \u001b[0mResponseError\u001b[0m\u001b[0;34m(\u001b[0m\u001b[0mcause\u001b[0m\u001b[0;34m)\u001b[0m\u001b[0;34m)\u001b[0m\u001b[0;34m\u001b[0m\u001b[0;34m\u001b[0m\u001b[0m\n\u001b[0m\u001b[1;32m    575\u001b[0m \u001b[0;34m\u001b[0m\u001b[0m\n",
      "\u001b[0;31mMaxRetryError\u001b[0m: HTTPSConnectionPool(host='www.sec.gov', port=443): Max retries exceeded with url: /Archives/edgar/data/106040/0001193125-16-438807.txt (Caused by NewConnectionError('<urllib3.connection.HTTPSConnection object at 0x7f8b2352e520>: Failed to establish a new connection: [Errno 8] nodename nor servname provided, or not known'))",
      "\nDuring handling of the above exception, another exception occurred:\n",
      "\u001b[0;31mConnectionError\u001b[0m                           Traceback (most recent call last)",
      "\u001b[0;32m/var/folders/dt/kzb1hm_92655mwdtttwsxqrw0000gn/T/ipykernel_78730/474791645.py\u001b[0m in \u001b[0;36m<module>\u001b[0;34m\u001b[0m\n\u001b[1;32m      3\u001b[0m     \u001b[0;32mif\u001b[0m \u001b[0mlen\u001b[0m\u001b[0;34m(\u001b[0m\u001b[0mcik_result_files\u001b[0m\u001b[0;34m)\u001b[0m\u001b[0;34m==\u001b[0m\u001b[0;36m0\u001b[0m\u001b[0;34m:\u001b[0m\u001b[0;34m\u001b[0m\u001b[0;34m\u001b[0m\u001b[0m\n\u001b[1;32m      4\u001b[0m         \u001b[0mprint\u001b[0m\u001b[0;34m(\u001b[0m\u001b[0mi\u001b[0m\u001b[0;34m)\u001b[0m\u001b[0;34m\u001b[0m\u001b[0;34m\u001b[0m\u001b[0m\n\u001b[0;32m----> 5\u001b[0;31m         \u001b[0mdownload_use_cik_acquirer\u001b[0m\u001b[0;34m(\u001b[0m\u001b[0;34m*\u001b[0m\u001b[0macquirer_cik_cusip_ticker\u001b[0m\u001b[0;34m,\u001b[0m\u001b[0mmaster_file_cik\u001b[0m\u001b[0;34m)\u001b[0m\u001b[0;34m\u001b[0m\u001b[0;34m\u001b[0m\u001b[0m\n\u001b[0m",
      "\u001b[0;32m/var/folders/dt/kzb1hm_92655mwdtttwsxqrw0000gn/T/ipykernel_78730/35272001.py\u001b[0m in \u001b[0;36mdownload_use_cik_acquirer\u001b[0;34m(cik, cusip, ticker, master_file_cik)\u001b[0m\n\u001b[1;32m     21\u001b[0m             \u001b[0mos\u001b[0m\u001b[0;34m.\u001b[0m\u001b[0mmakedirs\u001b[0m\u001b[0;34m(\u001b[0m\u001b[0;34m'edgar_master/acquirer_'\u001b[0m\u001b[0;34m+\u001b[0m\u001b[0macquirer_cik\u001b[0m\u001b[0;34m)\u001b[0m\u001b[0;34m\u001b[0m\u001b[0;34m\u001b[0m\u001b[0m\n\u001b[1;32m     22\u001b[0m         \u001b[0mfile_name\u001b[0m \u001b[0;34m=\u001b[0m \u001b[0;34m'edgar_master/acquirer_'\u001b[0m\u001b[0;34m+\u001b[0m\u001b[0macquirer_cik\u001b[0m\u001b[0;34m+\u001b[0m\u001b[0;34m'/'\u001b[0m\u001b[0;34m+\u001b[0m\u001b[0;34m'_'\u001b[0m\u001b[0;34m.\u001b[0m\u001b[0mjoin\u001b[0m\u001b[0;34m(\u001b[0m\u001b[0;34m[\u001b[0m\u001b[0mcik_temp\u001b[0m\u001b[0;34m,\u001b[0m\u001b[0mFormType_temp\u001b[0m\u001b[0;34m,\u001b[0m\u001b[0mDateFiled\u001b[0m\u001b[0;34m,\u001b[0m\u001b[0mcik\u001b[0m\u001b[0;34m,\u001b[0m\u001b[0mcusip\u001b[0m\u001b[0;34m,\u001b[0m\u001b[0mticker\u001b[0m\u001b[0;34m]\u001b[0m\u001b[0;34m)\u001b[0m\u001b[0;34m+\u001b[0m\u001b[0;34m'.txt'\u001b[0m\u001b[0;34m\u001b[0m\u001b[0;34m\u001b[0m\u001b[0m\n\u001b[0;32m---> 23\u001b[0;31m         \u001b[0mr\u001b[0m \u001b[0;34m=\u001b[0m \u001b[0mrequests\u001b[0m\u001b[0;34m.\u001b[0m\u001b[0mget\u001b[0m\u001b[0;34m(\u001b[0m\u001b[0;34m'https://www.sec.gov/Archives/'\u001b[0m\u001b[0;34m+\u001b[0m\u001b[0mFilename\u001b[0m\u001b[0;34m,\u001b[0m \u001b[0mallow_redirects\u001b[0m\u001b[0;34m=\u001b[0m\u001b[0;32mTrue\u001b[0m\u001b[0;34m,\u001b[0m \u001b[0mheaders\u001b[0m \u001b[0;34m=\u001b[0m \u001b[0mheaders\u001b[0m\u001b[0;34m)\u001b[0m\u001b[0;34m\u001b[0m\u001b[0;34m\u001b[0m\u001b[0m\n\u001b[0m\u001b[1;32m     24\u001b[0m         \u001b[0;32mif\u001b[0m \u001b[0mr\u001b[0m\u001b[0;34m.\u001b[0m\u001b[0mstatus_code\u001b[0m \u001b[0;34m==\u001b[0m \u001b[0;36m200\u001b[0m\u001b[0;34m:\u001b[0m\u001b[0;34m\u001b[0m\u001b[0;34m\u001b[0m\u001b[0m\n\u001b[1;32m     25\u001b[0m             \u001b[0;32mwith\u001b[0m \u001b[0mopen\u001b[0m\u001b[0;34m(\u001b[0m\u001b[0mfile_name\u001b[0m\u001b[0;34m,\u001b[0m \u001b[0;34m\"wb\"\u001b[0m\u001b[0;34m)\u001b[0m \u001b[0;32mas\u001b[0m \u001b[0mf\u001b[0m\u001b[0;34m:\u001b[0m\u001b[0;34m\u001b[0m\u001b[0;34m\u001b[0m\u001b[0m\n",
      "\u001b[0;32m~/opt/anaconda3/lib/python3.9/site-packages/requests/api.py\u001b[0m in \u001b[0;36mget\u001b[0;34m(url, params, **kwargs)\u001b[0m\n\u001b[1;32m     73\u001b[0m     \"\"\"\n\u001b[1;32m     74\u001b[0m \u001b[0;34m\u001b[0m\u001b[0m\n\u001b[0;32m---> 75\u001b[0;31m     \u001b[0;32mreturn\u001b[0m \u001b[0mrequest\u001b[0m\u001b[0;34m(\u001b[0m\u001b[0;34m'get'\u001b[0m\u001b[0;34m,\u001b[0m \u001b[0murl\u001b[0m\u001b[0;34m,\u001b[0m \u001b[0mparams\u001b[0m\u001b[0;34m=\u001b[0m\u001b[0mparams\u001b[0m\u001b[0;34m,\u001b[0m \u001b[0;34m**\u001b[0m\u001b[0mkwargs\u001b[0m\u001b[0;34m)\u001b[0m\u001b[0;34m\u001b[0m\u001b[0;34m\u001b[0m\u001b[0m\n\u001b[0m\u001b[1;32m     76\u001b[0m \u001b[0;34m\u001b[0m\u001b[0m\n\u001b[1;32m     77\u001b[0m \u001b[0;34m\u001b[0m\u001b[0m\n",
      "\u001b[0;32m~/opt/anaconda3/lib/python3.9/site-packages/requests/api.py\u001b[0m in \u001b[0;36mrequest\u001b[0;34m(method, url, **kwargs)\u001b[0m\n\u001b[1;32m     59\u001b[0m     \u001b[0;31m# cases, and look like a memory leak in others.\u001b[0m\u001b[0;34m\u001b[0m\u001b[0;34m\u001b[0m\u001b[0m\n\u001b[1;32m     60\u001b[0m     \u001b[0;32mwith\u001b[0m \u001b[0msessions\u001b[0m\u001b[0;34m.\u001b[0m\u001b[0mSession\u001b[0m\u001b[0;34m(\u001b[0m\u001b[0;34m)\u001b[0m \u001b[0;32mas\u001b[0m \u001b[0msession\u001b[0m\u001b[0;34m:\u001b[0m\u001b[0;34m\u001b[0m\u001b[0;34m\u001b[0m\u001b[0m\n\u001b[0;32m---> 61\u001b[0;31m         \u001b[0;32mreturn\u001b[0m \u001b[0msession\u001b[0m\u001b[0;34m.\u001b[0m\u001b[0mrequest\u001b[0m\u001b[0;34m(\u001b[0m\u001b[0mmethod\u001b[0m\u001b[0;34m=\u001b[0m\u001b[0mmethod\u001b[0m\u001b[0;34m,\u001b[0m \u001b[0murl\u001b[0m\u001b[0;34m=\u001b[0m\u001b[0murl\u001b[0m\u001b[0;34m,\u001b[0m \u001b[0;34m**\u001b[0m\u001b[0mkwargs\u001b[0m\u001b[0;34m)\u001b[0m\u001b[0;34m\u001b[0m\u001b[0;34m\u001b[0m\u001b[0m\n\u001b[0m\u001b[1;32m     62\u001b[0m \u001b[0;34m\u001b[0m\u001b[0m\n\u001b[1;32m     63\u001b[0m \u001b[0;34m\u001b[0m\u001b[0m\n",
      "\u001b[0;32m~/opt/anaconda3/lib/python3.9/site-packages/requests/sessions.py\u001b[0m in \u001b[0;36mrequest\u001b[0;34m(self, method, url, params, data, headers, cookies, files, auth, timeout, allow_redirects, proxies, hooks, stream, verify, cert, json)\u001b[0m\n\u001b[1;32m    540\u001b[0m         }\n\u001b[1;32m    541\u001b[0m         \u001b[0msend_kwargs\u001b[0m\u001b[0;34m.\u001b[0m\u001b[0mupdate\u001b[0m\u001b[0;34m(\u001b[0m\u001b[0msettings\u001b[0m\u001b[0;34m)\u001b[0m\u001b[0;34m\u001b[0m\u001b[0;34m\u001b[0m\u001b[0m\n\u001b[0;32m--> 542\u001b[0;31m         \u001b[0mresp\u001b[0m \u001b[0;34m=\u001b[0m \u001b[0mself\u001b[0m\u001b[0;34m.\u001b[0m\u001b[0msend\u001b[0m\u001b[0;34m(\u001b[0m\u001b[0mprep\u001b[0m\u001b[0;34m,\u001b[0m \u001b[0;34m**\u001b[0m\u001b[0msend_kwargs\u001b[0m\u001b[0;34m)\u001b[0m\u001b[0;34m\u001b[0m\u001b[0;34m\u001b[0m\u001b[0m\n\u001b[0m\u001b[1;32m    543\u001b[0m \u001b[0;34m\u001b[0m\u001b[0m\n\u001b[1;32m    544\u001b[0m         \u001b[0;32mreturn\u001b[0m \u001b[0mresp\u001b[0m\u001b[0;34m\u001b[0m\u001b[0;34m\u001b[0m\u001b[0m\n",
      "\u001b[0;32m~/opt/anaconda3/lib/python3.9/site-packages/requests/sessions.py\u001b[0m in \u001b[0;36msend\u001b[0;34m(self, request, **kwargs)\u001b[0m\n\u001b[1;32m    653\u001b[0m \u001b[0;34m\u001b[0m\u001b[0m\n\u001b[1;32m    654\u001b[0m         \u001b[0;31m# Send the request\u001b[0m\u001b[0;34m\u001b[0m\u001b[0;34m\u001b[0m\u001b[0m\n\u001b[0;32m--> 655\u001b[0;31m         \u001b[0mr\u001b[0m \u001b[0;34m=\u001b[0m \u001b[0madapter\u001b[0m\u001b[0;34m.\u001b[0m\u001b[0msend\u001b[0m\u001b[0;34m(\u001b[0m\u001b[0mrequest\u001b[0m\u001b[0;34m,\u001b[0m \u001b[0;34m**\u001b[0m\u001b[0mkwargs\u001b[0m\u001b[0;34m)\u001b[0m\u001b[0;34m\u001b[0m\u001b[0;34m\u001b[0m\u001b[0m\n\u001b[0m\u001b[1;32m    656\u001b[0m \u001b[0;34m\u001b[0m\u001b[0m\n\u001b[1;32m    657\u001b[0m         \u001b[0;31m# Total elapsed time of the request (approximately)\u001b[0m\u001b[0;34m\u001b[0m\u001b[0;34m\u001b[0m\u001b[0m\n",
      "\u001b[0;32m~/opt/anaconda3/lib/python3.9/site-packages/requests/adapters.py\u001b[0m in \u001b[0;36msend\u001b[0;34m(self, request, stream, timeout, verify, cert, proxies)\u001b[0m\n\u001b[1;32m    514\u001b[0m                 \u001b[0;32mraise\u001b[0m \u001b[0mSSLError\u001b[0m\u001b[0;34m(\u001b[0m\u001b[0me\u001b[0m\u001b[0;34m,\u001b[0m \u001b[0mrequest\u001b[0m\u001b[0;34m=\u001b[0m\u001b[0mrequest\u001b[0m\u001b[0;34m)\u001b[0m\u001b[0;34m\u001b[0m\u001b[0;34m\u001b[0m\u001b[0m\n\u001b[1;32m    515\u001b[0m \u001b[0;34m\u001b[0m\u001b[0m\n\u001b[0;32m--> 516\u001b[0;31m             \u001b[0;32mraise\u001b[0m \u001b[0mConnectionError\u001b[0m\u001b[0;34m(\u001b[0m\u001b[0me\u001b[0m\u001b[0;34m,\u001b[0m \u001b[0mrequest\u001b[0m\u001b[0;34m=\u001b[0m\u001b[0mrequest\u001b[0m\u001b[0;34m)\u001b[0m\u001b[0;34m\u001b[0m\u001b[0;34m\u001b[0m\u001b[0m\n\u001b[0m\u001b[1;32m    517\u001b[0m \u001b[0;34m\u001b[0m\u001b[0m\n\u001b[1;32m    518\u001b[0m         \u001b[0;32mexcept\u001b[0m \u001b[0mClosedPoolError\u001b[0m \u001b[0;32mas\u001b[0m \u001b[0me\u001b[0m\u001b[0;34m:\u001b[0m\u001b[0;34m\u001b[0m\u001b[0;34m\u001b[0m\u001b[0m\n",
      "\u001b[0;31mConnectionError\u001b[0m: HTTPSConnectionPool(host='www.sec.gov', port=443): Max retries exceeded with url: /Archives/edgar/data/106040/0001193125-16-438807.txt (Caused by NewConnectionError('<urllib3.connection.HTTPSConnection object at 0x7f8b2352e520>: Failed to establish a new connection: [Errno 8] nodename nor servname provided, or not known'))"
     ]
    }
   ],
   "source": [
    "for i, acquirer_cik_cusip_ticker in enumerate(company_wanted_df[['acquirer_cik','acquirer_cusip','acquirer_ticker_symbol']].to_numpy()):\n",
    "    cik_result_files = glob.glob('edgar_master/acquirer_'+acquirer_cik_cusip_ticker[0]+'/download_status.csv') \n",
    "    if len(cik_result_files)==0:\n",
    "        print(i)\n",
    "        download_use_cik_acquirer(*acquirer_cik_cusip_ticker,master_file_cik)"
   ]
  },
  {
   "cell_type": "code",
   "execution_count": null,
   "id": "cfa74dd2",
   "metadata": {},
   "outputs": [],
   "source": []
  },
  {
   "cell_type": "code",
   "execution_count": null,
   "id": "8c953bc4",
   "metadata": {},
   "outputs": [],
   "source": []
  },
  {
   "cell_type": "code",
   "execution_count": null,
   "id": "8cf522fc",
   "metadata": {},
   "outputs": [],
   "source": []
  },
  {
   "cell_type": "code",
   "execution_count": null,
   "id": "d47146ff",
   "metadata": {},
   "outputs": [],
   "source": []
  },
  {
   "cell_type": "code",
   "execution_count": null,
   "id": "44ed36d0",
   "metadata": {},
   "outputs": [],
   "source": []
  },
  {
   "cell_type": "code",
   "execution_count": null,
   "id": "9705f846",
   "metadata": {},
   "outputs": [],
   "source": []
  },
  {
   "cell_type": "code",
   "execution_count": null,
   "id": "cbd80107",
   "metadata": {},
   "outputs": [],
   "source": [
    "dict(Counter(acquirer_cik_select))"
   ]
  },
  {
   "cell_type": "code",
   "execution_count": null,
   "id": "9668589f",
   "metadata": {},
   "outputs": [],
   "source": []
  },
  {
   "cell_type": "code",
   "execution_count": null,
   "id": "1ea72370",
   "metadata": {},
   "outputs": [],
   "source": [
    "company_wanted_df.head()"
   ]
  },
  {
   "cell_type": "code",
   "execution_count": null,
   "id": "9e93911b",
   "metadata": {},
   "outputs": [],
   "source": [
    "def find_file_urls_and_download(cik, cusip):\n",
    "    time_break = 0.5\n",
    "    headers = {'User-Agent':'Qiao Jiang qiaojiang0114@gmail.com',\n",
    "           'Accept-Encoding': 'gzip, deflate',\n",
    "           'Host':'www.sec.gov'}\n",
    "    if cik in master_file_cik:\n",
    "        \n",
    "        download_use_cik(cik,cusip,ticker)   \n",
    "        print('All files saved successfully!')\n",
    "        result = pd.DataFrame({'cik':[cik_temp],\n",
    "                               'cusip':[cusip],\n",
    "                               'status':['success'],\n",
    "                               'identifier':['cik']})\n",
    "        result.to_csv('edgar_master/'+cik_temp+'/'+'download_status.csv', index = False)\n",
    "    else:\n",
    "        try:\n",
    "            cik_matched = cik_cusip_linking_table[cik_cusip_linking_table['cusip6']==cusip]['cik'].tolist()\n",
    "            \n",
    "            if len(cik_matched)==0:\n",
    "                print('No matched CIK given cusip is found')\n",
    "                return None\n",
    "            cik_matched = cik_matched[0]\n",
    "            \n",
    "            temp = master_file_df[master_file_df['CIK']==cik_matched]\n",
    "            if temp.shape[0]==0:\n",
    "                print('No CIK is found')\n",
    "                return None\n",
    "            \n",
    "            download_use_cik(cik_matched,cusip,ticker)\n",
    "            \n",
    "            print('All files saved successfully!')\n",
    "            result = pd.DataFrame({'cik':[cik_temp],\n",
    "                                   'cusip':[cusip],\n",
    "                                   'status':['success'],\n",
    "                                   'identifier':['cusip']})\n",
    "            result.to_csv('edgar_master/'+cik_temp+'/'+'download_status.csv', index = False)\n",
    "        except:\n",
    "            if not os.path.exists('edgar_master/'+cik):\n",
    "                os.makedirs('edgar_master/'+cik)\n",
    "            result = pd.DataFrame({'cik':[cik],\n",
    "                                   'cusip':[cusip],\n",
    "                                   'status':['fail'],\n",
    "                                   'identifier':['cik and cusip']})\n",
    "            result.to_csv('edgar_master/'+cik+'/'+'download_status.csv', index = False)\n",
    "        "
   ]
  },
  {
   "cell_type": "code",
   "execution_count": null,
   "id": "6c65af3a",
   "metadata": {},
   "outputs": [],
   "source": [
    "for i,acquirer_cik_cusip in enumerate(company_wanted_df[['acquirer_cik','acquirer_cusip']].to_numpy()):\n",
    "    cik_result_files = glob.glob('edgar_master/'+acquirer_cik_cusip[0]+'/download_status.csv') \n",
    "    if len(cik_result_files)==0:\n",
    "        print(i)\n",
    "        find_file_urls(*acquirer_cik_cusip)\n",
    "    \n",
    "    "
   ]
  },
  {
   "cell_type": "code",
   "execution_count": null,
   "id": "e34af9eb",
   "metadata": {},
   "outputs": [],
   "source": []
  },
  {
   "cell_type": "code",
   "execution_count": null,
   "id": "52c5590d",
   "metadata": {},
   "outputs": [],
   "source": [
    "for i,target_cik_cusip in enumerate(company_wanted_df[['target_cik','target_cusip']].to_numpy()):\n",
    "    cik_result_files = glob.glob('edgar_master/'+target_cik_cusip[0]+'/download_status.csv') \n",
    "    if len(cik_result_files)==0:\n",
    "        print(i)\n",
    "        find_file_urls(*target_cik_cusip)\n",
    "    \n",
    "    "
   ]
  },
  {
   "cell_type": "code",
   "execution_count": null,
   "id": "c71a2fe3",
   "metadata": {},
   "outputs": [],
   "source": [
    "company_wanted_df.head()"
   ]
  },
  {
   "cell_type": "code",
   "execution_count": null,
   "id": "05b4a2ab",
   "metadata": {},
   "outputs": [],
   "source": [
    "len([x for x in company_wanted_df['acquirer_cik'].unique() if x in master_file_cik])"
   ]
  },
  {
   "cell_type": "code",
   "execution_count": null,
   "id": "03766747",
   "metadata": {},
   "outputs": [],
   "source": [
    "[x for x in company_wanted_df['acquirer_cik'].unique() if x in master_file_cik]"
   ]
  },
  {
   "cell_type": "code",
   "execution_count": null,
   "id": "1c048db0",
   "metadata": {},
   "outputs": [],
   "source": [
    "cik_cusip_linking_table[cik_cusip_linking_table['cusip6']=='099599']"
   ]
  },
  {
   "cell_type": "code",
   "execution_count": null,
   "id": "f7e6fd00",
   "metadata": {},
   "outputs": [],
   "source": []
  },
  {
   "cell_type": "code",
   "execution_count": null,
   "id": "2ace26cc",
   "metadata": {},
   "outputs": [],
   "source": [
    "master_relevant_file_df = master_file_df[master_file_df['FormType'].isin(['14A', 'S-4', '14D', '14D9', 'DEFM14A', 'PREM14A', 'PREM14', 'SCTO-T'])]"
   ]
  },
  {
   "cell_type": "code",
   "execution_count": null,
   "id": "4db8aa2b",
   "metadata": {},
   "outputs": [],
   "source": [
    "# TO-T -> SCTO-T"
   ]
  },
  {
   "cell_type": "code",
   "execution_count": null,
   "id": "853e7f3e",
   "metadata": {},
   "outputs": [],
   "source": [
    "master_relevant_file_df.shape"
   ]
  },
  {
   "cell_type": "code",
   "execution_count": null,
   "id": "4673b700",
   "metadata": {},
   "outputs": [],
   "source": [
    "master_relevant_file_df['FormType'].unique()"
   ]
  },
  {
   "cell_type": "code",
   "execution_count": null,
   "id": "4867166f",
   "metadata": {},
   "outputs": [],
   "source": [
    "master_file_df['FormType'].unique()"
   ]
  },
  {
   "cell_type": "code",
   "execution_count": null,
   "id": "d5b7262b",
   "metadata": {},
   "outputs": [],
   "source": [
    "14A, S-4, 14D, 14D9, DEFM14A, PREM14A, PREM14, TO-T"
   ]
  },
  {
   "cell_type": "code",
   "execution_count": null,
   "id": "b9981e4e",
   "metadata": {},
   "outputs": [],
   "source": []
  },
  {
   "cell_type": "code",
   "execution_count": null,
   "id": "1067ea18",
   "metadata": {},
   "outputs": [],
   "source": [
    "http_head = 'https://www.sec.gov/Archives/'"
   ]
  },
  {
   "cell_type": "code",
   "execution_count": null,
   "id": "5edbd2d7",
   "metadata": {},
   "outputs": [],
   "source": [
    "company_wanted_df = pd.read_stata('Deals_with_Public_Target_Ticker&CIK.dta')\n",
    "cik_cusip_linking_table = pd.read_csv('edgar_master/cik-cusip-maps.csv')"
   ]
  },
  {
   "cell_type": "code",
   "execution_count": null,
   "id": "98d408b1",
   "metadata": {},
   "outputs": [],
   "source": [
    "master_file_df.dtypes"
   ]
  },
  {
   "cell_type": "code",
   "execution_count": null,
   "id": "7d968429",
   "metadata": {},
   "outputs": [],
   "source": [
    "cik_master_file = "
   ]
  },
  {
   "cell_type": "code",
   "execution_count": null,
   "id": "418e827e",
   "metadata": {},
   "outputs": [],
   "source": [
    "company_wanted_df['acquirer_cik'] = [str(int(x)) for x in company_wanted_df['acquirer_cik'] ]"
   ]
  },
  {
   "cell_type": "code",
   "execution_count": null,
   "id": "2810be5b",
   "metadata": {},
   "outputs": [],
   "source": [
    "[x for x in ]"
   ]
  },
  {
   "cell_type": "code",
   "execution_count": null,
   "id": "8d6d1698",
   "metadata": {},
   "outputs": [],
   "source": []
  },
  {
   "cell_type": "code",
   "execution_count": null,
   "id": "078e1d67",
   "metadata": {},
   "outputs": [],
   "source": []
  },
  {
   "cell_type": "code",
   "execution_count": null,
   "id": "a3c762dc",
   "metadata": {},
   "outputs": [],
   "source": [
    "cik_cusip_linking_table"
   ]
  },
  {
   "cell_type": "code",
   "execution_count": null,
   "id": "5bc17349",
   "metadata": {},
   "outputs": [],
   "source": [
    "company_wanted_df.head()"
   ]
  },
  {
   "cell_type": "code",
   "execution_count": null,
   "id": "1c244008",
   "metadata": {},
   "outputs": [],
   "source": []
  },
  {
   "cell_type": "code",
   "execution_count": null,
   "id": "756b9be7",
   "metadata": {},
   "outputs": [],
   "source": [
    "cik_ticker_linking_table = pd.read_csv('cik_ticker_linking_table.csv')"
   ]
  },
  {
   "cell_type": "code",
   "execution_count": null,
   "id": "5674ffb0",
   "metadata": {},
   "outputs": [],
   "source": [
    "company_wanted_df['acquirer_cik'].nunique()"
   ]
  },
  {
   "cell_type": "code",
   "execution_count": null,
   "id": "4bf54bce",
   "metadata": {},
   "outputs": [],
   "source": [
    "company_wanted_df[company_wanted_df['acquirer_cik']==''].shape"
   ]
  },
  {
   "cell_type": "code",
   "execution_count": null,
   "id": "3bef4634",
   "metadata": {},
   "outputs": [],
   "source": [
    "company_wanted_df[company_wanted_df['acquirer_ticker_symbol']==''].shape"
   ]
  },
  {
   "cell_type": "code",
   "execution_count": null,
   "id": "a1709ea7",
   "metadata": {},
   "outputs": [],
   "source": [
    "company_wanted_df[company_wanted_df['acquirer_cusip']==''].shape"
   ]
  },
  {
   "cell_type": "code",
   "execution_count": null,
   "id": "be2d5ca3",
   "metadata": {},
   "outputs": [],
   "source": [
    "company_wanted_df[company_wanted_df['target_cik']==''].shape"
   ]
  },
  {
   "cell_type": "code",
   "execution_count": null,
   "id": "958ad697",
   "metadata": {},
   "outputs": [],
   "source": [
    "company_wanted_df[company_wanted_df['target_cusip']==''].shape"
   ]
  },
  {
   "cell_type": "code",
   "execution_count": null,
   "id": "937edfc2",
   "metadata": {},
   "outputs": [],
   "source": []
  }
 ],
 "metadata": {
  "kernelspec": {
   "display_name": "Python 3 (ipykernel)",
   "language": "python",
   "name": "python3"
  },
  "language_info": {
   "codemirror_mode": {
    "name": "ipython",
    "version": 3
   },
   "file_extension": ".py",
   "mimetype": "text/x-python",
   "name": "python",
   "nbconvert_exporter": "python",
   "pygments_lexer": "ipython3",
   "version": "3.11.3"
  }
 },
 "nbformat": 4,
 "nbformat_minor": 5
}
