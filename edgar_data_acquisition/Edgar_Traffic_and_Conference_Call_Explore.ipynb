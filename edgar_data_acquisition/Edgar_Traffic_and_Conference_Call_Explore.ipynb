{
 "cells": [
  {
   "cell_type": "code",
   "execution_count": 83,
   "id": "1391b0a4-1f53-4ffc-9324-252778ff812d",
   "metadata": {
    "tags": []
   },
   "outputs": [],
   "source": [
    "import pandas as pd\n",
    "from datetime import datetime\n",
    "import requests\n",
    "import zipfile\n",
    "import os\n",
    "import glob\n",
    "import time"
   ]
  },
  {
   "cell_type": "code",
   "execution_count": 84,
   "id": "a66d5207-34c2-4c24-8fa9-402eb881b592",
   "metadata": {
    "tags": []
   },
   "outputs": [],
   "source": [
    "edgar_traffic_df = pd.read_csv('log20220608.csv')"
   ]
  },
  {
   "cell_type": "code",
   "execution_count": 96,
   "id": "ad94f221-57b3-4058-ac0b-c3e294ec566e",
   "metadata": {
    "tags": []
   },
   "outputs": [],
   "source": [
    "url_list = ['https://www.sec.gov/dera/data/Public-EDGAR-log-file-data/2023/Qtr2/log20230512.zip',\n",
    "           'https://www.sec.gov/dera/data/Public-EDGAR-log-file-data/2022/Qtr4/log20221027.zip',\n",
    "            'https://www.sec.gov/dera/data/Public-EDGAR-log-file-data/2022/Qtr4/log20221028.zip',\n",
    "           'https://www.sec.gov/dera/data/Public-EDGAR-log-file-data/2021/Qtr3/log20210720.zip',\n",
    "           'https://www.sec.gov/dera/data/Public-EDGAR-log-file-data/2020/Qtr3/log20200715.zip',\n",
    "           'http://www.sec.gov/dera/data/Public-EDGAR-log-file-data/2015/Qtr2/log20150610.zip',\n",
    "           'http://www.sec.gov/dera/data/Public-EDGAR-log-file-data/2014/Qtr2/log20140624.zip',\n",
    "           'http://www.sec.gov/dera/data/Public-EDGAR-log-file-data/2013/Qtr3/log20130920.zip',\n",
    "           'http://www.sec.gov/dera/data/Public-EDGAR-log-file-data/2012/Qtr3/log20120919.zip']"
   ]
  },
  {
   "cell_type": "code",
   "execution_count": 97,
   "id": "b5e68552-1a18-49cb-a5ee-2be61741de7e",
   "metadata": {
    "tags": []
   },
   "outputs": [],
   "source": [
    "def download_and_unzip_Edgar_log_files(url):\n",
    "    headers = {\n",
    "        'User-Agent': 'James Jiang qiaojiang0114@gmail.com'\n",
    "    }\n",
    "    # Send a GET request to the URL\n",
    "    response = requests.get(url, headers = headers)\n",
    "    \n",
    "    filename = url.split('/')[-1].replace('.zip','')\n",
    "    \n",
    "    if response.status_code == 200:\n",
    "    # Open a file to save the downloaded content\n",
    "        with open(\"Edgar_Log_Files/\"+filename+\".zip\", \"wb\") as f:\n",
    "            f.write(response.content)\n",
    "        print(\"File downloaded successfully!\")\n",
    "    # Path to the zip file\n",
    "    zip_path = \"Edgar_Log_Files/\"+filename+\".zip\"\n",
    "    \n",
    "    # Path to the directory\n",
    "    directory_path = 'Edgar_Log_Files'\n",
    "    \n",
    "    with zipfile.ZipFile(zip_path, 'r') as zip_ref:\n",
    "        # Extract all the contents into the same directory as the zip file\n",
    "        zip_ref.extractall(os.path.dirname(zip_path))\n",
    "    \n",
    "    # List all files in the directory\n",
    "    for filename in os.listdir(directory_path):\n",
    "        # Check if the file is not a CSV file\n",
    "        if not filename.endswith('.csv'):\n",
    "            # Construct the full file path\n",
    "            file_path = os.path.join(directory_path, filename)\n",
    "            # Remove the file\n",
    "            os.remove(file_path)\n",
    "            print(f\"Removed {filename}\")\n",
    "    time.sleep(1)"
   ]
  },
  {
   "cell_type": "code",
   "execution_count": 98,
   "id": "0a3b7147-da1a-4a9a-8dd5-fde0bb3c50d1",
   "metadata": {
    "tags": []
   },
   "outputs": [
    {
     "name": "stdout",
     "output_type": "stream",
     "text": [
      "File downloaded successfully!\n",
      "Removed log20230512.zip\n",
      "File downloaded successfully!\n",
      "Removed log20221027.zip\n",
      "File downloaded successfully!\n",
      "Removed log20221028.zip\n"
     ]
    },
    {
     "ename": "FileNotFoundError",
     "evalue": "[Errno 2] No such file or directory: 'Edgar_Log_Files/log20220608.zip'",
     "output_type": "error",
     "traceback": [
      "\u001b[0;31m---------------------------------------------------------------------------\u001b[0m",
      "\u001b[0;31mFileNotFoundError\u001b[0m                         Traceback (most recent call last)",
      "Cell \u001b[0;32mIn[98], line 2\u001b[0m\n\u001b[1;32m      1\u001b[0m \u001b[38;5;28;01mfor\u001b[39;00m url \u001b[38;5;129;01min\u001b[39;00m url_list:\n\u001b[0;32m----> 2\u001b[0m     download_and_unzip_Edgar_log_files(url)\n",
      "Cell \u001b[0;32mIn[97], line 21\u001b[0m, in \u001b[0;36mdownload_and_unzip_Edgar_log_files\u001b[0;34m(url)\u001b[0m\n\u001b[1;32m     18\u001b[0m \u001b[38;5;66;03m# Path to the directory\u001b[39;00m\n\u001b[1;32m     19\u001b[0m directory_path \u001b[38;5;241m=\u001b[39m \u001b[38;5;124m'\u001b[39m\u001b[38;5;124mEdgar_Log_Files\u001b[39m\u001b[38;5;124m'\u001b[39m\n\u001b[0;32m---> 21\u001b[0m \u001b[38;5;28;01mwith\u001b[39;00m zipfile\u001b[38;5;241m.\u001b[39mZipFile(zip_path, \u001b[38;5;124m'\u001b[39m\u001b[38;5;124mr\u001b[39m\u001b[38;5;124m'\u001b[39m) \u001b[38;5;28;01mas\u001b[39;00m zip_ref:\n\u001b[1;32m     22\u001b[0m     \u001b[38;5;66;03m# Extract all the contents into the same directory as the zip file\u001b[39;00m\n\u001b[1;32m     23\u001b[0m     zip_ref\u001b[38;5;241m.\u001b[39mextractall(os\u001b[38;5;241m.\u001b[39mpath\u001b[38;5;241m.\u001b[39mdirname(zip_path))\n\u001b[1;32m     25\u001b[0m \u001b[38;5;66;03m# List all files in the directory\u001b[39;00m\n",
      "File \u001b[0;32m~/anaconda3/lib/python3.11/zipfile.py:1283\u001b[0m, in \u001b[0;36mZipFile.__init__\u001b[0;34m(self, file, mode, compression, allowZip64, compresslevel, strict_timestamps, metadata_encoding)\u001b[0m\n\u001b[1;32m   1281\u001b[0m \u001b[38;5;28;01mwhile\u001b[39;00m \u001b[38;5;28;01mTrue\u001b[39;00m:\n\u001b[1;32m   1282\u001b[0m     \u001b[38;5;28;01mtry\u001b[39;00m:\n\u001b[0;32m-> 1283\u001b[0m         \u001b[38;5;28mself\u001b[39m\u001b[38;5;241m.\u001b[39mfp \u001b[38;5;241m=\u001b[39m io\u001b[38;5;241m.\u001b[39mopen(file, filemode)\n\u001b[1;32m   1284\u001b[0m     \u001b[38;5;28;01mexcept\u001b[39;00m \u001b[38;5;167;01mOSError\u001b[39;00m:\n\u001b[1;32m   1285\u001b[0m         \u001b[38;5;28;01mif\u001b[39;00m filemode \u001b[38;5;129;01min\u001b[39;00m modeDict:\n",
      "\u001b[0;31mFileNotFoundError\u001b[0m: [Errno 2] No such file or directory: 'Edgar_Log_Files/log20220608.zip'"
     ]
    }
   ],
   "source": [
    "for url in url_list:\n",
    "    download_and_unzip_Edgar_log_files(url)"
   ]
  },
  {
   "cell_type": "code",
   "execution_count": 99,
   "id": "0f6a8fc5-8cda-4c69-b936-d3de31404a5c",
   "metadata": {
    "tags": []
   },
   "outputs": [],
   "source": [
    "edgar_log_files = glob.glob('Edgar_Log_Files/*.csv', recursive = True)\n",
    "edgar_log_files.sort()"
   ]
  },
  {
   "cell_type": "code",
   "execution_count": 105,
   "id": "83cf0789-590d-44c7-a15c-497641deee5d",
   "metadata": {
    "tags": []
   },
   "outputs": [
    {
     "data": {
      "text/plain": [
       "13"
      ]
     },
     "execution_count": 105,
     "metadata": {},
     "output_type": "execute_result"
    }
   ],
   "source": [
    "len(edgar_log_files)"
   ]
  },
  {
   "cell_type": "code",
   "execution_count": 100,
   "id": "0e8bc58a-ffd6-4b3f-8e4d-52b95045c117",
   "metadata": {
    "tags": []
   },
   "outputs": [
    {
     "name": "stdout",
     "output_type": "stream",
     "text": [
      "log20120919.csv ----- ['ip', 'date', 'time', 'zone', 'cik', 'accession', 'extention', 'code', 'size', 'idx', 'norefer', 'noagent', 'find', 'crawler', 'browser']\n",
      "log20130920.csv ----- ['ip', 'date', 'time', 'zone', 'cik', 'accession', 'extention', 'code', 'size', 'idx', 'norefer', 'noagent', 'find', 'crawler', 'browser']\n",
      "log20140624.csv ----- ['ip', 'date', 'time', 'zone', 'cik', 'accession', 'extention', 'code', 'size', 'idx', 'norefer', 'noagent', 'find', 'crawler', 'browser']\n",
      "log20150610.csv ----- ['ip', 'date', 'time', 'zone', 'cik', 'accession', 'extention', 'code', 'size', 'idx', 'norefer', 'noagent', 'find', 'crawler', 'browser']\n",
      "log20200715.csv ----- ['_time', 'uri_path']\n",
      "log20210720.csv ----- ['_time', 'uri_path']\n",
      "log20211027.csv ----- ['_time', 'uri_path']\n",
      "log20220607.csv ----- ['_time', 'uri_path']\n",
      "log20220608.csv ----- ['_time', 'uri_path']\n",
      "log20220609.csv ----- ['_time', 'uri_path']\n",
      "log20221027.csv ----- ['time', 'uri_path']\n",
      "log20221028.csv ----- ['time', 'uri_path']\n",
      "log20230512.csv ----- ['time', 'uri_path']\n"
     ]
    }
   ],
   "source": [
    "for file in edgar_log_files:\n",
    "    print(file.split('/')[-1],'-----',list(pd.read_csv(file, nrows = 5).columns))"
   ]
  },
  {
   "cell_type": "code",
   "execution_count": 101,
   "id": "10e1a519-9712-4acd-8e37-6e0f47b33071",
   "metadata": {
    "tags": []
   },
   "outputs": [
    {
     "name": "stdout",
     "output_type": "stream",
     "text": [
      "log20120919.csv ----- (7123541, 15)\n",
      "log20130920.csv ----- (7451279, 15)\n",
      "log20140624.csv ----- (9216014, 15)\n",
      "log20150610.csv ----- (13685965, 15)\n",
      "log20200715.csv ----- (2, 2)\n",
      "log20210720.csv ----- (731783, 2)\n",
      "log20211027.csv ----- (677720, 2)\n",
      "log20220607.csv ----- (2778089, 2)\n",
      "log20220608.csv ----- (2840161, 2)\n",
      "log20220609.csv ----- (2604366, 2)\n",
      "log20221027.csv ----- (4022674, 2)\n",
      "log20221028.csv ----- (3652825, 2)\n",
      "log20230512.csv ----- (3547251, 2)\n"
     ]
    }
   ],
   "source": [
    "for file in edgar_log_files:\n",
    "    print(file.split('/')[-1],'-----',pd.read_csv(file, low_memory = False).shape)"
   ]
  },
  {
   "cell_type": "code",
   "execution_count": 102,
   "id": "68860ddb-9bc5-440a-a998-2f0e8fcbd55b",
   "metadata": {
    "tags": []
   },
   "outputs": [
    {
     "name": "stdout",
     "output_type": "stream",
     "text": [
      "log20120919.csv ----- 0\n",
      "log20130920.csv ----- 0\n",
      "log20140624.csv ----- 0\n",
      "log20150610.csv ----- 0\n",
      "log20200715.csv ----- 0\n",
      "log20210720.csv ----- 5\n",
      "log20211027.csv ----- 38\n",
      "log20220607.csv ----- 3\n",
      "log20220608.csv ----- 7\n",
      "log20220609.csv ----- 7\n",
      "log20221027.csv ----- 204\n",
      "log20221028.csv ----- 315\n",
      "log20230512.csv ----- 102\n"
     ]
    }
   ],
   "source": [
    "for file in edgar_log_files:\n",
    "    df_temp = pd.read_csv(file, low_memory = False)\n",
    "    if 'cik' in df_temp.columns:\n",
    "        nrows = df_temp[df_temp['cik']==1639920].shape[0]\n",
    "    else:\n",
    "        nrows = len([x for x in df_temp['uri_path'] if '1639920' in str(x)])\n",
    "    print(file.split('/')[-1],'-----',nrows)"
   ]
  },
  {
   "cell_type": "code",
   "execution_count": 103,
   "id": "ff9c9a78-7f5d-4bd8-93d7-51f241bf6c4e",
   "metadata": {
    "tags": []
   },
   "outputs": [
    {
     "name": "stdout",
     "output_type": "stream",
     "text": [
      "log20120919.csv ----- 14076\n",
      "log20130920.csv ----- 21005\n",
      "log20140624.csv ----- 12201\n",
      "log20150610.csv ----- 20151\n",
      "log20200715.csv ----- 0\n",
      "log20210720.csv ----- 877\n",
      "log20211027.csv ----- 593\n",
      "log20220607.csv ----- 504\n",
      "log20220608.csv ----- 582\n",
      "log20220609.csv ----- 538\n",
      "log20221027.csv ----- 7763\n",
      "log20221028.csv ----- 6986\n",
      "log20230512.csv ----- 7017\n"
     ]
    }
   ],
   "source": [
    "for file in edgar_log_files:\n",
    "    df_temp = pd.read_csv(file, low_memory = False)\n",
    "    if 'cik' in df_temp.columns:\n",
    "        nrows = df_temp[df_temp['cik']==320193].shape[0]\n",
    "    else:\n",
    "        nrows = len([x for x in df_temp['uri_path'] if '320193' in str(x)])\n",
    "    print(file.split('/')[-1],'-----',nrows)"
   ]
  },
  {
   "cell_type": "code",
   "execution_count": null,
   "id": "c2aa12e3-8d3a-4b70-be57-dd0b2563b06d",
   "metadata": {},
   "outputs": [],
   "source": []
  }
 ],
 "metadata": {
  "kernelspec": {
   "display_name": "Python 3 (ipykernel)",
   "language": "python",
   "name": "python3"
  },
  "language_info": {
   "codemirror_mode": {
    "name": "ipython",
    "version": 3
   },
   "file_extension": ".py",
   "mimetype": "text/x-python",
   "name": "python",
   "nbconvert_exporter": "python",
   "pygments_lexer": "ipython3",
   "version": "3.11.3"
  }
 },
 "nbformat": 4,
 "nbformat_minor": 5
}
